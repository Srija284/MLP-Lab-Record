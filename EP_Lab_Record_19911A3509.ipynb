{
  "nbformat": 4,
  "nbformat_minor": 0,
  "metadata": {
    "colab": {
      "name": "EP Lab Record-19911A3509.ipynb",
      "provenance": [],
      "collapsed_sections": []
    },
    "kernelspec": {
      "name": "python3",
      "display_name": "Python 3"
    },
    "language_info": {
      "name": "python"
    }
  },
  "cells": [
    {
      "cell_type": "markdown",
      "metadata": {
        "id": "ratUqM_-fwPt"
      },
      "source": [
        "# **Exercise:1**"
      ]
    },
    {
      "cell_type": "markdown",
      "metadata": {
        "id": "6PNcTTjhqB4H"
      },
      "source": [
        "**a) Installation and Environment Setup of Python** "
      ]
    },
    {
      "cell_type": "markdown",
      "metadata": {
        "id": "4xrvMZWJf_8H"
      },
      "source": [
        "**b)** ***Write a program to demonstrate the use of basic data types***"
      ]
    },
    {
      "cell_type": "code",
      "metadata": {
        "colab": {
          "base_uri": "https://localhost:8080/"
        },
        "id": "HXsC2O-Ac9cF",
        "outputId": "5c09f215-8299-46b4-9dd6-5740399cf1d7"
      },
      "source": [
        "#INT\n",
        "a=int(input(\"enter num\"))\n",
        "b=int(input(\"enter num\"))\n",
        "c=a+b\n",
        "print(\"sum : \",c)\n",
        "print(type(c))\n",
        "print(\"\\n\\n\")\n",
        " \n",
        "#FLOAT\n",
        "a=float(input(\"enter num\"))\n",
        "b=float(input(\"enter num\"))\n",
        "c=a+b\n",
        "print(\"sum : \",c)\n",
        "print(type(c))\n",
        "print(\"\\n\\n\")\n",
        " \n",
        "#COMPLEX\n",
        "a=complex(input(\"enter num\"))\n",
        "b=complex(input(\"enter num\"))\n",
        "c=a+b\n",
        "print(\"sum : \",c)\n",
        "print(type(c))\n",
        "print(\"\\n\\n\")\n",
        " \n",
        "#BOOLEAN\n",
        "print(5 > 9)\n",
        "print(4 == 5)\n",
        "print(4 < 5)\n",
        "print(\"\\n\\n\")\n",
        " \n",
        "#STRINGS\n",
        "my_string = \"\"\"Hello, I'm Srija \"\"\"\n",
        "print(my_string)\n",
        "print(my_string[0:5])\n",
        "print(\"length of the string:\",len(my_string))\n",
        "print(type(my_string))\n",
        "print(\"\\n\\n\")\n",
        " \n",
        "#LIST\n",
        "my_list = ['a','b','c','d','e']\n",
        "print(my_list)\n",
        "print(my_list[2])\n",
        "print(my_list[0:3])\n",
        "print(type(my_list))\n",
        "print(\"\\n\\n\")\n",
        " \n",
        "#TUPLE\n",
        "tup=('srija','jessy','gowthami','suma','snigdha','priya')\n",
        "print(tup)\n",
        "print(tup[2])\n",
        "print(tup[1:4])\n",
        "print(type(tup))\n",
        "print(\"\\n\\n\")\n",
        " \n",
        "#SET\n",
        "my_set = {1,2,2,3,4}\n",
        "print(my_set)\n",
        "my_set=set([1,2, 2, 3, 4])\n",
        "print(type(my_set))\n",
        "my_set.remove(3)\n",
        "print(my_set)\n",
        "my_set.pop()\n",
        "print(my_set)\n",
        "print(\"\\n\\n\")\n",
        " \n",
        "#DICTIONARY\n",
        "my_dict = {'car': 'hyundai', 'price': 190000}\n",
        "print(my_dict)\n",
        "print(my_dict['car'])\n",
        "print(my_dict.get('price'))\n",
        "print(type(my_dict))"
      ],
      "execution_count": null,
      "outputs": [
        {
          "output_type": "stream",
          "text": [
            "enter num5\n",
            "enter num3\n",
            "sum :  8\n",
            "<class 'int'>\n",
            "\n",
            "\n",
            "\n",
            "enter num5\n",
            "enter num5\n",
            "sum :  10.0\n",
            "<class 'float'>\n",
            "\n",
            "\n",
            "\n",
            "enter num5\n",
            "enter num5\n",
            "sum :  (10+0j)\n",
            "<class 'complex'>\n",
            "\n",
            "\n",
            "\n",
            "False\n",
            "False\n",
            "True\n",
            "\n",
            "\n",
            "\n",
            "Hello, I'm Srija \n",
            "Hello\n",
            "length of the string: 17\n",
            "<class 'str'>\n",
            "\n",
            "\n",
            "\n",
            "['a', 'b', 'c', 'd', 'e']\n",
            "c\n",
            "['a', 'b', 'c']\n",
            "<class 'list'>\n",
            "\n",
            "\n",
            "\n",
            "('srija', 'jessy', 'gowthami', 'suma', 'snigdha', 'priya')\n",
            "gowthami\n",
            "('jessy', 'gowthami', 'suma')\n",
            "<class 'tuple'>\n",
            "\n",
            "\n",
            "\n",
            "{1, 2, 3, 4}\n",
            "<class 'set'>\n",
            "{1, 2, 4}\n",
            "{2, 4}\n",
            "\n",
            "\n",
            "\n",
            "{'car': 'hyundai', 'price': 190000}\n",
            "hyundai\n",
            "190000\n",
            "<class 'dict'>\n"
          ],
          "name": "stdout"
        }
      ]
    },
    {
      "cell_type": "markdown",
      "metadata": {
        "id": "upsnj0L9cboY"
      },
      "source": [
        "**c)** ***Write a program to demonstrate the operators and expressions***"
      ]
    },
    {
      "cell_type": "code",
      "metadata": {
        "colab": {
          "base_uri": "https://localhost:8080/"
        },
        "id": "vqVB1D6hcUHX",
        "outputId": "de88dc6b-3e63-4a67-dc66-d515fadb6a33"
      },
      "source": [
        "#OPERATORS\n",
        "#a)Arithmetic operators\n",
        "a = int(input(\"Enter a number\"))\n",
        "b = int(input(\"Enter a number\"))\n",
        "print(\"Addition of a and b:\",a+b)\n",
        "print(\"Subtraction of a and b:\",a-b)\n",
        "print(\"Multiplication of a and b:\",a*b)\n",
        "print(\"Division of a and b:\",a/b)\n",
        "print(\"Modulus of a and b:\",a%b)\n",
        "print(\"Floor division of a and b:\",a//b)\n",
        "print(\"a power b:\",a**b)\n",
        "print(\"\\n\\n\")\n",
        "\n",
        "#b)Assignment operators\n",
        "print(\"a+b = \",a+b)\n",
        "print(\"a-b = \",a-b)\n",
        "print(\"a*b = \",a*b)\n",
        "print(\"a/b = \",a/b)\n",
        "print(\"a%b = \",a%b)\n",
        "print(\"a//b = \",a//b)\n",
        "print(\"a**b = \",a**b)\n",
        "print(\"\\n\\n\")\n",
        "\n",
        "#c)Comparision operators\n",
        "print(a > b)\n",
        "print(a < b)\n",
        "print(a == b)\n",
        "print(a != b)\n",
        "print(a >= b)\n",
        "print(a <= b)\n",
        "print(\"\\n\\n\")\n",
        "\n",
        "#Bitwise Operators\n",
        "a =int(input(\"Enter a number\"))\n",
        "b =int(input(\"Enter a number\"))\n",
        "print(\"a & b =\", a & b)\n",
        "print(\"a | b =\", a | b)\n",
        "print(\"~a =\", ~a)\n",
        "print(\"a ^ b =\", a ^ b)\n",
        "print(\"a >> 1 =\", a >> 1)\n",
        "print(\"a << 1 =\", a << 1)\n",
        "print(\"\\n\\n\")\n",
        "\n",
        "#e)Identity operators\n",
        "print(a is not b) \n",
        "print(a is b)\n",
        "print(\"\\n\\n\")\n",
        "\n",
        "\n",
        "#f)Logical operators\n",
        "A=True\n",
        "B=False\n",
        "print(A and B)\n",
        "print(A or B)\n",
        "print(not A)\n",
        "print(not B)\n",
        "print(\"\\n\\n\")\n",
        "\n",
        "\n",
        "#g)Membership operators\n",
        "x = 'Hello, I am Srija'\n",
        "print('H' in x)\n",
        "print('of' not in x)"
      ],
      "execution_count": null,
      "outputs": [
        {
          "output_type": "stream",
          "text": [
            "Enter a number5\n",
            "Enter a number2\n",
            "Addition of a and b: 7\n",
            "Subtraction of a and b: 3\n",
            "Multiplication of a and b: 10\n",
            "Division of a and b: 2.5\n",
            "Modulus of a and b: 1\n",
            "Floor division of a and b: 2\n",
            "a power b: 25\n",
            "\n",
            "\n",
            "\n",
            "a+b =  7\n",
            "a-b =  3\n",
            "a*b =  10\n",
            "a/b =  2.5\n",
            "a%b =  1\n",
            "a//b =  2\n",
            "a**b =  25\n",
            "\n",
            "\n",
            "\n",
            "True\n",
            "False\n",
            "False\n",
            "True\n",
            "True\n",
            "False\n",
            "\n",
            "\n",
            "\n",
            "Enter a number5\n",
            "Enter a number8\n",
            "a & b = 0\n",
            "a | b = 13\n",
            "~a = -6\n",
            "a ^ b = 13\n",
            "a >> 1 = 2\n",
            "a << 1 = 10\n",
            "\n",
            "\n",
            "\n",
            "True\n",
            "False\n",
            "\n",
            "\n",
            "\n",
            "False\n",
            "True\n",
            "False\n",
            "True\n",
            "\n",
            "\n",
            "\n",
            "True\n",
            "True\n"
          ],
          "name": "stdout"
        }
      ]
    },
    {
      "cell_type": "markdown",
      "metadata": {
        "id": "WmD-WLv1m0_l"
      },
      "source": [
        "**d)** ***python program to demonstrate functions and parameter passing techniques***"
      ]
    },
    {
      "cell_type": "code",
      "metadata": {
        "colab": {
          "base_uri": "https://localhost:8080/"
        },
        "id": "1rXLne1nm-5g",
        "outputId": "2dc46fe8-e7c2-492c-a61f-2e10edb3b4ba"
      },
      "source": [
        "#function without any parameters\n",
        "print(\"function without any parameters\")\n",
        "def fun():\n",
        "  print(\"Hi!I'm Srija\")\n",
        "fun()\n",
        "print(\"\\n\\n\")\n",
        "#function with parameters\n",
        "print(\"function with parameters\")\n",
        "def fun(name):\n",
        "  print(\"Hi!I'm \"+name)\n",
        "fun(\"Srija\")\n",
        "print(\"\\n\\n\")\n",
        "#keyword arguments\n",
        "print(\"KEYWORD ARGUMENTS\")\n",
        "def keyarg(name, branch):\n",
        "    print(\"name = \" , name)\n",
        "    print(\"branch = \", branch )\n",
        "keyarg(branch='AI', name=\"Srija\")\n",
        "print(\"\\n\\n\")\n",
        "#Default arguments\n",
        "print(\"DEFAULT ARGUMENTS\")\n",
        "def defaultarg(name, branch='AI'):\n",
        "    print(\"name = \" , name)\n",
        "    print(\"age = \", branch )\n",
        "defaultarg (name= \"jessy\", branch='AI')\n",
        "defaultarg (name=\"Srija\")\n",
        "print(\"\\n\\n\")"
      ],
      "execution_count": null,
      "outputs": [
        {
          "output_type": "stream",
          "text": [
            "function without any parameters\n",
            "Hi!I'm Srija\n",
            "\n",
            "\n",
            "\n",
            "function with parameters\n",
            "Hi!I'm Srija\n",
            "\n",
            "\n",
            "\n",
            "KEYWORD ARGUMENTS\n",
            "name =  Srija\n",
            "branch =  AI\n",
            "\n",
            "\n",
            "\n",
            "DEFAULT ARGUMENTS\n",
            "name =  jessy\n",
            "age =  AI\n",
            "name =  Srija\n",
            "age =  AI\n",
            "\n",
            "\n",
            "\n"
          ],
          "name": "stdout"
        }
      ]
    },
    {
      "cell_type": "markdown",
      "metadata": {
        "id": "tRtXadcHyGqV"
      },
      "source": [
        "# **Exercise:2**"
      ]
    },
    {
      "cell_type": "markdown",
      "metadata": {
        "id": "QubJ15p4yNSD"
      },
      "source": [
        "**a)** **Write a program to implement**\n",
        "\n",
        "1.   **packages**\n",
        "2.   **modules**\n",
        "\n",
        "1.   **built-in**\n",
        "\n",
        "\n",
        "\n",
        "\n",
        "\n",
        "\n",
        "\n",
        "\n",
        "\n",
        "\n"
      ]
    },
    {
      "cell_type": "markdown",
      "metadata": {
        "id": "Hg7uuMOgzhEo"
      },
      "source": [
        "### 1.PACKAGES"
      ]
    },
    {
      "cell_type": "code",
      "metadata": {
        "colab": {
          "base_uri": "https://localhost:8080/"
        },
        "id": "eXzAM0EhzLAY",
        "outputId": "c7f53eee-ec13-4445-f684-3387d64e71b3"
      },
      "source": [
        "pip install sympy"
      ],
      "execution_count": null,
      "outputs": [
        {
          "output_type": "stream",
          "text": [
            "Requirement already satisfied: sympy in /usr/local/lib/python3.7/dist-packages (1.7.1)\n",
            "Requirement already satisfied: mpmath>=0.19 in /usr/local/lib/python3.7/dist-packages (from sympy) (1.2.1)\n"
          ],
          "name": "stdout"
        }
      ]
    },
    {
      "cell_type": "code",
      "metadata": {
        "colab": {
          "base_uri": "https://localhost:8080/",
          "height": 400
        },
        "id": "hgxYALWuvmP4",
        "outputId": "27c22035-31c4-4603-c7f9-620eb3b54cb8"
      },
      "source": [
        "#Numpy\n",
        "import numpy as np\n",
        "arr = np.array([1, 2, 3, 4, 5])\n",
        "print(arr)\n",
        "print(arr[1])\n",
        "print(arr[2] + arr[3])\n",
        "print(arr[1:5])\n",
        "print(type(arr))\n",
        "print(arr.shape)\n",
        "print(\"\\n\\n\")\n",
        "\n",
        "#Pandas\n",
        "import pandas as pd\n",
        "student_details = {\n",
        "  \"names\":  [\"srija\", \"jessy\", \"gowthami\"],\n",
        "  \"age\": [17,18,19]\n",
        "}\n",
        "df = pd.DataFrame(student_details, index = [\"student1\",\"student2\",\"student3\"])\n",
        "print(df) \n",
        "print(\"\\n\\n\")\n",
        "\n",
        "#SymPy\n",
        "import math\n",
        "print (math.sqrt(25))\n",
        "print(\"\\n\")\n",
        "from sympy import * \n",
        "x=Symbol ('x') \n",
        "expr = integrate(x**x, x) \n",
        "expr"
      ],
      "execution_count": null,
      "outputs": [
        {
          "output_type": "stream",
          "text": [
            "[1 2 3 4 5]\n",
            "2\n",
            "7\n",
            "[2 3 4 5]\n",
            "<class 'numpy.ndarray'>\n",
            "(5,)\n",
            "\n",
            "\n",
            "\n",
            "             names  age\n",
            "student1     srija   17\n",
            "student2     jessy   18\n",
            "student3  gowthami   19\n",
            "\n",
            "\n",
            "\n",
            "5.0\n",
            "\n",
            "\n"
          ],
          "name": "stdout"
        },
        {
          "output_type": "execute_result",
          "data": {
            "text/latex": "$\\displaystyle \\int x^{x}\\, dx$",
            "text/plain": [
              "Integral(x**x, x)"
            ]
          },
          "metadata": {
            "tags": []
          },
          "execution_count": 97
        }
      ]
    },
    {
      "cell_type": "code",
      "metadata": {
        "id": "55_2_6E9vlw-"
      },
      "source": [
        ""
      ],
      "execution_count": null,
      "outputs": []
    },
    {
      "cell_type": "markdown",
      "metadata": {
        "id": "kKxnmQxYLhZD"
      },
      "source": [
        "3.BUILT-IN FUNCTIONS"
      ]
    },
    {
      "cell_type": "code",
      "metadata": {
        "colab": {
          "base_uri": "https://localhost:8080/"
        },
        "id": "2yj72MT1Ll76",
        "outputId": "b60d5ff7-58b6-4375-821d-1374ee4a2599"
      },
      "source": [
        "#Binary\n",
        "a=int(input(\"Enter a number: \"))\n",
        "print(\"Binary Equalent of a\", bin(a))\n",
        "print(\"\\n\\n\")\n",
        "#Quotient and remainder\n",
        "a=int(input(\"Enter a number: \"))\n",
        "b=int(input(\"Enter a number: \"))\n",
        "print(\"Quotient and remainder of a/b = \" , divmod(a,b))\n",
        "print(\"\\n\\n\")\n",
        "#length\n",
        "x=str(input(\"enter any string:\"))\n",
        "print(\"Length of x:\",len(x))\n",
        "print(\"\\n\\n\")\n",
        "#Float\n",
        "a=input(\"enter a number:\")\n",
        "print(\"float value of a = \", float(a))\n",
        "print(\"\\n\\n\")\n",
        "#Int\n",
        "a=input(\"enter a number:\")\n",
        "print(\"int value of a =\", int(a))\n",
        "print(\"\\n\\n\")\n",
        "#Max\n",
        "a=int(input(\"Enter a number: \"))\n",
        "b=int(input(\"Enter a number: \"))\n",
        "print(\"Maximum of a,b = \", max(a,b))\n",
        "print(\"\\n\\n\")\n",
        "#Min\n",
        "a=int(input(\"Enter a number: \"))\n",
        "b=int(input(\"Enter a number: \"))\n",
        "print(\"Minimum of a,b = \", min(a,b))\n",
        "print(\"\\n\\n\")\n",
        "#Power\n",
        "a=int(input(\"Enter a number: \"))\n",
        "b=int(input(\"Enter a number: \"))\n",
        "print(\"a power b = \", pow(a,b))\n",
        "print(\"\\n\\n\")\n",
        "#Evaluate\n",
        "x=int(input(\"Enter a number: \"))\n",
        "print(\"Evaluate value of x**2 = \",eval('x**2'))\n",
        "print(\"\\n\\n\")\n",
        "import math\n",
        "#Square root\n",
        "a=int(input(\"Enter a number: \"))\n",
        "print(\"Square root of a = \" ,math.sqrt(a))\n"
      ],
      "execution_count": null,
      "outputs": [
        {
          "output_type": "stream",
          "text": [
            "Enter a number: 2\n",
            "Binary Equalent of a 0b10\n",
            "\n",
            "\n",
            "\n",
            "Enter a number: 4\n",
            "Enter a number: 4\n",
            "Quotient and remainder of a/b =  (1, 0)\n",
            "\n",
            "\n",
            "\n",
            "enter any string:srija\n",
            "Length of x: 5\n",
            "\n",
            "\n",
            "\n",
            "enter a number:6\n",
            "float value of a =  6.0\n",
            "\n",
            "\n",
            "\n",
            "enter a number:66\n",
            "int value of a = 66\n",
            "\n",
            "\n",
            "\n",
            "Enter a number: 2\n",
            "Enter a number: 7\n",
            "Maximum of a,b =  7\n",
            "\n",
            "\n",
            "\n",
            "Enter a number: 4\n",
            "Enter a number: 5\n",
            "Minimum of a,b =  4\n",
            "\n",
            "\n",
            "\n",
            "Enter a number: 3\n",
            "Enter a number: 8\n",
            "a power b =  6561\n",
            "\n",
            "\n",
            "\n",
            "Enter a number: 3\n",
            "Evaluate value of x**2 =  9\n",
            "\n",
            "\n",
            "\n",
            "Enter a number: 3\n",
            "Square root of a =  1.7320508075688772\n"
          ],
          "name": "stdout"
        }
      ]
    },
    {
      "cell_type": "markdown",
      "metadata": {
        "id": "CUPbz3gxzn9J"
      },
      "source": [
        "**b)** **Write a program to implement**\n",
        "\n",
        "1.   **list**\n",
        "2.   **tuple**\n",
        "\n",
        "1.   **dictionaries**\n",
        "\n",
        "\n",
        "\n",
        "\n",
        "\n"
      ]
    },
    {
      "cell_type": "code",
      "metadata": {
        "colab": {
          "base_uri": "https://localhost:8080/"
        },
        "id": "22djHz_xz9W7",
        "outputId": "6acbd6ba-90b1-4390-c6d3-b234d072e2ab"
      },
      "source": [
        "#1)list\n",
        "print(\"LIST\")\n",
        "my_list = ['a','b','c','d','e']\n",
        "print(my_list)\n",
        "print(my_list[2])\n",
        "print(my_list[-1])\n",
        "print(my_list[1:5])\n",
        "print(my_list[ :3])\n",
        "my_list[1]='i'\n",
        "print(my_list)\n",
        "my_list.append('apple')\n",
        "print(my_list)\n",
        "my_list.pop()\n",
        "print(my_list)\n",
        "print(type(my_list))\n",
        "x=my_list.count(3)\n",
        "print(x)\n",
        "print(\"\\n\\n\")\n",
        "\n",
        "#2)Tuple\n",
        "print(\"TUPLE\")\n",
        "tup=('apple','banana','cat','dog','egg')\n",
        "tup1=(5,6,2)\n",
        "tup2=(1,8)\n",
        "print(tup)\n",
        "print(len(tup))\n",
        "print(tup[0])\n",
        "print(tup[1:4])\n",
        "print(tup[:-2])\n",
        "y=list(tup)\n",
        "y.remove(\"apple\")\n",
        "tup=tuple(y)\n",
        "if (tup1>tup2):\n",
        "  print( \"tup1 is bigger\")\n",
        "else: \n",
        "  print(\"tup2 is bigger\")\n",
        "tup3=tup1+tup2\n",
        "print(tup3)\n",
        "print(type(tup))\n",
        "print(\"\\n\\n\")\n",
        "\n",
        "#3)DICTIONARY\n",
        "print(\"DICTIONARY\")\n",
        "my_dict = {'name': 'srija', 'age': 18}\n",
        "print(my_dict)\n",
        "print(my_dict['name'])\n",
        "print(my_dict.get('age'))\n",
        "my_dict.update({'Branch':'Aie'})\n",
        "print(my_dict)\n",
        "my_dict['age']='20'\n",
        "print(my_dict)\n",
        "my_dict.pop(\"age\")\n",
        "print(my_dict)\n",
        "print(type(my_dict))"
      ],
      "execution_count": null,
      "outputs": [
        {
          "output_type": "stream",
          "text": [
            "LIST\n",
            "['a', 'b', 'c', 'd', 'e']\n",
            "c\n",
            "e\n",
            "['b', 'c', 'd', 'e']\n",
            "['a', 'b', 'c']\n",
            "['a', 'i', 'c', 'd', 'e']\n",
            "['a', 'i', 'c', 'd', 'e', 'apple']\n",
            "['a', 'i', 'c', 'd', 'e']\n",
            "<class 'list'>\n",
            "0\n",
            "\n",
            "\n",
            "\n",
            "TUPLE\n",
            "('apple', 'banana', 'cat', 'dog', 'egg')\n",
            "5\n",
            "apple\n",
            "('banana', 'cat', 'dog')\n",
            "('apple', 'banana', 'cat')\n",
            "tup1 is bigger\n",
            "(5, 6, 2, 1, 8)\n",
            "<class 'tuple'>\n",
            "\n",
            "\n",
            "\n",
            "DICTIONARY\n",
            "{'name': 'srija', 'age': 18}\n",
            "srija\n",
            "18\n",
            "{'name': 'srija', 'age': 18, 'Branch': 'Aie'}\n",
            "{'name': 'srija', 'age': '20', 'Branch': 'Aie'}\n",
            "{'name': 'srija', 'Branch': 'Aie'}\n",
            "<class 'dict'>\n"
          ],
          "name": "stdout"
        }
      ]
    },
    {
      "cell_type": "markdown",
      "metadata": {
        "id": "dH5phxmK4MY4"
      },
      "source": [
        "**c)** ***Program on Strings,string operations and regular expression***"
      ]
    },
    {
      "cell_type": "code",
      "metadata": {
        "colab": {
          "base_uri": "https://localhost:8080/"
        },
        "id": "yY4_6NR44eZg",
        "outputId": "7ef03dc3-09c6-4b3c-a8d6-83079fa50194"
      },
      "source": [
        "#1)Strings\n",
        "my_string = \"Hello, I'm srija\"\n",
        "print(my_string)\n",
        "print(my_string[3])\n",
        "print(my_string[-5])\n",
        "print(my_string[0:6])\n",
        "print(my_string[2:])\n",
        "print(my_string[:-6])\n",
        "print(\"\\n\")\n",
        "print(\"STRING OPERATIONS\")\n",
        "s=\"Hi I'm Srija and I'm from artificial intelligence\"\n",
        "t=\"Hi\"\n",
        "print(len(str(s)))\n",
        "print(s.capitalize())\n",
        "print(s.istitle())\n",
        "print(s.isupper())\n",
        "print(s.islower())\n",
        "print(s.count('i'))\n",
        "print(s.index(\"f\"))\n",
        "print(s.find(\"from\"))\n",
        "print(s.join(t))\n",
        "print(s.replace(\"and\",\"&\"))\n",
        "print(\"\\n\\n\")\n",
        "\n",
        "#2)Regular expression\n",
        "\n",
        "print(\"Regular Expression\")\n",
        "import re\n",
        "p = re.compile('\\d')\n",
        "print(p.findall(\"Hi! Iam Srija, born in 2002,and my age is 19\"))"
      ],
      "execution_count": null,
      "outputs": [
        {
          "output_type": "stream",
          "text": [
            "Hello, I'm srija\n",
            "l\n",
            "s\n",
            "Hello,\n",
            "llo, I'm srija\n",
            "Hello, I'm\n",
            "\n",
            "\n",
            "STRING OPERATIONS\n",
            "49\n",
            "Hi i'm srija and i'm from artificial intelligence\n",
            "False\n",
            "False\n",
            "False\n",
            "7\n",
            "21\n",
            "21\n",
            "HHi I'm Srija and I'm from artificial intelligencei\n",
            "Hi I'm Srija & I'm from artificial intelligence\n",
            "\n",
            "\n",
            "\n",
            "Regular Expression\n",
            "['2', '0', '0', '2', '1', '9']\n"
          ],
          "name": "stdout"
        }
      ]
    },
    {
      "cell_type": "markdown",
      "metadata": {
        "id": "PdWKwpBOA3WU"
      },
      "source": [
        "# **Exercise:3**"
      ]
    },
    {
      "cell_type": "markdown",
      "metadata": {
        "id": "NTP28_wAA7S2"
      },
      "source": [
        "**a)** ***Write a program to implement Class and Object***"
      ]
    },
    {
      "cell_type": "code",
      "metadata": {
        "colab": {
          "base_uri": "https://localhost:8080/"
        },
        "id": "l1h0Nfq6BGQW",
        "outputId": "ac60e0b8-d92e-4a36-897a-e657d5535a35"
      },
      "source": [
        "#classes and objects without constructor\n",
        "print(\"WITHOUT CONSTRUCTOR\")\n",
        "class car():\n",
        "  pass\n",
        "honda=car()\n",
        "tata=car()\n",
        "honda.modelname='city'\n",
        "honda.year=2017\n",
        "honda.price=100000\n",
        "tata.modelname='bolt'\n",
        "tata.year=2015\n",
        "tata.price=210000\n",
        "print(honda.year)\n",
        "#classes and objects with constructor\n",
        "print(\"WITH CONSTRUCTOR\")\n",
        "class car():\n",
        "  def __init__(self,modelname,year,price):\n",
        "    self.modelname=modelname\n",
        "    self.year=year\n",
        "    self.price=price\n",
        "honda=car('city',2017,100000)\n",
        "tata=car('bolt',2015,210000)\n",
        "print(honda.price)"
      ],
      "execution_count": null,
      "outputs": [
        {
          "output_type": "stream",
          "text": [
            "WITHOUT CONSTRUCTOR\n",
            "2017\n",
            "WITH CONSTRUCTOR\n",
            "100000\n"
          ],
          "name": "stdout"
        }
      ]
    },
    {
      "cell_type": "markdown",
      "metadata": {
        "id": "gXnztwLWCufY"
      },
      "source": [
        "**b)** ***Write a program to implement static and instance methods,Abstract classes and interfaces***"
      ]
    },
    {
      "cell_type": "code",
      "metadata": {
        "colab": {
          "base_uri": "https://localhost:8080/"
        },
        "id": "ANr8CLps9z4J",
        "outputId": "3d1df835-2052-46eb-f0b6-4f8044e50fd8"
      },
      "source": [
        "print(\"STATIC AND INSTANCE METHODS\")\n",
        "#static method\n",
        "class Number():\n",
        "    @staticmethod\n",
        "    def even(x):\n",
        "        if x % 2 == 0:\n",
        "            return True\n",
        "        else:\n",
        "            return False\n",
        "print(Number.even(38))\n",
        "#instance method\n",
        "class car():\n",
        "    def __init__(self, name):\n",
        "        self.name = name\t\t\n",
        "    def display(self):\n",
        "        return self.name\n",
        "car1=car(\"honda\")\n",
        "car2=car(\"tata\")\n",
        "print(car1.display())\n",
        "print(car2.display())\n",
        "print(\"\\n\\n\")\n",
        "\n",
        "#abstract class\n",
        "print(\"ABSTRACT CLASS\")\n",
        "from abc import ABC,abstractmethod\n",
        "class shape(ABC):\n",
        "  @abstractmethod\n",
        "  def no_of_sides(self):\n",
        "    pass\n",
        "class circle(shape):\n",
        "  def no_of_sides(self):\n",
        "    print(\"no sides\")\n",
        "class square(shape):\n",
        "  def no_of_sides(self):\n",
        "    print(\"4 sides\")\n",
        "class triangle(shape):\n",
        "  def no_of_sides(self):\n",
        "    print(\"3 sides\")\n",
        "a=circle()\n",
        "a.no_of_sides()\n",
        "b=square()\n",
        "b.no_of_sides()\n",
        "c=triangle()\n",
        "c.no_of_sides()"
      ],
      "execution_count": null,
      "outputs": [
        {
          "output_type": "stream",
          "text": [
            "STATIC AND INSTANCE METHODS\n",
            "True\n",
            "honda\n",
            "tata\n",
            "\n",
            "\n",
            "\n",
            "ABSTRACT CLASS\n",
            "no sides\n",
            "4 sides\n",
            "3 sides\n"
          ],
          "name": "stdout"
        }
      ]
    },
    {
      "cell_type": "markdown",
      "metadata": {
        "id": "VE-e5fRYNBOB"
      },
      "source": [
        "**c)** **Write a program to compute distance between two points taking input from the user(pythagorean theorm)**"
      ]
    },
    {
      "cell_type": "code",
      "metadata": {
        "colab": {
          "base_uri": "https://localhost:8080/"
        },
        "id": "UqTS26_yNrYZ",
        "outputId": "b111cda0-2d65-479c-813c-5803fb91d243"
      },
      "source": [
        "x1=int(input(\"enter x1 : \"))\n",
        "x2=int(input(\"enter x2 : \"))\n",
        "y1=int(input(\"enter y1 : \"))\n",
        "y2=int(input(\"enter y2 : \"))\n",
        "result= ((((x2 - x1 )**2) + ((y2-y1)**2) )**0.5)\n",
        "print(\"distance between\",(x1,x2),\"and\",(y1,y2),\"is : \",result)"
      ],
      "execution_count": null,
      "outputs": [
        {
          "output_type": "stream",
          "text": [
            "enter x1 : 6\n",
            "enter x2 : 6\n",
            "enter y1 : 4\n",
            "enter y2 : 2\n",
            "distance between (6, 6) and (4, 2) is :  2.0\n"
          ],
          "name": "stdout"
        }
      ]
    },
    {
      "cell_type": "markdown",
      "metadata": {
        "id": "zzJbp00FOB4R"
      },
      "source": [
        "# **Exercise:4**"
      ]
    },
    {
      "cell_type": "markdown",
      "metadata": {
        "id": "ioqyxOEtOJYC"
      },
      "source": [
        "**a)** **Write a program to implement inheritence and polymorphism**"
      ]
    },
    {
      "cell_type": "code",
      "metadata": {
        "colab": {
          "base_uri": "https://localhost:8080/"
        },
        "id": "EjRLMxX0OWBU",
        "outputId": "3876533b-dcd2-467f-be04-16924049c238"
      },
      "source": [
        "#1.)INHERITENCE\n",
        "print(\"INHERITENCE\")\n",
        "class Student:\n",
        "  def __init__(self, fname, lname):\n",
        "    self.firstname = fname\n",
        "    self.lastname = lname\n",
        "  def details(self):\n",
        "    print(self.firstname, self.lastname)\n",
        "x = Student(\"Srija\", \"Chennoju\")\n",
        "x.details()\n",
        "print(\"\\n\\n\")\n",
        "#2.)polymorphism\n",
        "print(\"POLYMORPHISM\")\n",
        "#overriding a variable\n",
        "class parent:\n",
        "    name=\"srija\"\n",
        "class child(parent):\n",
        "    name=\"chennoju\"#overriding is done here\n",
        "ob=child()\n",
        "ob.name\n",
        "#overriding a method\n",
        "class parent:\n",
        "    def name(self):\n",
        "        return 0\n",
        "class child(parent):\n",
        "    def name(self):\n",
        "        return 1#overriding is done here\n",
        "ob=child()\n",
        "print(ob.name())\n",
        "ob=parent()\n",
        "print(ob.name())"
      ],
      "execution_count": null,
      "outputs": [
        {
          "output_type": "stream",
          "text": [
            "INHERITENCE\n",
            "Srija Chennoju\n",
            "\n",
            "\n",
            "\n",
            "POLYMORPHISM\n",
            "1\n",
            "0\n"
          ],
          "name": "stdout"
        }
      ]
    },
    {
      "cell_type": "markdown",
      "metadata": {
        "id": "q_hFGr51RboN"
      },
      "source": [
        "**b)** **Write a program to implement files**"
      ]
    },
    {
      "cell_type": "markdown",
      "metadata": {
        "id": "Mb7CZWHVSdNG"
      },
      "source": [
        "1)FILE ATTRIBUTES"
      ]
    },
    {
      "cell_type": "code",
      "metadata": {
        "id": "QZQSUh-eRkG0",
        "colab": {
          "base_uri": "https://localhost:8080/"
        },
        "outputId": "c13169f6-e4ed-445e-8c16-0b31c54da50f"
      },
      "source": [
        "file=open(\"/content/drive/MyDrive/Colab Notebooks/StudentsPerformance.csv\",\"r\")\n",
        "print(\"Name of the file:\",file.name)\n",
        "print(\"File open status:\",file.closed)\n",
        "print(\"File opened mode:\",file.mode)\n",
        "print(\"Content in the file:\")\n",
        "print(file.read())\n",
        "file.close()\n",
        "print(\"File open status:\",file.closed)"
      ],
      "execution_count": null,
      "outputs": [
        {
          "output_type": "stream",
          "text": [
            "Name of the file: /content/drive/MyDrive/Colab Notebooks/StudentsPerformance.csv\n",
            "File open status: False\n",
            "File opened mode: r\n",
            "Content in the file:\n",
            "\"gender\",\"race/ethnicity\",\"parental level of education\",\"lunch\",\"test preparation course\",\"math score\",\"reading score\",\"writing score\"\n",
            "\"female\",\"group B\",\"bachelor's degree\",\"standard\",\"none\",\"72\",\"72\",\"74\"\n",
            "\"female\",\"group C\",\"some college\",\"standard\",\"completed\",\"69\",\"90\",\"88\"\n",
            "\"female\",\"group B\",\"master's degree\",\"standard\",\"none\",\"90\",\"95\",\"93\"\n",
            "\"male\",\"group A\",\"associate's degree\",\"free/reduced\",\"none\",\"47\",\"57\",\"44\"\n",
            "\"male\",\"group C\",\"some college\",\"standard\",\"none\",\"76\",\"78\",\"75\"\n",
            "\"female\",\"group B\",\"associate's degree\",\"standard\",\"none\",\"71\",\"83\",\"78\"\n",
            "\"female\",\"group B\",\"some college\",\"standard\",\"completed\",\"88\",\"95\",\"92\"\n",
            "\"male\",\"group B\",\"some college\",\"free/reduced\",\"none\",\"40\",\"43\",\"39\"\n",
            "\"male\",\"group D\",\"high school\",\"free/reduced\",\"completed\",\"64\",\"64\",\"67\"\n",
            "\"female\",\"group B\",\"high school\",\"free/reduced\",\"none\",\"38\",\"60\",\"50\"\n",
            "\"male\",\"group C\",\"associate's degree\",\"standard\",\"none\",\"58\",\"54\",\"52\"\n",
            "\"male\",\"group D\",\"associate's degree\",\"standard\",\"none\",\"40\",\"52\",\"43\"\n",
            "\"female\",\"group B\",\"high school\",\"standard\",\"none\",\"65\",\"81\",\"73\"\n",
            "\"male\",\"group A\",\"some college\",\"standard\",\"completed\",\"78\",\"72\",\"70\"\n",
            "\"female\",\"group A\",\"master's degree\",\"standard\",\"none\",\"50\",\"53\",\"58\"\n",
            "\"female\",\"group C\",\"some high school\",\"standard\",\"none\",\"69\",\"75\",\"78\"\n",
            "\"male\",\"group C\",\"high school\",\"standard\",\"none\",\"88\",\"89\",\"86\"\n",
            "\"female\",\"group B\",\"some high school\",\"free/reduced\",\"none\",\"18\",\"32\",\"28\"\n",
            "\"male\",\"group C\",\"master's degree\",\"free/reduced\",\"completed\",\"46\",\"42\",\"46\"\n",
            "\"female\",\"group C\",\"associate's degree\",\"free/reduced\",\"none\",\"54\",\"58\",\"61\"\n",
            "\"male\",\"group D\",\"high school\",\"standard\",\"none\",\"66\",\"69\",\"63\"\n",
            "\"female\",\"group B\",\"some college\",\"free/reduced\",\"completed\",\"65\",\"75\",\"70\"\n",
            "\"male\",\"group D\",\"some college\",\"standard\",\"none\",\"44\",\"54\",\"53\"\n",
            "\"female\",\"group C\",\"some high school\",\"standard\",\"none\",\"69\",\"73\",\"73\"\n",
            "\"male\",\"group D\",\"bachelor's degree\",\"free/reduced\",\"completed\",\"74\",\"71\",\"80\"\n",
            "\"male\",\"group A\",\"master's degree\",\"free/reduced\",\"none\",\"73\",\"74\",\"72\"\n",
            "\"male\",\"group B\",\"some college\",\"standard\",\"none\",\"69\",\"54\",\"55\"\n",
            "\"female\",\"group C\",\"bachelor's degree\",\"standard\",\"none\",\"67\",\"69\",\"75\"\n",
            "\"male\",\"group C\",\"high school\",\"standard\",\"none\",\"70\",\"70\",\"65\"\n",
            "\"female\",\"group D\",\"master's degree\",\"standard\",\"none\",\"62\",\"70\",\"75\"\n",
            "\"female\",\"group D\",\"some college\",\"standard\",\"none\",\"69\",\"74\",\"74\"\n",
            "\"female\",\"group B\",\"some college\",\"standard\",\"none\",\"63\",\"65\",\"61\"\n",
            "\"female\",\"group E\",\"master's degree\",\"free/reduced\",\"none\",\"56\",\"72\",\"65\"\n",
            "\"male\",\"group D\",\"some college\",\"standard\",\"none\",\"40\",\"42\",\"38\"\n",
            "\"male\",\"group E\",\"some college\",\"standard\",\"none\",\"97\",\"87\",\"82\"\n",
            "\"male\",\"group E\",\"associate's degree\",\"standard\",\"completed\",\"81\",\"81\",\"79\"\n",
            "\"female\",\"group D\",\"associate's degree\",\"standard\",\"none\",\"74\",\"81\",\"83\"\n",
            "\"female\",\"group D\",\"some high school\",\"free/reduced\",\"none\",\"50\",\"64\",\"59\"\n",
            "\"female\",\"group D\",\"associate's degree\",\"free/reduced\",\"completed\",\"75\",\"90\",\"88\"\n",
            "\"male\",\"group B\",\"associate's degree\",\"free/reduced\",\"none\",\"57\",\"56\",\"57\"\n",
            "\"male\",\"group C\",\"associate's degree\",\"free/reduced\",\"none\",\"55\",\"61\",\"54\"\n",
            "\"female\",\"group C\",\"associate's degree\",\"standard\",\"none\",\"58\",\"73\",\"68\"\n",
            "\"female\",\"group B\",\"associate's degree\",\"standard\",\"none\",\"53\",\"58\",\"65\"\n",
            "\"male\",\"group B\",\"some college\",\"free/reduced\",\"completed\",\"59\",\"65\",\"66\"\n",
            "\"female\",\"group E\",\"associate's degree\",\"free/reduced\",\"none\",\"50\",\"56\",\"54\"\n",
            "\"male\",\"group B\",\"associate's degree\",\"standard\",\"none\",\"65\",\"54\",\"57\"\n",
            "\"female\",\"group A\",\"associate's degree\",\"standard\",\"completed\",\"55\",\"65\",\"62\"\n",
            "\"female\",\"group C\",\"high school\",\"standard\",\"none\",\"66\",\"71\",\"76\"\n",
            "\"female\",\"group D\",\"associate's degree\",\"free/reduced\",\"completed\",\"57\",\"74\",\"76\"\n",
            "\"male\",\"group C\",\"high school\",\"standard\",\"completed\",\"82\",\"84\",\"82\"\n",
            "\"male\",\"group E\",\"some college\",\"standard\",\"none\",\"53\",\"55\",\"48\"\n",
            "\"male\",\"group E\",\"associate's degree\",\"free/reduced\",\"completed\",\"77\",\"69\",\"68\"\n",
            "\"male\",\"group C\",\"some college\",\"standard\",\"none\",\"53\",\"44\",\"42\"\n",
            "\"male\",\"group D\",\"high school\",\"standard\",\"none\",\"88\",\"78\",\"75\"\n",
            "\"female\",\"group C\",\"some high school\",\"free/reduced\",\"completed\",\"71\",\"84\",\"87\"\n",
            "\"female\",\"group C\",\"high school\",\"free/reduced\",\"none\",\"33\",\"41\",\"43\"\n",
            "\"female\",\"group E\",\"associate's degree\",\"standard\",\"completed\",\"82\",\"85\",\"86\"\n",
            "\"male\",\"group D\",\"associate's degree\",\"standard\",\"none\",\"52\",\"55\",\"49\"\n",
            "\"male\",\"group D\",\"some college\",\"standard\",\"completed\",\"58\",\"59\",\"58\"\n",
            "\"female\",\"group C\",\"some high school\",\"free/reduced\",\"none\",\"0\",\"17\",\"10\"\n",
            "\"male\",\"group E\",\"bachelor's degree\",\"free/reduced\",\"completed\",\"79\",\"74\",\"72\"\n",
            "\"male\",\"group A\",\"some high school\",\"free/reduced\",\"none\",\"39\",\"39\",\"34\"\n",
            "\"male\",\"group A\",\"associate's degree\",\"free/reduced\",\"none\",\"62\",\"61\",\"55\"\n",
            "\"female\",\"group C\",\"associate's degree\",\"standard\",\"none\",\"69\",\"80\",\"71\"\n",
            "\"female\",\"group D\",\"some high school\",\"standard\",\"none\",\"59\",\"58\",\"59\"\n",
            "\"male\",\"group B\",\"some high school\",\"standard\",\"none\",\"67\",\"64\",\"61\"\n",
            "\"male\",\"group D\",\"some high school\",\"free/reduced\",\"none\",\"45\",\"37\",\"37\"\n",
            "\"female\",\"group C\",\"some college\",\"standard\",\"none\",\"60\",\"72\",\"74\"\n",
            "\"male\",\"group B\",\"associate's degree\",\"free/reduced\",\"none\",\"61\",\"58\",\"56\"\n",
            "\"female\",\"group C\",\"associate's degree\",\"standard\",\"none\",\"39\",\"64\",\"57\"\n",
            "\"female\",\"group D\",\"some college\",\"free/reduced\",\"completed\",\"58\",\"63\",\"73\"\n",
            "\"male\",\"group D\",\"some college\",\"standard\",\"completed\",\"63\",\"55\",\"63\"\n",
            "\"female\",\"group A\",\"associate's degree\",\"free/reduced\",\"none\",\"41\",\"51\",\"48\"\n",
            "\"male\",\"group C\",\"some high school\",\"free/reduced\",\"none\",\"61\",\"57\",\"56\"\n",
            "\"male\",\"group C\",\"some high school\",\"standard\",\"none\",\"49\",\"49\",\"41\"\n",
            "\"male\",\"group B\",\"associate's degree\",\"free/reduced\",\"none\",\"44\",\"41\",\"38\"\n",
            "\"male\",\"group E\",\"some high school\",\"standard\",\"none\",\"30\",\"26\",\"22\"\n",
            "\"male\",\"group A\",\"bachelor's degree\",\"standard\",\"completed\",\"80\",\"78\",\"81\"\n",
            "\"female\",\"group D\",\"some high school\",\"standard\",\"completed\",\"61\",\"74\",\"72\"\n",
            "\"female\",\"group E\",\"master's degree\",\"standard\",\"none\",\"62\",\"68\",\"68\"\n",
            "\"female\",\"group B\",\"associate's degree\",\"standard\",\"none\",\"47\",\"49\",\"50\"\n",
            "\"male\",\"group B\",\"high school\",\"free/reduced\",\"none\",\"49\",\"45\",\"45\"\n",
            "\"male\",\"group A\",\"some college\",\"free/reduced\",\"completed\",\"50\",\"47\",\"54\"\n",
            "\"male\",\"group E\",\"associate's degree\",\"standard\",\"none\",\"72\",\"64\",\"63\"\n",
            "\"male\",\"group D\",\"high school\",\"free/reduced\",\"none\",\"42\",\"39\",\"34\"\n",
            "\"female\",\"group C\",\"some college\",\"standard\",\"none\",\"73\",\"80\",\"82\"\n",
            "\"female\",\"group C\",\"some college\",\"free/reduced\",\"none\",\"76\",\"83\",\"88\"\n",
            "\"female\",\"group D\",\"associate's degree\",\"standard\",\"none\",\"71\",\"71\",\"74\"\n",
            "\"female\",\"group A\",\"some college\",\"standard\",\"none\",\"58\",\"70\",\"67\"\n",
            "\"female\",\"group D\",\"some high school\",\"standard\",\"none\",\"73\",\"86\",\"82\"\n",
            "\"female\",\"group C\",\"bachelor's degree\",\"standard\",\"none\",\"65\",\"72\",\"74\"\n",
            "\"male\",\"group C\",\"high school\",\"free/reduced\",\"none\",\"27\",\"34\",\"36\"\n",
            "\"male\",\"group C\",\"high school\",\"standard\",\"none\",\"71\",\"79\",\"71\"\n",
            "\"male\",\"group C\",\"associate's degree\",\"free/reduced\",\"completed\",\"43\",\"45\",\"50\"\n",
            "\"female\",\"group B\",\"some college\",\"standard\",\"none\",\"79\",\"86\",\"92\"\n",
            "\"male\",\"group C\",\"associate's degree\",\"free/reduced\",\"completed\",\"78\",\"81\",\"82\"\n",
            "\"male\",\"group B\",\"some high school\",\"standard\",\"completed\",\"65\",\"66\",\"62\"\n",
            "\"female\",\"group E\",\"some college\",\"standard\",\"completed\",\"63\",\"72\",\"70\"\n",
            "\"female\",\"group D\",\"some college\",\"free/reduced\",\"none\",\"58\",\"67\",\"62\"\n",
            "\"female\",\"group D\",\"bachelor's degree\",\"standard\",\"none\",\"65\",\"67\",\"62\"\n",
            "\"male\",\"group B\",\"some college\",\"standard\",\"none\",\"79\",\"67\",\"67\"\n",
            "\"male\",\"group D\",\"bachelor's degree\",\"standard\",\"completed\",\"68\",\"74\",\"74\"\n",
            "\"female\",\"group D\",\"associate's degree\",\"standard\",\"none\",\"85\",\"91\",\"89\"\n",
            "\"male\",\"group B\",\"high school\",\"standard\",\"completed\",\"60\",\"44\",\"47\"\n",
            "\"male\",\"group C\",\"some college\",\"standard\",\"completed\",\"98\",\"86\",\"90\"\n",
            "\"female\",\"group C\",\"some college\",\"standard\",\"none\",\"58\",\"67\",\"72\"\n",
            "\"female\",\"group D\",\"master's degree\",\"standard\",\"none\",\"87\",\"100\",\"100\"\n",
            "\"male\",\"group E\",\"associate's degree\",\"standard\",\"completed\",\"66\",\"63\",\"64\"\n",
            "\"female\",\"group B\",\"associate's degree\",\"free/reduced\",\"none\",\"52\",\"76\",\"70\"\n",
            "\"female\",\"group B\",\"some high school\",\"standard\",\"none\",\"70\",\"64\",\"72\"\n",
            "\"female\",\"group D\",\"associate's degree\",\"free/reduced\",\"completed\",\"77\",\"89\",\"98\"\n",
            "\"male\",\"group C\",\"high school\",\"standard\",\"none\",\"62\",\"55\",\"49\"\n",
            "\"male\",\"group A\",\"associate's degree\",\"standard\",\"none\",\"54\",\"53\",\"47\"\n",
            "\"female\",\"group D\",\"some college\",\"standard\",\"none\",\"51\",\"58\",\"54\"\n",
            "\"female\",\"group E\",\"bachelor's degree\",\"standard\",\"completed\",\"99\",\"100\",\"100\"\n",
            "\"male\",\"group C\",\"high school\",\"standard\",\"none\",\"84\",\"77\",\"74\"\n",
            "\"female\",\"group B\",\"bachelor's degree\",\"free/reduced\",\"none\",\"75\",\"85\",\"82\"\n",
            "\"female\",\"group D\",\"bachelor's degree\",\"standard\",\"none\",\"78\",\"82\",\"79\"\n",
            "\"female\",\"group D\",\"some high school\",\"standard\",\"none\",\"51\",\"63\",\"61\"\n",
            "\"female\",\"group C\",\"some college\",\"standard\",\"none\",\"55\",\"69\",\"65\"\n",
            "\"female\",\"group C\",\"bachelor's degree\",\"standard\",\"completed\",\"79\",\"92\",\"89\"\n",
            "\"male\",\"group B\",\"associate's degree\",\"standard\",\"completed\",\"91\",\"89\",\"92\"\n",
            "\"female\",\"group C\",\"some college\",\"standard\",\"completed\",\"88\",\"93\",\"93\"\n",
            "\"male\",\"group D\",\"high school\",\"free/reduced\",\"none\",\"63\",\"57\",\"56\"\n",
            "\"male\",\"group E\",\"some college\",\"standard\",\"none\",\"83\",\"80\",\"73\"\n",
            "\"female\",\"group B\",\"high school\",\"standard\",\"none\",\"87\",\"95\",\"86\"\n",
            "\"male\",\"group B\",\"some high school\",\"standard\",\"none\",\"72\",\"68\",\"67\"\n",
            "\"male\",\"group D\",\"some college\",\"standard\",\"completed\",\"65\",\"77\",\"74\"\n",
            "\"male\",\"group D\",\"master's degree\",\"standard\",\"none\",\"82\",\"82\",\"74\"\n",
            "\"female\",\"group A\",\"bachelor's degree\",\"standard\",\"none\",\"51\",\"49\",\"51\"\n",
            "\"male\",\"group D\",\"master's degree\",\"standard\",\"none\",\"89\",\"84\",\"82\"\n",
            "\"male\",\"group C\",\"some high school\",\"free/reduced\",\"completed\",\"53\",\"37\",\"40\"\n",
            "\"male\",\"group E\",\"some college\",\"free/reduced\",\"completed\",\"87\",\"74\",\"70\"\n",
            "\"female\",\"group C\",\"some college\",\"standard\",\"completed\",\"75\",\"81\",\"84\"\n",
            "\"male\",\"group D\",\"bachelor's degree\",\"free/reduced\",\"completed\",\"74\",\"79\",\"75\"\n",
            "\"male\",\"group C\",\"bachelor's degree\",\"standard\",\"none\",\"58\",\"55\",\"48\"\n",
            "\"male\",\"group B\",\"some high school\",\"standard\",\"completed\",\"51\",\"54\",\"41\"\n",
            "\"male\",\"group E\",\"high school\",\"standard\",\"none\",\"70\",\"55\",\"56\"\n",
            "\"female\",\"group C\",\"associate's degree\",\"standard\",\"none\",\"59\",\"66\",\"67\"\n",
            "\"male\",\"group D\",\"some college\",\"standard\",\"completed\",\"71\",\"61\",\"69\"\n",
            "\"female\",\"group D\",\"some high school\",\"standard\",\"none\",\"76\",\"72\",\"71\"\n",
            "\"female\",\"group C\",\"some college\",\"free/reduced\",\"none\",\"59\",\"62\",\"64\"\n",
            "\"female\",\"group E\",\"some college\",\"free/reduced\",\"completed\",\"42\",\"55\",\"54\"\n",
            "\"male\",\"group A\",\"high school\",\"standard\",\"none\",\"57\",\"43\",\"47\"\n",
            "\"male\",\"group D\",\"some college\",\"standard\",\"none\",\"88\",\"73\",\"78\"\n",
            "\"female\",\"group C\",\"some college\",\"free/reduced\",\"none\",\"22\",\"39\",\"33\"\n",
            "\"male\",\"group B\",\"some high school\",\"standard\",\"none\",\"88\",\"84\",\"75\"\n",
            "\"male\",\"group C\",\"associate's degree\",\"free/reduced\",\"none\",\"73\",\"68\",\"66\"\n",
            "\"female\",\"group D\",\"bachelor's degree\",\"standard\",\"completed\",\"68\",\"75\",\"81\"\n",
            "\"male\",\"group E\",\"associate's degree\",\"free/reduced\",\"completed\",\"100\",\"100\",\"93\"\n",
            "\"male\",\"group A\",\"some high school\",\"standard\",\"completed\",\"62\",\"67\",\"69\"\n",
            "\"male\",\"group A\",\"bachelor's degree\",\"standard\",\"none\",\"77\",\"67\",\"68\"\n",
            "\"female\",\"group B\",\"associate's degree\",\"standard\",\"completed\",\"59\",\"70\",\"66\"\n",
            "\"male\",\"group D\",\"bachelor's degree\",\"standard\",\"none\",\"54\",\"49\",\"47\"\n",
            "\"male\",\"group D\",\"some high school\",\"standard\",\"none\",\"62\",\"67\",\"61\"\n",
            "\"female\",\"group C\",\"some college\",\"standard\",\"completed\",\"70\",\"89\",\"88\"\n",
            "\"female\",\"group E\",\"high school\",\"free/reduced\",\"completed\",\"66\",\"74\",\"78\"\n",
            "\"male\",\"group B\",\"some college\",\"free/reduced\",\"none\",\"60\",\"60\",\"60\"\n",
            "\"female\",\"group B\",\"associate's degree\",\"standard\",\"completed\",\"61\",\"86\",\"87\"\n",
            "\"male\",\"group D\",\"associate's degree\",\"free/reduced\",\"none\",\"66\",\"62\",\"64\"\n",
            "\"male\",\"group B\",\"associate's degree\",\"free/reduced\",\"completed\",\"82\",\"78\",\"74\"\n",
            "\"female\",\"group E\",\"some college\",\"free/reduced\",\"completed\",\"75\",\"88\",\"85\"\n",
            "\"male\",\"group B\",\"master's degree\",\"free/reduced\",\"none\",\"49\",\"53\",\"52\"\n",
            "\"male\",\"group C\",\"high school\",\"standard\",\"none\",\"52\",\"53\",\"49\"\n",
            "\"female\",\"group E\",\"master's degree\",\"standard\",\"none\",\"81\",\"92\",\"91\"\n",
            "\"female\",\"group C\",\"bachelor's degree\",\"standard\",\"completed\",\"96\",\"100\",\"100\"\n",
            "\"male\",\"group C\",\"high school\",\"free/reduced\",\"completed\",\"53\",\"51\",\"51\"\n",
            "\"female\",\"group B\",\"master's degree\",\"free/reduced\",\"completed\",\"58\",\"76\",\"78\"\n",
            "\"female\",\"group B\",\"high school\",\"standard\",\"completed\",\"68\",\"83\",\"78\"\n",
            "\"female\",\"group C\",\"some college\",\"free/reduced\",\"completed\",\"67\",\"75\",\"70\"\n",
            "\"male\",\"group A\",\"high school\",\"standard\",\"completed\",\"72\",\"73\",\"74\"\n",
            "\"male\",\"group E\",\"some high school\",\"standard\",\"none\",\"94\",\"88\",\"78\"\n",
            "\"female\",\"group D\",\"some college\",\"standard\",\"none\",\"79\",\"86\",\"81\"\n",
            "\"female\",\"group C\",\"associate's degree\",\"standard\",\"none\",\"63\",\"67\",\"70\"\n",
            "\"female\",\"group C\",\"bachelor's degree\",\"free/reduced\",\"completed\",\"43\",\"51\",\"54\"\n",
            "\"female\",\"group C\",\"master's degree\",\"standard\",\"completed\",\"81\",\"91\",\"87\"\n",
            "\"female\",\"group B\",\"high school\",\"free/reduced\",\"completed\",\"46\",\"54\",\"58\"\n",
            "\"female\",\"group C\",\"associate's degree\",\"standard\",\"completed\",\"71\",\"77\",\"77\"\n",
            "\"female\",\"group B\",\"master's degree\",\"free/reduced\",\"completed\",\"52\",\"70\",\"62\"\n",
            "\"female\",\"group D\",\"some high school\",\"standard\",\"completed\",\"97\",\"100\",\"100\"\n",
            "\"male\",\"group C\",\"master's degree\",\"free/reduced\",\"completed\",\"62\",\"68\",\"75\"\n",
            "\"female\",\"group C\",\"some college\",\"free/reduced\",\"none\",\"46\",\"64\",\"66\"\n",
            "\"female\",\"group E\",\"high school\",\"standard\",\"none\",\"50\",\"50\",\"47\"\n",
            "\"female\",\"group D\",\"associate's degree\",\"standard\",\"none\",\"65\",\"69\",\"70\"\n",
            "\"male\",\"group C\",\"some high school\",\"free/reduced\",\"completed\",\"45\",\"52\",\"49\"\n",
            "\"male\",\"group C\",\"associate's degree\",\"free/reduced\",\"completed\",\"65\",\"67\",\"65\"\n",
            "\"male\",\"group E\",\"high school\",\"standard\",\"none\",\"80\",\"76\",\"65\"\n",
            "\"male\",\"group D\",\"some high school\",\"standard\",\"completed\",\"62\",\"66\",\"68\"\n",
            "\"male\",\"group B\",\"some high school\",\"free/reduced\",\"none\",\"48\",\"52\",\"45\"\n",
            "\"female\",\"group C\",\"bachelor's degree\",\"standard\",\"none\",\"77\",\"88\",\"87\"\n",
            "\"female\",\"group E\",\"associate's degree\",\"standard\",\"none\",\"66\",\"65\",\"69\"\n",
            "\"male\",\"group D\",\"some college\",\"standard\",\"completed\",\"76\",\"83\",\"79\"\n",
            "\"female\",\"group B\",\"some high school\",\"standard\",\"none\",\"62\",\"64\",\"66\"\n",
            "\"male\",\"group D\",\"some college\",\"standard\",\"completed\",\"77\",\"62\",\"62\"\n",
            "\"female\",\"group C\",\"master's degree\",\"standard\",\"completed\",\"69\",\"84\",\"85\"\n",
            "\"male\",\"group D\",\"associate's degree\",\"standard\",\"none\",\"61\",\"55\",\"52\"\n",
            "\"male\",\"group C\",\"some high school\",\"free/reduced\",\"completed\",\"59\",\"69\",\"65\"\n",
            "\"male\",\"group E\",\"high school\",\"free/reduced\",\"none\",\"55\",\"56\",\"51\"\n",
            "\"female\",\"group B\",\"some college\",\"free/reduced\",\"none\",\"45\",\"53\",\"55\"\n",
            "\"female\",\"group B\",\"bachelor's degree\",\"free/reduced\",\"none\",\"78\",\"79\",\"76\"\n",
            "\"female\",\"group C\",\"associate's degree\",\"standard\",\"completed\",\"67\",\"84\",\"86\"\n",
            "\"female\",\"group D\",\"some college\",\"free/reduced\",\"none\",\"65\",\"81\",\"77\"\n",
            "\"male\",\"group C\",\"associate's degree\",\"standard\",\"none\",\"69\",\"77\",\"69\"\n",
            "\"female\",\"group B\",\"associate's degree\",\"standard\",\"none\",\"57\",\"69\",\"68\"\n",
            "\"male\",\"group C\",\"some college\",\"standard\",\"none\",\"59\",\"41\",\"42\"\n",
            "\"male\",\"group D\",\"some high school\",\"standard\",\"completed\",\"74\",\"71\",\"78\"\n",
            "\"male\",\"group E\",\"bachelor's degree\",\"standard\",\"none\",\"82\",\"62\",\"62\"\n",
            "\"male\",\"group E\",\"high school\",\"standard\",\"completed\",\"81\",\"80\",\"76\"\n",
            "\"female\",\"group B\",\"some college\",\"free/reduced\",\"none\",\"74\",\"81\",\"76\"\n",
            "\"female\",\"group B\",\"some college\",\"free/reduced\",\"none\",\"58\",\"61\",\"66\"\n",
            "\"male\",\"group D\",\"some high school\",\"free/reduced\",\"completed\",\"80\",\"79\",\"79\"\n",
            "\"male\",\"group C\",\"some college\",\"free/reduced\",\"none\",\"35\",\"28\",\"27\"\n",
            "\"female\",\"group C\",\"high school\",\"free/reduced\",\"none\",\"42\",\"62\",\"60\"\n",
            "\"male\",\"group C\",\"associate's degree\",\"free/reduced\",\"completed\",\"60\",\"51\",\"56\"\n",
            "\"male\",\"group E\",\"high school\",\"standard\",\"completed\",\"87\",\"91\",\"81\"\n",
            "\"male\",\"group B\",\"some high school\",\"standard\",\"completed\",\"84\",\"83\",\"75\"\n",
            "\"female\",\"group E\",\"associate's degree\",\"free/reduced\",\"completed\",\"83\",\"86\",\"88\"\n",
            "\"female\",\"group C\",\"high school\",\"free/reduced\",\"none\",\"34\",\"42\",\"39\"\n",
            "\"male\",\"group B\",\"high school\",\"free/reduced\",\"none\",\"66\",\"77\",\"70\"\n",
            "\"male\",\"group B\",\"some high school\",\"standard\",\"completed\",\"61\",\"56\",\"56\"\n",
            "\"female\",\"group D\",\"high school\",\"standard\",\"completed\",\"56\",\"68\",\"74\"\n",
            "\"male\",\"group B\",\"associate's degree\",\"standard\",\"none\",\"87\",\"85\",\"73\"\n",
            "\"female\",\"group C\",\"some high school\",\"free/reduced\",\"none\",\"55\",\"65\",\"62\"\n",
            "\"male\",\"group D\",\"some high school\",\"standard\",\"none\",\"86\",\"80\",\"75\"\n",
            "\"female\",\"group B\",\"associate's degree\",\"standard\",\"completed\",\"52\",\"66\",\"73\"\n",
            "\"female\",\"group E\",\"master's degree\",\"free/reduced\",\"none\",\"45\",\"56\",\"54\"\n",
            "\"female\",\"group C\",\"some college\",\"standard\",\"none\",\"72\",\"72\",\"71\"\n",
            "\"male\",\"group D\",\"high school\",\"standard\",\"none\",\"57\",\"50\",\"54\"\n",
            "\"male\",\"group A\",\"some high school\",\"free/reduced\",\"none\",\"68\",\"72\",\"64\"\n",
            "\"female\",\"group C\",\"some college\",\"standard\",\"completed\",\"88\",\"95\",\"94\"\n",
            "\"male\",\"group D\",\"some college\",\"standard\",\"none\",\"76\",\"64\",\"66\"\n",
            "\"male\",\"group C\",\"associate's degree\",\"standard\",\"none\",\"46\",\"43\",\"42\"\n",
            "\"female\",\"group B\",\"bachelor's degree\",\"standard\",\"none\",\"67\",\"86\",\"83\"\n",
            "\"male\",\"group E\",\"some high school\",\"standard\",\"none\",\"92\",\"87\",\"78\"\n",
            "\"male\",\"group C\",\"bachelor's degree\",\"standard\",\"completed\",\"83\",\"82\",\"84\"\n",
            "\"male\",\"group D\",\"associate's degree\",\"standard\",\"none\",\"80\",\"75\",\"77\"\n",
            "\"male\",\"group D\",\"bachelor's degree\",\"free/reduced\",\"none\",\"63\",\"66\",\"67\"\n",
            "\"female\",\"group D\",\"some high school\",\"standard\",\"completed\",\"64\",\"60\",\"74\"\n",
            "\"male\",\"group B\",\"some college\",\"standard\",\"none\",\"54\",\"52\",\"51\"\n",
            "\"male\",\"group C\",\"associate's degree\",\"standard\",\"none\",\"84\",\"80\",\"80\"\n",
            "\"male\",\"group D\",\"high school\",\"free/reduced\",\"completed\",\"73\",\"68\",\"66\"\n",
            "\"female\",\"group E\",\"bachelor's degree\",\"standard\",\"none\",\"80\",\"83\",\"83\"\n",
            "\"female\",\"group D\",\"high school\",\"standard\",\"none\",\"56\",\"52\",\"55\"\n",
            "\"male\",\"group E\",\"some college\",\"standard\",\"none\",\"59\",\"51\",\"43\"\n",
            "\"male\",\"group D\",\"some high school\",\"standard\",\"none\",\"75\",\"74\",\"69\"\n",
            "\"male\",\"group C\",\"associate's degree\",\"standard\",\"none\",\"85\",\"76\",\"71\"\n",
            "\"male\",\"group E\",\"associate's degree\",\"standard\",\"none\",\"89\",\"76\",\"74\"\n",
            "\"female\",\"group B\",\"high school\",\"standard\",\"completed\",\"58\",\"70\",\"68\"\n",
            "\"female\",\"group B\",\"high school\",\"standard\",\"none\",\"65\",\"64\",\"62\"\n",
            "\"male\",\"group C\",\"high school\",\"standard\",\"none\",\"68\",\"60\",\"53\"\n",
            "\"male\",\"group A\",\"some high school\",\"standard\",\"completed\",\"47\",\"49\",\"49\"\n",
            "\"female\",\"group D\",\"some college\",\"free/reduced\",\"none\",\"71\",\"83\",\"83\"\n",
            "\"female\",\"group B\",\"some high school\",\"standard\",\"completed\",\"60\",\"70\",\"70\"\n",
            "\"male\",\"group D\",\"master's degree\",\"standard\",\"none\",\"80\",\"80\",\"72\"\n",
            "\"male\",\"group D\",\"high school\",\"standard\",\"none\",\"54\",\"52\",\"52\"\n",
            "\"female\",\"group E\",\"some college\",\"standard\",\"none\",\"62\",\"73\",\"70\"\n",
            "\"female\",\"group C\",\"associate's degree\",\"free/reduced\",\"none\",\"64\",\"73\",\"68\"\n",
            "\"male\",\"group C\",\"associate's degree\",\"standard\",\"completed\",\"78\",\"77\",\"77\"\n",
            "\"female\",\"group B\",\"some college\",\"standard\",\"none\",\"70\",\"75\",\"78\"\n",
            "\"female\",\"group C\",\"master's degree\",\"free/reduced\",\"completed\",\"65\",\"81\",\"81\"\n",
            "\"female\",\"group C\",\"some high school\",\"free/reduced\",\"completed\",\"64\",\"79\",\"77\"\n",
            "\"male\",\"group C\",\"some college\",\"standard\",\"completed\",\"79\",\"79\",\"78\"\n",
            "\"female\",\"group C\",\"some high school\",\"free/reduced\",\"none\",\"44\",\"50\",\"51\"\n",
            "\"female\",\"group E\",\"high school\",\"standard\",\"none\",\"99\",\"93\",\"90\"\n",
            "\"male\",\"group D\",\"high school\",\"standard\",\"none\",\"76\",\"73\",\"68\"\n",
            "\"male\",\"group D\",\"some high school\",\"free/reduced\",\"none\",\"59\",\"42\",\"41\"\n",
            "\"female\",\"group C\",\"bachelor's degree\",\"standard\",\"none\",\"63\",\"75\",\"81\"\n",
            "\"female\",\"group D\",\"high school\",\"standard\",\"none\",\"69\",\"72\",\"77\"\n",
            "\"female\",\"group D\",\"associate's degree\",\"standard\",\"completed\",\"88\",\"92\",\"95\"\n",
            "\"female\",\"group E\",\"some college\",\"free/reduced\",\"none\",\"71\",\"76\",\"70\"\n",
            "\"male\",\"group C\",\"bachelor's degree\",\"standard\",\"none\",\"69\",\"63\",\"61\"\n",
            "\"male\",\"group C\",\"some college\",\"standard\",\"none\",\"58\",\"49\",\"42\"\n",
            "\"female\",\"group D\",\"associate's degree\",\"free/reduced\",\"none\",\"47\",\"53\",\"58\"\n",
            "\"female\",\"group D\",\"some college\",\"standard\",\"none\",\"65\",\"70\",\"71\"\n",
            "\"male\",\"group B\",\"some college\",\"standard\",\"completed\",\"88\",\"85\",\"76\"\n",
            "\"male\",\"group C\",\"bachelor's degree\",\"standard\",\"none\",\"83\",\"78\",\"73\"\n",
            "\"female\",\"group C\",\"some high school\",\"standard\",\"completed\",\"85\",\"92\",\"93\"\n",
            "\"female\",\"group E\",\"high school\",\"standard\",\"completed\",\"59\",\"63\",\"75\"\n",
            "\"female\",\"group C\",\"some high school\",\"free/reduced\",\"none\",\"65\",\"86\",\"80\"\n",
            "\"male\",\"group B\",\"bachelor's degree\",\"free/reduced\",\"none\",\"73\",\"56\",\"57\"\n",
            "\"male\",\"group D\",\"high school\",\"standard\",\"none\",\"53\",\"52\",\"42\"\n",
            "\"male\",\"group D\",\"high school\",\"standard\",\"none\",\"45\",\"48\",\"46\"\n",
            "\"female\",\"group D\",\"bachelor's degree\",\"free/reduced\",\"none\",\"73\",\"79\",\"84\"\n",
            "\"female\",\"group D\",\"some college\",\"free/reduced\",\"completed\",\"70\",\"78\",\"78\"\n",
            "\"female\",\"group B\",\"some high school\",\"standard\",\"none\",\"37\",\"46\",\"46\"\n",
            "\"male\",\"group B\",\"associate's degree\",\"standard\",\"completed\",\"81\",\"82\",\"82\"\n",
            "\"male\",\"group E\",\"associate's degree\",\"standard\",\"completed\",\"97\",\"82\",\"88\"\n",
            "\"female\",\"group B\",\"some high school\",\"standard\",\"none\",\"67\",\"89\",\"82\"\n",
            "\"male\",\"group B\",\"bachelor's degree\",\"free/reduced\",\"none\",\"88\",\"75\",\"76\"\n",
            "\"male\",\"group E\",\"some high school\",\"standard\",\"completed\",\"77\",\"76\",\"77\"\n",
            "\"male\",\"group C\",\"associate's degree\",\"standard\",\"none\",\"76\",\"70\",\"68\"\n",
            "\"male\",\"group D\",\"some high school\",\"standard\",\"none\",\"86\",\"73\",\"70\"\n",
            "\"male\",\"group C\",\"some high school\",\"standard\",\"completed\",\"63\",\"60\",\"57\"\n",
            "\"female\",\"group E\",\"bachelor's degree\",\"standard\",\"none\",\"65\",\"73\",\"75\"\n",
            "\"male\",\"group D\",\"high school\",\"free/reduced\",\"completed\",\"78\",\"77\",\"80\"\n",
            "\"male\",\"group B\",\"associate's degree\",\"free/reduced\",\"none\",\"67\",\"62\",\"60\"\n",
            "\"male\",\"group A\",\"some high school\",\"standard\",\"completed\",\"46\",\"41\",\"43\"\n",
            "\"male\",\"group E\",\"associate's degree\",\"standard\",\"completed\",\"71\",\"74\",\"68\"\n",
            "\"male\",\"group C\",\"high school\",\"free/reduced\",\"completed\",\"40\",\"46\",\"50\"\n",
            "\"male\",\"group D\",\"associate's degree\",\"free/reduced\",\"none\",\"90\",\"87\",\"75\"\n",
            "\"male\",\"group A\",\"some college\",\"free/reduced\",\"completed\",\"81\",\"78\",\"81\"\n",
            "\"male\",\"group D\",\"some high school\",\"free/reduced\",\"none\",\"56\",\"54\",\"52\"\n",
            "\"female\",\"group C\",\"associate's degree\",\"standard\",\"completed\",\"67\",\"84\",\"81\"\n",
            "\"male\",\"group B\",\"associate's degree\",\"standard\",\"none\",\"80\",\"76\",\"64\"\n",
            "\"female\",\"group C\",\"associate's degree\",\"standard\",\"completed\",\"74\",\"75\",\"83\"\n",
            "\"male\",\"group A\",\"some college\",\"standard\",\"none\",\"69\",\"67\",\"69\"\n",
            "\"male\",\"group E\",\"some college\",\"standard\",\"completed\",\"99\",\"87\",\"81\"\n",
            "\"male\",\"group C\",\"some high school\",\"standard\",\"none\",\"51\",\"52\",\"44\"\n",
            "\"female\",\"group B\",\"associate's degree\",\"free/reduced\",\"none\",\"53\",\"71\",\"67\"\n",
            "\"female\",\"group D\",\"high school\",\"free/reduced\",\"none\",\"49\",\"57\",\"52\"\n",
            "\"female\",\"group B\",\"associate's degree\",\"standard\",\"none\",\"73\",\"76\",\"80\"\n",
            "\"male\",\"group B\",\"bachelor's degree\",\"standard\",\"none\",\"66\",\"60\",\"57\"\n",
            "\"male\",\"group D\",\"bachelor's degree\",\"standard\",\"completed\",\"67\",\"61\",\"68\"\n",
            "\"female\",\"group C\",\"associate's degree\",\"free/reduced\",\"completed\",\"68\",\"67\",\"69\"\n",
            "\"female\",\"group C\",\"bachelor's degree\",\"standard\",\"completed\",\"59\",\"64\",\"75\"\n",
            "\"male\",\"group C\",\"high school\",\"standard\",\"none\",\"71\",\"66\",\"65\"\n",
            "\"female\",\"group D\",\"master's degree\",\"standard\",\"completed\",\"77\",\"82\",\"91\"\n",
            "\"male\",\"group C\",\"associate's degree\",\"standard\",\"none\",\"83\",\"72\",\"78\"\n",
            "\"male\",\"group B\",\"bachelor's degree\",\"standard\",\"none\",\"63\",\"71\",\"69\"\n",
            "\"female\",\"group D\",\"associate's degree\",\"free/reduced\",\"none\",\"56\",\"65\",\"63\"\n",
            "\"female\",\"group C\",\"high school\",\"free/reduced\",\"completed\",\"67\",\"79\",\"84\"\n",
            "\"female\",\"group E\",\"high school\",\"standard\",\"none\",\"75\",\"86\",\"79\"\n",
            "\"female\",\"group C\",\"some college\",\"standard\",\"none\",\"71\",\"81\",\"80\"\n",
            "\"female\",\"group C\",\"some high school\",\"free/reduced\",\"none\",\"43\",\"53\",\"53\"\n",
            "\"female\",\"group C\",\"high school\",\"free/reduced\",\"none\",\"41\",\"46\",\"43\"\n",
            "\"female\",\"group C\",\"some college\",\"standard\",\"none\",\"82\",\"90\",\"94\"\n",
            "\"male\",\"group C\",\"some college\",\"standard\",\"none\",\"61\",\"61\",\"62\"\n",
            "\"male\",\"group A\",\"some college\",\"free/reduced\",\"none\",\"28\",\"23\",\"19\"\n",
            "\"male\",\"group C\",\"associate's degree\",\"standard\",\"completed\",\"82\",\"75\",\"77\"\n",
            "\"female\",\"group B\",\"some high school\",\"standard\",\"none\",\"41\",\"55\",\"51\"\n",
            "\"male\",\"group C\",\"high school\",\"standard\",\"none\",\"71\",\"60\",\"61\"\n",
            "\"male\",\"group C\",\"associate's degree\",\"standard\",\"none\",\"47\",\"37\",\"35\"\n",
            "\"male\",\"group E\",\"associate's degree\",\"standard\",\"completed\",\"62\",\"56\",\"53\"\n",
            "\"male\",\"group B\",\"associate's degree\",\"standard\",\"none\",\"90\",\"78\",\"81\"\n",
            "\"female\",\"group C\",\"bachelor's degree\",\"standard\",\"none\",\"83\",\"93\",\"95\"\n",
            "\"female\",\"group B\",\"some college\",\"free/reduced\",\"none\",\"61\",\"68\",\"66\"\n",
            "\"male\",\"group D\",\"some high school\",\"standard\",\"completed\",\"76\",\"70\",\"69\"\n",
            "\"male\",\"group C\",\"associate's degree\",\"standard\",\"none\",\"49\",\"51\",\"43\"\n",
            "\"female\",\"group B\",\"some high school\",\"free/reduced\",\"none\",\"24\",\"38\",\"27\"\n",
            "\"female\",\"group D\",\"some high school\",\"free/reduced\",\"completed\",\"35\",\"55\",\"60\"\n",
            "\"male\",\"group C\",\"high school\",\"free/reduced\",\"none\",\"58\",\"61\",\"52\"\n",
            "\"female\",\"group C\",\"high school\",\"standard\",\"none\",\"61\",\"73\",\"63\"\n",
            "\"female\",\"group B\",\"high school\",\"standard\",\"completed\",\"69\",\"76\",\"74\"\n",
            "\"male\",\"group D\",\"associate's degree\",\"standard\",\"completed\",\"67\",\"72\",\"67\"\n",
            "\"male\",\"group D\",\"some college\",\"standard\",\"none\",\"79\",\"73\",\"67\"\n",
            "\"female\",\"group C\",\"high school\",\"standard\",\"none\",\"72\",\"80\",\"75\"\n",
            "\"male\",\"group B\",\"some college\",\"standard\",\"none\",\"62\",\"61\",\"57\"\n",
            "\"female\",\"group C\",\"bachelor's degree\",\"standard\",\"completed\",\"77\",\"94\",\"95\"\n",
            "\"male\",\"group D\",\"high school\",\"free/reduced\",\"none\",\"75\",\"74\",\"66\"\n",
            "\"male\",\"group E\",\"associate's degree\",\"standard\",\"none\",\"87\",\"74\",\"76\"\n",
            "\"female\",\"group B\",\"bachelor's degree\",\"standard\",\"none\",\"52\",\"65\",\"69\"\n",
            "\"male\",\"group E\",\"some college\",\"standard\",\"none\",\"66\",\"57\",\"52\"\n",
            "\"female\",\"group C\",\"some college\",\"standard\",\"completed\",\"63\",\"78\",\"80\"\n",
            "\"female\",\"group C\",\"associate's degree\",\"standard\",\"none\",\"46\",\"58\",\"57\"\n",
            "\"female\",\"group C\",\"some college\",\"standard\",\"none\",\"59\",\"71\",\"70\"\n",
            "\"female\",\"group B\",\"bachelor's degree\",\"standard\",\"none\",\"61\",\"72\",\"70\"\n",
            "\"male\",\"group A\",\"associate's degree\",\"standard\",\"none\",\"63\",\"61\",\"61\"\n",
            "\"female\",\"group C\",\"some college\",\"free/reduced\",\"completed\",\"42\",\"66\",\"69\"\n",
            "\"male\",\"group D\",\"some college\",\"free/reduced\",\"none\",\"59\",\"62\",\"61\"\n",
            "\"female\",\"group D\",\"some college\",\"standard\",\"none\",\"80\",\"90\",\"89\"\n",
            "\"female\",\"group B\",\"high school\",\"standard\",\"none\",\"58\",\"62\",\"59\"\n",
            "\"male\",\"group B\",\"some high school\",\"standard\",\"completed\",\"85\",\"84\",\"78\"\n",
            "\"female\",\"group C\",\"some college\",\"standard\",\"none\",\"52\",\"58\",\"58\"\n",
            "\"female\",\"group D\",\"some high school\",\"free/reduced\",\"none\",\"27\",\"34\",\"32\"\n",
            "\"male\",\"group C\",\"some college\",\"standard\",\"none\",\"59\",\"60\",\"58\"\n",
            "\"male\",\"group A\",\"bachelor's degree\",\"free/reduced\",\"completed\",\"49\",\"58\",\"60\"\n",
            "\"male\",\"group C\",\"high school\",\"standard\",\"completed\",\"69\",\"58\",\"53\"\n",
            "\"male\",\"group C\",\"bachelor's degree\",\"free/reduced\",\"none\",\"61\",\"66\",\"61\"\n",
            "\"female\",\"group A\",\"some high school\",\"free/reduced\",\"none\",\"44\",\"64\",\"58\"\n",
            "\"female\",\"group D\",\"some high school\",\"standard\",\"none\",\"73\",\"84\",\"85\"\n",
            "\"male\",\"group E\",\"some college\",\"standard\",\"none\",\"84\",\"77\",\"71\"\n",
            "\"female\",\"group C\",\"some college\",\"free/reduced\",\"completed\",\"45\",\"73\",\"70\"\n",
            "\"male\",\"group D\",\"some high school\",\"standard\",\"none\",\"74\",\"74\",\"72\"\n",
            "\"female\",\"group D\",\"some college\",\"standard\",\"completed\",\"82\",\"97\",\"96\"\n",
            "\"female\",\"group D\",\"bachelor's degree\",\"standard\",\"none\",\"59\",\"70\",\"73\"\n",
            "\"male\",\"group E\",\"associate's degree\",\"free/reduced\",\"none\",\"46\",\"43\",\"41\"\n",
            "\"female\",\"group D\",\"some high school\",\"standard\",\"none\",\"80\",\"90\",\"82\"\n",
            "\"female\",\"group D\",\"master's degree\",\"free/reduced\",\"completed\",\"85\",\"95\",\"100\"\n",
            "\"female\",\"group A\",\"some high school\",\"standard\",\"none\",\"71\",\"83\",\"77\"\n",
            "\"male\",\"group A\",\"bachelor's degree\",\"standard\",\"none\",\"66\",\"64\",\"62\"\n",
            "\"female\",\"group B\",\"associate's degree\",\"standard\",\"none\",\"80\",\"86\",\"83\"\n",
            "\"male\",\"group C\",\"associate's degree\",\"standard\",\"completed\",\"87\",\"100\",\"95\"\n",
            "\"male\",\"group C\",\"master's degree\",\"free/reduced\",\"none\",\"79\",\"81\",\"71\"\n",
            "\"female\",\"group E\",\"some high school\",\"free/reduced\",\"none\",\"38\",\"49\",\"45\"\n",
            "\"female\",\"group A\",\"some high school\",\"free/reduced\",\"none\",\"38\",\"43\",\"43\"\n",
            "\"female\",\"group E\",\"some college\",\"standard\",\"none\",\"67\",\"76\",\"75\"\n",
            "\"female\",\"group E\",\"bachelor's degree\",\"standard\",\"none\",\"64\",\"73\",\"70\"\n",
            "\"female\",\"group C\",\"associate's degree\",\"free/reduced\",\"none\",\"57\",\"78\",\"67\"\n",
            "\"female\",\"group D\",\"high school\",\"standard\",\"none\",\"62\",\"64\",\"64\"\n",
            "\"male\",\"group D\",\"master's degree\",\"standard\",\"none\",\"73\",\"70\",\"75\"\n",
            "\"male\",\"group E\",\"some high school\",\"free/reduced\",\"completed\",\"73\",\"67\",\"59\"\n",
            "\"female\",\"group D\",\"some college\",\"standard\",\"none\",\"77\",\"68\",\"77\"\n",
            "\"male\",\"group E\",\"some college\",\"standard\",\"none\",\"76\",\"67\",\"67\"\n",
            "\"male\",\"group C\",\"associate's degree\",\"standard\",\"completed\",\"57\",\"54\",\"56\"\n",
            "\"female\",\"group C\",\"some high school\",\"standard\",\"completed\",\"65\",\"74\",\"77\"\n",
            "\"male\",\"group A\",\"high school\",\"free/reduced\",\"none\",\"48\",\"45\",\"41\"\n",
            "\"female\",\"group B\",\"high school\",\"free/reduced\",\"none\",\"50\",\"67\",\"63\"\n",
            "\"female\",\"group C\",\"associate's degree\",\"standard\",\"none\",\"85\",\"89\",\"95\"\n",
            "\"male\",\"group B\",\"some high school\",\"standard\",\"none\",\"74\",\"63\",\"57\"\n",
            "\"male\",\"group D\",\"some high school\",\"standard\",\"none\",\"60\",\"59\",\"54\"\n",
            "\"female\",\"group C\",\"some high school\",\"standard\",\"completed\",\"59\",\"54\",\"67\"\n",
            "\"male\",\"group A\",\"some college\",\"standard\",\"none\",\"53\",\"43\",\"43\"\n",
            "\"female\",\"group A\",\"some college\",\"free/reduced\",\"none\",\"49\",\"65\",\"55\"\n",
            "\"female\",\"group D\",\"high school\",\"standard\",\"completed\",\"88\",\"99\",\"100\"\n",
            "\"female\",\"group C\",\"high school\",\"standard\",\"none\",\"54\",\"59\",\"62\"\n",
            "\"female\",\"group C\",\"some high school\",\"standard\",\"none\",\"63\",\"73\",\"68\"\n",
            "\"male\",\"group B\",\"associate's degree\",\"standard\",\"completed\",\"65\",\"65\",\"63\"\n",
            "\"female\",\"group B\",\"associate's degree\",\"standard\",\"none\",\"82\",\"80\",\"77\"\n",
            "\"female\",\"group D\",\"high school\",\"free/reduced\",\"completed\",\"52\",\"57\",\"56\"\n",
            "\"male\",\"group D\",\"associate's degree\",\"standard\",\"completed\",\"87\",\"84\",\"85\"\n",
            "\"female\",\"group D\",\"master's degree\",\"standard\",\"completed\",\"70\",\"71\",\"74\"\n",
            "\"male\",\"group E\",\"some college\",\"standard\",\"completed\",\"84\",\"83\",\"78\"\n",
            "\"male\",\"group D\",\"associate's degree\",\"standard\",\"none\",\"71\",\"66\",\"60\"\n",
            "\"male\",\"group B\",\"some high school\",\"standard\",\"completed\",\"63\",\"67\",\"67\"\n",
            "\"female\",\"group C\",\"bachelor's degree\",\"free/reduced\",\"completed\",\"51\",\"72\",\"79\"\n",
            "\"male\",\"group E\",\"high school\",\"standard\",\"none\",\"84\",\"73\",\"69\"\n",
            "\"male\",\"group C\",\"bachelor's degree\",\"standard\",\"completed\",\"71\",\"74\",\"68\"\n",
            "\"male\",\"group C\",\"associate's degree\",\"standard\",\"none\",\"74\",\"73\",\"67\"\n",
            "\"male\",\"group D\",\"some college\",\"standard\",\"none\",\"68\",\"59\",\"62\"\n",
            "\"male\",\"group E\",\"high school\",\"free/reduced\",\"completed\",\"57\",\"56\",\"54\"\n",
            "\"female\",\"group C\",\"associate's degree\",\"free/reduced\",\"completed\",\"82\",\"93\",\"93\"\n",
            "\"female\",\"group D\",\"high school\",\"standard\",\"completed\",\"57\",\"58\",\"64\"\n",
            "\"female\",\"group D\",\"master's degree\",\"free/reduced\",\"completed\",\"47\",\"58\",\"67\"\n",
            "\"female\",\"group A\",\"some high school\",\"standard\",\"completed\",\"59\",\"85\",\"80\"\n",
            "\"male\",\"group B\",\"some college\",\"free/reduced\",\"none\",\"41\",\"39\",\"34\"\n",
            "\"female\",\"group C\",\"some college\",\"free/reduced\",\"none\",\"62\",\"67\",\"62\"\n",
            "\"male\",\"group C\",\"bachelor's degree\",\"standard\",\"none\",\"86\",\"83\",\"86\"\n",
            "\"male\",\"group C\",\"some high school\",\"free/reduced\",\"none\",\"69\",\"71\",\"65\"\n",
            "\"male\",\"group A\",\"some high school\",\"free/reduced\",\"none\",\"65\",\"59\",\"53\"\n",
            "\"male\",\"group C\",\"some high school\",\"free/reduced\",\"none\",\"68\",\"63\",\"54\"\n",
            "\"male\",\"group C\",\"associate's degree\",\"free/reduced\",\"none\",\"64\",\"66\",\"59\"\n",
            "\"female\",\"group C\",\"high school\",\"standard\",\"none\",\"61\",\"72\",\"70\"\n",
            "\"male\",\"group C\",\"high school\",\"standard\",\"none\",\"61\",\"56\",\"55\"\n",
            "\"female\",\"group A\",\"some high school\",\"free/reduced\",\"none\",\"47\",\"59\",\"50\"\n",
            "\"male\",\"group C\",\"some high school\",\"standard\",\"none\",\"73\",\"66\",\"66\"\n",
            "\"male\",\"group C\",\"some college\",\"free/reduced\",\"completed\",\"50\",\"48\",\"53\"\n",
            "\"male\",\"group D\",\"associate's degree\",\"standard\",\"none\",\"75\",\"68\",\"64\"\n",
            "\"male\",\"group D\",\"associate's degree\",\"free/reduced\",\"none\",\"75\",\"66\",\"73\"\n",
            "\"male\",\"group C\",\"high school\",\"standard\",\"none\",\"70\",\"56\",\"51\"\n",
            "\"male\",\"group D\",\"some high school\",\"standard\",\"completed\",\"89\",\"88\",\"82\"\n",
            "\"female\",\"group C\",\"some college\",\"standard\",\"completed\",\"67\",\"81\",\"79\"\n",
            "\"female\",\"group D\",\"high school\",\"standard\",\"none\",\"78\",\"81\",\"80\"\n",
            "\"female\",\"group A\",\"some high school\",\"free/reduced\",\"none\",\"59\",\"73\",\"69\"\n",
            "\"female\",\"group B\",\"associate's degree\",\"standard\",\"none\",\"73\",\"83\",\"76\"\n",
            "\"male\",\"group A\",\"some high school\",\"free/reduced\",\"none\",\"79\",\"82\",\"73\"\n",
            "\"female\",\"group C\",\"some high school\",\"standard\",\"completed\",\"67\",\"74\",\"77\"\n",
            "\"male\",\"group D\",\"some college\",\"free/reduced\",\"none\",\"69\",\"66\",\"60\"\n",
            "\"male\",\"group C\",\"high school\",\"standard\",\"completed\",\"86\",\"81\",\"80\"\n",
            "\"male\",\"group B\",\"high school\",\"standard\",\"none\",\"47\",\"46\",\"42\"\n",
            "\"male\",\"group B\",\"associate's degree\",\"standard\",\"none\",\"81\",\"73\",\"72\"\n",
            "\"female\",\"group C\",\"some college\",\"free/reduced\",\"completed\",\"64\",\"85\",\"85\"\n",
            "\"female\",\"group E\",\"some college\",\"standard\",\"none\",\"100\",\"92\",\"97\"\n",
            "\"female\",\"group C\",\"associate's degree\",\"free/reduced\",\"none\",\"65\",\"77\",\"74\"\n",
            "\"male\",\"group C\",\"some college\",\"free/reduced\",\"none\",\"65\",\"58\",\"49\"\n",
            "\"female\",\"group C\",\"associate's degree\",\"free/reduced\",\"none\",\"53\",\"61\",\"62\"\n",
            "\"male\",\"group C\",\"bachelor's degree\",\"free/reduced\",\"none\",\"37\",\"56\",\"47\"\n",
            "\"female\",\"group D\",\"bachelor's degree\",\"standard\",\"none\",\"79\",\"89\",\"89\"\n",
            "\"male\",\"group D\",\"associate's degree\",\"free/reduced\",\"none\",\"53\",\"54\",\"48\"\n",
            "\"female\",\"group E\",\"bachelor's degree\",\"standard\",\"none\",\"100\",\"100\",\"100\"\n",
            "\"male\",\"group B\",\"high school\",\"standard\",\"completed\",\"72\",\"65\",\"68\"\n",
            "\"male\",\"group C\",\"bachelor's degree\",\"free/reduced\",\"none\",\"53\",\"58\",\"55\"\n",
            "\"male\",\"group B\",\"some college\",\"free/reduced\",\"none\",\"54\",\"54\",\"45\"\n",
            "\"female\",\"group E\",\"some college\",\"standard\",\"none\",\"71\",\"70\",\"76\"\n",
            "\"female\",\"group C\",\"some college\",\"free/reduced\",\"none\",\"77\",\"90\",\"91\"\n",
            "\"male\",\"group A\",\"bachelor's degree\",\"standard\",\"completed\",\"75\",\"58\",\"62\"\n",
            "\"female\",\"group C\",\"some college\",\"standard\",\"none\",\"84\",\"87\",\"91\"\n",
            "\"female\",\"group D\",\"associate's degree\",\"free/reduced\",\"none\",\"26\",\"31\",\"38\"\n",
            "\"male\",\"group A\",\"high school\",\"free/reduced\",\"completed\",\"72\",\"67\",\"65\"\n",
            "\"female\",\"group A\",\"high school\",\"free/reduced\",\"completed\",\"77\",\"88\",\"85\"\n",
            "\"male\",\"group C\",\"some college\",\"standard\",\"none\",\"91\",\"74\",\"76\"\n",
            "\"female\",\"group C\",\"associate's degree\",\"standard\",\"completed\",\"83\",\"85\",\"90\"\n",
            "\"female\",\"group C\",\"high school\",\"standard\",\"none\",\"63\",\"69\",\"74\"\n",
            "\"female\",\"group C\",\"associate's degree\",\"standard\",\"completed\",\"68\",\"86\",\"84\"\n",
            "\"female\",\"group D\",\"some high school\",\"standard\",\"none\",\"59\",\"67\",\"61\"\n",
            "\"female\",\"group B\",\"associate's degree\",\"standard\",\"completed\",\"90\",\"90\",\"91\"\n",
            "\"female\",\"group D\",\"bachelor's degree\",\"standard\",\"completed\",\"71\",\"76\",\"83\"\n",
            "\"male\",\"group E\",\"bachelor's degree\",\"standard\",\"completed\",\"76\",\"62\",\"66\"\n",
            "\"male\",\"group D\",\"associate's degree\",\"standard\",\"none\",\"80\",\"68\",\"72\"\n",
            "\"female\",\"group D\",\"master's degree\",\"standard\",\"none\",\"55\",\"64\",\"70\"\n",
            "\"male\",\"group E\",\"associate's degree\",\"standard\",\"none\",\"76\",\"71\",\"67\"\n",
            "\"male\",\"group B\",\"high school\",\"standard\",\"completed\",\"73\",\"71\",\"68\"\n",
            "\"female\",\"group D\",\"associate's degree\",\"free/reduced\",\"none\",\"52\",\"59\",\"56\"\n",
            "\"male\",\"group C\",\"some college\",\"free/reduced\",\"none\",\"68\",\"68\",\"61\"\n",
            "\"male\",\"group A\",\"high school\",\"standard\",\"none\",\"59\",\"52\",\"46\"\n",
            "\"female\",\"group B\",\"associate's degree\",\"standard\",\"none\",\"49\",\"52\",\"54\"\n",
            "\"male\",\"group C\",\"high school\",\"standard\",\"none\",\"70\",\"74\",\"71\"\n",
            "\"male\",\"group D\",\"some college\",\"free/reduced\",\"none\",\"61\",\"47\",\"56\"\n",
            "\"female\",\"group C\",\"associate's degree\",\"free/reduced\",\"none\",\"60\",\"75\",\"74\"\n",
            "\"male\",\"group B\",\"some high school\",\"standard\",\"completed\",\"64\",\"53\",\"57\"\n",
            "\"male\",\"group A\",\"associate's degree\",\"free/reduced\",\"completed\",\"79\",\"82\",\"82\"\n",
            "\"female\",\"group A\",\"associate's degree\",\"free/reduced\",\"none\",\"65\",\"85\",\"76\"\n",
            "\"female\",\"group C\",\"associate's degree\",\"standard\",\"none\",\"64\",\"64\",\"70\"\n",
            "\"female\",\"group C\",\"some college\",\"standard\",\"none\",\"83\",\"83\",\"90\"\n",
            "\"female\",\"group C\",\"bachelor's degree\",\"standard\",\"none\",\"81\",\"88\",\"90\"\n",
            "\"female\",\"group B\",\"high school\",\"standard\",\"none\",\"54\",\"64\",\"68\"\n",
            "\"male\",\"group D\",\"high school\",\"standard\",\"completed\",\"68\",\"64\",\"66\"\n",
            "\"female\",\"group C\",\"some college\",\"standard\",\"none\",\"54\",\"48\",\"52\"\n",
            "\"female\",\"group D\",\"some college\",\"free/reduced\",\"completed\",\"59\",\"78\",\"76\"\n",
            "\"female\",\"group B\",\"some high school\",\"standard\",\"none\",\"66\",\"69\",\"68\"\n",
            "\"male\",\"group E\",\"some college\",\"standard\",\"none\",\"76\",\"71\",\"72\"\n",
            "\"female\",\"group D\",\"master's degree\",\"standard\",\"none\",\"74\",\"79\",\"82\"\n",
            "\"female\",\"group B\",\"associate's degree\",\"standard\",\"completed\",\"94\",\"87\",\"92\"\n",
            "\"male\",\"group C\",\"some college\",\"free/reduced\",\"none\",\"63\",\"61\",\"54\"\n",
            "\"female\",\"group E\",\"associate's degree\",\"standard\",\"completed\",\"95\",\"89\",\"92\"\n",
            "\"female\",\"group D\",\"master's degree\",\"free/reduced\",\"none\",\"40\",\"59\",\"54\"\n",
            "\"female\",\"group B\",\"some high school\",\"standard\",\"none\",\"82\",\"82\",\"80\"\n",
            "\"male\",\"group A\",\"high school\",\"standard\",\"none\",\"68\",\"70\",\"66\"\n",
            "\"male\",\"group B\",\"bachelor's degree\",\"free/reduced\",\"none\",\"55\",\"59\",\"54\"\n",
            "\"male\",\"group C\",\"master's degree\",\"standard\",\"none\",\"79\",\"78\",\"77\"\n",
            "\"female\",\"group C\",\"bachelor's degree\",\"standard\",\"none\",\"86\",\"92\",\"87\"\n",
            "\"male\",\"group D\",\"some college\",\"standard\",\"none\",\"76\",\"71\",\"73\"\n",
            "\"male\",\"group A\",\"some high school\",\"standard\",\"none\",\"64\",\"50\",\"43\"\n",
            "\"male\",\"group D\",\"some high school\",\"free/reduced\",\"none\",\"62\",\"49\",\"52\"\n",
            "\"female\",\"group B\",\"some high school\",\"standard\",\"completed\",\"54\",\"61\",\"62\"\n",
            "\"female\",\"group B\",\"master's degree\",\"free/reduced\",\"completed\",\"77\",\"97\",\"94\"\n",
            "\"female\",\"group C\",\"some high school\",\"standard\",\"completed\",\"76\",\"87\",\"85\"\n",
            "\"female\",\"group D\",\"some college\",\"standard\",\"none\",\"74\",\"89\",\"84\"\n",
            "\"female\",\"group E\",\"some college\",\"standard\",\"completed\",\"66\",\"74\",\"73\"\n",
            "\"female\",\"group D\",\"some high school\",\"standard\",\"completed\",\"66\",\"78\",\"78\"\n",
            "\"female\",\"group B\",\"high school\",\"free/reduced\",\"completed\",\"67\",\"78\",\"79\"\n",
            "\"male\",\"group D\",\"some college\",\"standard\",\"none\",\"71\",\"49\",\"52\"\n",
            "\"female\",\"group C\",\"associate's degree\",\"standard\",\"none\",\"91\",\"86\",\"84\"\n",
            "\"male\",\"group D\",\"bachelor's degree\",\"standard\",\"none\",\"69\",\"58\",\"57\"\n",
            "\"male\",\"group C\",\"master's degree\",\"free/reduced\",\"none\",\"54\",\"59\",\"50\"\n",
            "\"male\",\"group C\",\"high school\",\"standard\",\"completed\",\"53\",\"52\",\"49\"\n",
            "\"male\",\"group E\",\"some college\",\"standard\",\"none\",\"68\",\"60\",\"59\"\n",
            "\"male\",\"group C\",\"some high school\",\"free/reduced\",\"completed\",\"56\",\"61\",\"60\"\n",
            "\"female\",\"group C\",\"high school\",\"free/reduced\",\"none\",\"36\",\"53\",\"43\"\n",
            "\"female\",\"group D\",\"bachelor's degree\",\"free/reduced\",\"none\",\"29\",\"41\",\"47\"\n",
            "\"female\",\"group C\",\"associate's degree\",\"standard\",\"none\",\"62\",\"74\",\"70\"\n",
            "\"female\",\"group C\",\"associate's degree\",\"standard\",\"completed\",\"68\",\"67\",\"73\"\n",
            "\"female\",\"group C\",\"some high school\",\"standard\",\"none\",\"47\",\"54\",\"53\"\n",
            "\"male\",\"group E\",\"associate's degree\",\"standard\",\"completed\",\"62\",\"61\",\"58\"\n",
            "\"female\",\"group E\",\"associate's degree\",\"standard\",\"completed\",\"79\",\"88\",\"94\"\n",
            "\"male\",\"group B\",\"high school\",\"standard\",\"completed\",\"73\",\"69\",\"68\"\n",
            "\"female\",\"group C\",\"bachelor's degree\",\"free/reduced\",\"completed\",\"66\",\"83\",\"83\"\n",
            "\"male\",\"group C\",\"associate's degree\",\"standard\",\"completed\",\"51\",\"60\",\"58\"\n",
            "\"female\",\"group D\",\"high school\",\"standard\",\"none\",\"51\",\"66\",\"62\"\n",
            "\"male\",\"group E\",\"bachelor's degree\",\"standard\",\"completed\",\"85\",\"66\",\"71\"\n",
            "\"male\",\"group A\",\"associate's degree\",\"standard\",\"completed\",\"97\",\"92\",\"86\"\n",
            "\"male\",\"group C\",\"high school\",\"standard\",\"completed\",\"75\",\"69\",\"68\"\n",
            "\"male\",\"group D\",\"associate's degree\",\"free/reduced\",\"completed\",\"79\",\"82\",\"80\"\n",
            "\"female\",\"group C\",\"associate's degree\",\"standard\",\"none\",\"81\",\"77\",\"79\"\n",
            "\"female\",\"group D\",\"associate's degree\",\"standard\",\"none\",\"82\",\"95\",\"89\"\n",
            "\"female\",\"group D\",\"master's degree\",\"standard\",\"none\",\"64\",\"63\",\"66\"\n",
            "\"male\",\"group E\",\"some high school\",\"free/reduced\",\"completed\",\"78\",\"83\",\"80\"\n",
            "\"female\",\"group A\",\"some high school\",\"standard\",\"completed\",\"92\",\"100\",\"97\"\n",
            "\"male\",\"group C\",\"high school\",\"standard\",\"completed\",\"72\",\"67\",\"64\"\n",
            "\"female\",\"group C\",\"high school\",\"free/reduced\",\"none\",\"62\",\"67\",\"64\"\n",
            "\"male\",\"group C\",\"master's degree\",\"standard\",\"none\",\"79\",\"72\",\"69\"\n",
            "\"male\",\"group C\",\"some high school\",\"free/reduced\",\"none\",\"79\",\"76\",\"65\"\n",
            "\"male\",\"group B\",\"bachelor's degree\",\"free/reduced\",\"completed\",\"87\",\"90\",\"88\"\n",
            "\"female\",\"group B\",\"associate's degree\",\"standard\",\"none\",\"40\",\"48\",\"50\"\n",
            "\"male\",\"group D\",\"some college\",\"free/reduced\",\"none\",\"77\",\"62\",\"64\"\n",
            "\"male\",\"group E\",\"associate's degree\",\"standard\",\"none\",\"53\",\"45\",\"40\"\n",
            "\"female\",\"group C\",\"some college\",\"free/reduced\",\"none\",\"32\",\"39\",\"33\"\n",
            "\"female\",\"group C\",\"associate's degree\",\"standard\",\"completed\",\"55\",\"72\",\"79\"\n",
            "\"male\",\"group C\",\"master's degree\",\"free/reduced\",\"none\",\"61\",\"67\",\"66\"\n",
            "\"female\",\"group B\",\"associate's degree\",\"free/reduced\",\"none\",\"53\",\"70\",\"70\"\n",
            "\"male\",\"group D\",\"some high school\",\"standard\",\"none\",\"73\",\"66\",\"62\"\n",
            "\"female\",\"group D\",\"some college\",\"standard\",\"completed\",\"74\",\"75\",\"79\"\n",
            "\"female\",\"group C\",\"some college\",\"standard\",\"none\",\"63\",\"74\",\"74\"\n",
            "\"male\",\"group C\",\"bachelor's degree\",\"standard\",\"completed\",\"96\",\"90\",\"92\"\n",
            "\"female\",\"group D\",\"some college\",\"free/reduced\",\"completed\",\"63\",\"80\",\"80\"\n",
            "\"male\",\"group B\",\"bachelor's degree\",\"free/reduced\",\"none\",\"48\",\"51\",\"46\"\n",
            "\"male\",\"group B\",\"associate's degree\",\"standard\",\"none\",\"48\",\"43\",\"45\"\n",
            "\"female\",\"group E\",\"bachelor's degree\",\"free/reduced\",\"completed\",\"92\",\"100\",\"100\"\n",
            "\"female\",\"group D\",\"master's degree\",\"free/reduced\",\"completed\",\"61\",\"71\",\"78\"\n",
            "\"male\",\"group B\",\"high school\",\"free/reduced\",\"none\",\"63\",\"48\",\"47\"\n",
            "\"male\",\"group D\",\"bachelor's degree\",\"free/reduced\",\"none\",\"68\",\"68\",\"67\"\n",
            "\"male\",\"group B\",\"some college\",\"standard\",\"completed\",\"71\",\"75\",\"70\"\n",
            "\"male\",\"group A\",\"bachelor's degree\",\"standard\",\"none\",\"91\",\"96\",\"92\"\n",
            "\"female\",\"group C\",\"some college\",\"standard\",\"none\",\"53\",\"62\",\"56\"\n",
            "\"female\",\"group C\",\"high school\",\"free/reduced\",\"completed\",\"50\",\"66\",\"64\"\n",
            "\"female\",\"group E\",\"high school\",\"standard\",\"none\",\"74\",\"81\",\"71\"\n",
            "\"male\",\"group A\",\"associate's degree\",\"free/reduced\",\"completed\",\"40\",\"55\",\"53\"\n",
            "\"male\",\"group A\",\"some college\",\"standard\",\"completed\",\"61\",\"51\",\"52\"\n",
            "\"female\",\"group B\",\"high school\",\"standard\",\"none\",\"81\",\"91\",\"89\"\n",
            "\"female\",\"group B\",\"some college\",\"free/reduced\",\"completed\",\"48\",\"56\",\"58\"\n",
            "\"female\",\"group D\",\"master's degree\",\"standard\",\"none\",\"53\",\"61\",\"68\"\n",
            "\"female\",\"group D\",\"some high school\",\"standard\",\"none\",\"81\",\"97\",\"96\"\n",
            "\"female\",\"group E\",\"some high school\",\"standard\",\"none\",\"77\",\"79\",\"80\"\n",
            "\"female\",\"group D\",\"bachelor's degree\",\"free/reduced\",\"none\",\"63\",\"73\",\"78\"\n",
            "\"female\",\"group D\",\"associate's degree\",\"standard\",\"completed\",\"73\",\"75\",\"80\"\n",
            "\"female\",\"group D\",\"some college\",\"standard\",\"none\",\"69\",\"77\",\"77\"\n",
            "\"female\",\"group C\",\"associate's degree\",\"standard\",\"none\",\"65\",\"76\",\"76\"\n",
            "\"female\",\"group A\",\"high school\",\"standard\",\"none\",\"55\",\"73\",\"73\"\n",
            "\"female\",\"group C\",\"bachelor's degree\",\"free/reduced\",\"none\",\"44\",\"63\",\"62\"\n",
            "\"female\",\"group C\",\"some college\",\"standard\",\"none\",\"54\",\"64\",\"65\"\n",
            "\"female\",\"group A\",\"some high school\",\"standard\",\"none\",\"48\",\"66\",\"65\"\n",
            "\"male\",\"group C\",\"some college\",\"free/reduced\",\"none\",\"58\",\"57\",\"54\"\n",
            "\"male\",\"group A\",\"some high school\",\"standard\",\"none\",\"71\",\"62\",\"50\"\n",
            "\"male\",\"group E\",\"bachelor's degree\",\"standard\",\"none\",\"68\",\"68\",\"64\"\n",
            "\"female\",\"group E\",\"high school\",\"standard\",\"none\",\"74\",\"76\",\"73\"\n",
            "\"female\",\"group C\",\"bachelor's degree\",\"standard\",\"completed\",\"92\",\"100\",\"99\"\n",
            "\"female\",\"group C\",\"bachelor's degree\",\"standard\",\"completed\",\"56\",\"79\",\"72\"\n",
            "\"male\",\"group B\",\"high school\",\"free/reduced\",\"none\",\"30\",\"24\",\"15\"\n",
            "\"male\",\"group A\",\"some high school\",\"standard\",\"none\",\"53\",\"54\",\"48\"\n",
            "\"female\",\"group D\",\"high school\",\"standard\",\"none\",\"69\",\"77\",\"73\"\n",
            "\"female\",\"group D\",\"some high school\",\"standard\",\"none\",\"65\",\"82\",\"81\"\n",
            "\"female\",\"group D\",\"master's degree\",\"standard\",\"none\",\"54\",\"60\",\"63\"\n",
            "\"female\",\"group C\",\"high school\",\"standard\",\"none\",\"29\",\"29\",\"30\"\n",
            "\"female\",\"group E\",\"some college\",\"standard\",\"none\",\"76\",\"78\",\"80\"\n",
            "\"male\",\"group D\",\"high school\",\"free/reduced\",\"none\",\"60\",\"57\",\"51\"\n",
            "\"male\",\"group D\",\"master's degree\",\"free/reduced\",\"completed\",\"84\",\"89\",\"90\"\n",
            "\"male\",\"group C\",\"some high school\",\"standard\",\"none\",\"75\",\"72\",\"62\"\n",
            "\"female\",\"group C\",\"associate's degree\",\"standard\",\"none\",\"85\",\"84\",\"82\"\n",
            "\"female\",\"group C\",\"master's degree\",\"free/reduced\",\"none\",\"40\",\"58\",\"54\"\n",
            "\"female\",\"group E\",\"some college\",\"standard\",\"none\",\"61\",\"64\",\"62\"\n",
            "\"female\",\"group B\",\"associate's degree\",\"standard\",\"none\",\"58\",\"63\",\"65\"\n",
            "\"male\",\"group D\",\"some college\",\"free/reduced\",\"completed\",\"69\",\"60\",\"63\"\n",
            "\"female\",\"group C\",\"some college\",\"standard\",\"none\",\"58\",\"59\",\"66\"\n",
            "\"male\",\"group C\",\"bachelor's degree\",\"standard\",\"completed\",\"94\",\"90\",\"91\"\n",
            "\"female\",\"group C\",\"associate's degree\",\"standard\",\"none\",\"65\",\"77\",\"74\"\n",
            "\"female\",\"group A\",\"associate's degree\",\"standard\",\"none\",\"82\",\"93\",\"93\"\n",
            "\"female\",\"group C\",\"high school\",\"standard\",\"none\",\"60\",\"68\",\"72\"\n",
            "\"female\",\"group E\",\"bachelor's degree\",\"standard\",\"none\",\"37\",\"45\",\"38\"\n",
            "\"male\",\"group D\",\"bachelor's degree\",\"standard\",\"none\",\"88\",\"78\",\"83\"\n",
            "\"male\",\"group D\",\"master's degree\",\"standard\",\"none\",\"95\",\"81\",\"84\"\n",
            "\"male\",\"group C\",\"associate's degree\",\"free/reduced\",\"completed\",\"65\",\"73\",\"68\"\n",
            "\"female\",\"group C\",\"high school\",\"free/reduced\",\"none\",\"35\",\"61\",\"54\"\n",
            "\"male\",\"group B\",\"bachelor's degree\",\"free/reduced\",\"none\",\"62\",\"63\",\"56\"\n",
            "\"male\",\"group C\",\"high school\",\"free/reduced\",\"completed\",\"58\",\"51\",\"52\"\n",
            "\"male\",\"group A\",\"some college\",\"standard\",\"completed\",\"100\",\"96\",\"86\"\n",
            "\"female\",\"group E\",\"bachelor's degree\",\"free/reduced\",\"none\",\"61\",\"58\",\"62\"\n",
            "\"male\",\"group D\",\"some college\",\"standard\",\"completed\",\"100\",\"97\",\"99\"\n",
            "\"male\",\"group B\",\"associate's degree\",\"free/reduced\",\"completed\",\"69\",\"70\",\"63\"\n",
            "\"male\",\"group D\",\"associate's degree\",\"standard\",\"none\",\"61\",\"48\",\"46\"\n",
            "\"male\",\"group D\",\"some college\",\"free/reduced\",\"none\",\"49\",\"57\",\"46\"\n",
            "\"female\",\"group C\",\"some high school\",\"standard\",\"completed\",\"44\",\"51\",\"55\"\n",
            "\"male\",\"group D\",\"some college\",\"standard\",\"none\",\"67\",\"64\",\"70\"\n",
            "\"male\",\"group B\",\"high school\",\"standard\",\"none\",\"79\",\"60\",\"65\"\n",
            "\"female\",\"group B\",\"bachelor's degree\",\"standard\",\"completed\",\"66\",\"74\",\"81\"\n",
            "\"female\",\"group C\",\"high school\",\"standard\",\"none\",\"75\",\"88\",\"85\"\n",
            "\"male\",\"group D\",\"some high school\",\"standard\",\"none\",\"84\",\"84\",\"80\"\n",
            "\"male\",\"group A\",\"high school\",\"standard\",\"none\",\"71\",\"74\",\"64\"\n",
            "\"female\",\"group B\",\"high school\",\"free/reduced\",\"completed\",\"67\",\"80\",\"81\"\n",
            "\"female\",\"group D\",\"some high school\",\"standard\",\"completed\",\"80\",\"92\",\"88\"\n",
            "\"male\",\"group E\",\"some college\",\"standard\",\"none\",\"86\",\"76\",\"74\"\n",
            "\"female\",\"group D\",\"associate's degree\",\"standard\",\"none\",\"76\",\"74\",\"73\"\n",
            "\"male\",\"group D\",\"high school\",\"standard\",\"none\",\"41\",\"52\",\"51\"\n",
            "\"female\",\"group D\",\"associate's degree\",\"free/reduced\",\"completed\",\"74\",\"88\",\"90\"\n",
            "\"female\",\"group B\",\"some high school\",\"free/reduced\",\"none\",\"72\",\"81\",\"79\"\n",
            "\"female\",\"group E\",\"high school\",\"standard\",\"completed\",\"74\",\"79\",\"80\"\n",
            "\"male\",\"group B\",\"high school\",\"standard\",\"none\",\"70\",\"65\",\"60\"\n",
            "\"female\",\"group B\",\"bachelor's degree\",\"standard\",\"completed\",\"65\",\"81\",\"81\"\n",
            "\"female\",\"group D\",\"associate's degree\",\"standard\",\"none\",\"59\",\"70\",\"65\"\n",
            "\"female\",\"group E\",\"high school\",\"free/reduced\",\"none\",\"64\",\"62\",\"68\"\n",
            "\"female\",\"group B\",\"high school\",\"standard\",\"none\",\"50\",\"53\",\"55\"\n",
            "\"female\",\"group D\",\"some college\",\"standard\",\"completed\",\"69\",\"79\",\"81\"\n",
            "\"male\",\"group C\",\"some high school\",\"free/reduced\",\"completed\",\"51\",\"56\",\"53\"\n",
            "\"female\",\"group A\",\"high school\",\"standard\",\"completed\",\"68\",\"80\",\"76\"\n",
            "\"female\",\"group D\",\"some college\",\"standard\",\"completed\",\"85\",\"86\",\"98\"\n",
            "\"female\",\"group A\",\"associate's degree\",\"standard\",\"completed\",\"65\",\"70\",\"74\"\n",
            "\"female\",\"group B\",\"some high school\",\"standard\",\"none\",\"73\",\"79\",\"79\"\n",
            "\"female\",\"group B\",\"some college\",\"standard\",\"none\",\"62\",\"67\",\"67\"\n",
            "\"male\",\"group C\",\"associate's degree\",\"free/reduced\",\"none\",\"77\",\"67\",\"64\"\n",
            "\"male\",\"group D\",\"some high school\",\"standard\",\"none\",\"69\",\"66\",\"61\"\n",
            "\"female\",\"group D\",\"associate's degree\",\"free/reduced\",\"none\",\"43\",\"60\",\"58\"\n",
            "\"male\",\"group D\",\"associate's degree\",\"standard\",\"none\",\"90\",\"87\",\"85\"\n",
            "\"male\",\"group C\",\"some college\",\"free/reduced\",\"none\",\"74\",\"77\",\"73\"\n",
            "\"male\",\"group C\",\"some high school\",\"standard\",\"none\",\"73\",\"66\",\"63\"\n",
            "\"female\",\"group D\",\"some college\",\"free/reduced\",\"none\",\"55\",\"71\",\"69\"\n",
            "\"female\",\"group C\",\"high school\",\"standard\",\"none\",\"65\",\"69\",\"67\"\n",
            "\"male\",\"group D\",\"associate's degree\",\"standard\",\"none\",\"80\",\"63\",\"63\"\n",
            "\"female\",\"group C\",\"some high school\",\"free/reduced\",\"completed\",\"50\",\"60\",\"60\"\n",
            "\"female\",\"group C\",\"some college\",\"free/reduced\",\"completed\",\"63\",\"73\",\"71\"\n",
            "\"female\",\"group B\",\"bachelor's degree\",\"free/reduced\",\"none\",\"77\",\"85\",\"87\"\n",
            "\"male\",\"group C\",\"some college\",\"standard\",\"none\",\"73\",\"74\",\"61\"\n",
            "\"male\",\"group D\",\"associate's degree\",\"standard\",\"completed\",\"81\",\"72\",\"77\"\n",
            "\"female\",\"group C\",\"high school\",\"free/reduced\",\"none\",\"66\",\"76\",\"68\"\n",
            "\"male\",\"group D\",\"associate's degree\",\"free/reduced\",\"none\",\"52\",\"57\",\"50\"\n",
            "\"female\",\"group C\",\"some college\",\"standard\",\"none\",\"69\",\"78\",\"76\"\n",
            "\"female\",\"group C\",\"associate's degree\",\"standard\",\"completed\",\"65\",\"84\",\"84\"\n",
            "\"female\",\"group D\",\"high school\",\"standard\",\"completed\",\"69\",\"77\",\"78\"\n",
            "\"female\",\"group B\",\"some college\",\"standard\",\"completed\",\"50\",\"64\",\"66\"\n",
            "\"female\",\"group E\",\"some college\",\"standard\",\"completed\",\"73\",\"78\",\"76\"\n",
            "\"female\",\"group C\",\"some high school\",\"standard\",\"completed\",\"70\",\"82\",\"76\"\n",
            "\"male\",\"group D\",\"associate's degree\",\"free/reduced\",\"none\",\"81\",\"75\",\"78\"\n",
            "\"male\",\"group D\",\"some college\",\"free/reduced\",\"none\",\"63\",\"61\",\"60\"\n",
            "\"female\",\"group D\",\"high school\",\"standard\",\"none\",\"67\",\"72\",\"74\"\n",
            "\"male\",\"group B\",\"high school\",\"standard\",\"none\",\"60\",\"68\",\"60\"\n",
            "\"male\",\"group B\",\"high school\",\"standard\",\"none\",\"62\",\"55\",\"54\"\n",
            "\"female\",\"group C\",\"some high school\",\"free/reduced\",\"completed\",\"29\",\"40\",\"44\"\n",
            "\"male\",\"group B\",\"some college\",\"standard\",\"completed\",\"62\",\"66\",\"68\"\n",
            "\"female\",\"group E\",\"master's degree\",\"standard\",\"completed\",\"94\",\"99\",\"100\"\n",
            "\"male\",\"group E\",\"some college\",\"standard\",\"completed\",\"85\",\"75\",\"68\"\n",
            "\"male\",\"group D\",\"associate's degree\",\"free/reduced\",\"none\",\"77\",\"78\",\"73\"\n",
            "\"male\",\"group A\",\"high school\",\"free/reduced\",\"none\",\"53\",\"58\",\"44\"\n",
            "\"male\",\"group E\",\"some college\",\"free/reduced\",\"none\",\"93\",\"90\",\"83\"\n",
            "\"female\",\"group C\",\"associate's degree\",\"standard\",\"none\",\"49\",\"53\",\"53\"\n",
            "\"female\",\"group E\",\"associate's degree\",\"free/reduced\",\"none\",\"73\",\"76\",\"78\"\n",
            "\"female\",\"group C\",\"bachelor's degree\",\"free/reduced\",\"completed\",\"66\",\"74\",\"81\"\n",
            "\"female\",\"group D\",\"associate's degree\",\"standard\",\"none\",\"77\",\"77\",\"73\"\n",
            "\"female\",\"group C\",\"some high school\",\"standard\",\"none\",\"49\",\"63\",\"56\"\n",
            "\"female\",\"group D\",\"some college\",\"free/reduced\",\"none\",\"79\",\"89\",\"86\"\n",
            "\"female\",\"group C\",\"associate's degree\",\"standard\",\"completed\",\"75\",\"82\",\"90\"\n",
            "\"female\",\"group A\",\"bachelor's degree\",\"standard\",\"none\",\"59\",\"72\",\"70\"\n",
            "\"female\",\"group D\",\"associate's degree\",\"standard\",\"completed\",\"57\",\"78\",\"79\"\n",
            "\"male\",\"group C\",\"high school\",\"free/reduced\",\"none\",\"66\",\"66\",\"59\"\n",
            "\"female\",\"group E\",\"bachelor's degree\",\"standard\",\"completed\",\"79\",\"81\",\"82\"\n",
            "\"female\",\"group B\",\"some high school\",\"standard\",\"none\",\"57\",\"67\",\"72\"\n",
            "\"male\",\"group A\",\"bachelor's degree\",\"standard\",\"completed\",\"87\",\"84\",\"87\"\n",
            "\"female\",\"group D\",\"some college\",\"standard\",\"none\",\"63\",\"64\",\"67\"\n",
            "\"female\",\"group B\",\"some high school\",\"free/reduced\",\"completed\",\"59\",\"63\",\"64\"\n",
            "\"male\",\"group A\",\"bachelor's degree\",\"free/reduced\",\"none\",\"62\",\"72\",\"65\"\n",
            "\"male\",\"group D\",\"high school\",\"standard\",\"none\",\"46\",\"34\",\"36\"\n",
            "\"male\",\"group C\",\"some college\",\"standard\",\"none\",\"66\",\"59\",\"52\"\n",
            "\"male\",\"group D\",\"high school\",\"standard\",\"none\",\"89\",\"87\",\"79\"\n",
            "\"female\",\"group D\",\"associate's degree\",\"free/reduced\",\"completed\",\"42\",\"61\",\"58\"\n",
            "\"male\",\"group C\",\"some college\",\"standard\",\"completed\",\"93\",\"84\",\"90\"\n",
            "\"female\",\"group E\",\"some high school\",\"standard\",\"completed\",\"80\",\"85\",\"85\"\n",
            "\"female\",\"group D\",\"some college\",\"standard\",\"none\",\"98\",\"100\",\"99\"\n",
            "\"male\",\"group D\",\"master's degree\",\"standard\",\"none\",\"81\",\"81\",\"84\"\n",
            "\"female\",\"group B\",\"some high school\",\"standard\",\"completed\",\"60\",\"70\",\"74\"\n",
            "\"female\",\"group B\",\"associate's degree\",\"free/reduced\",\"completed\",\"76\",\"94\",\"87\"\n",
            "\"male\",\"group C\",\"associate's degree\",\"standard\",\"completed\",\"73\",\"78\",\"72\"\n",
            "\"female\",\"group C\",\"associate's degree\",\"standard\",\"completed\",\"96\",\"96\",\"99\"\n",
            "\"female\",\"group C\",\"high school\",\"standard\",\"none\",\"76\",\"76\",\"74\"\n",
            "\"male\",\"group E\",\"associate's degree\",\"free/reduced\",\"completed\",\"91\",\"73\",\"80\"\n",
            "\"female\",\"group C\",\"some college\",\"free/reduced\",\"none\",\"62\",\"72\",\"70\"\n",
            "\"male\",\"group D\",\"some high school\",\"free/reduced\",\"completed\",\"55\",\"59\",\"59\"\n",
            "\"female\",\"group B\",\"some high school\",\"free/reduced\",\"completed\",\"74\",\"90\",\"88\"\n",
            "\"male\",\"group C\",\"high school\",\"standard\",\"none\",\"50\",\"48\",\"42\"\n",
            "\"male\",\"group B\",\"some college\",\"standard\",\"none\",\"47\",\"43\",\"41\"\n",
            "\"male\",\"group E\",\"some college\",\"standard\",\"completed\",\"81\",\"74\",\"71\"\n",
            "\"female\",\"group E\",\"associate's degree\",\"standard\",\"completed\",\"65\",\"75\",\"77\"\n",
            "\"male\",\"group E\",\"some high school\",\"standard\",\"completed\",\"68\",\"51\",\"57\"\n",
            "\"female\",\"group D\",\"high school\",\"free/reduced\",\"none\",\"73\",\"92\",\"84\"\n",
            "\"male\",\"group C\",\"some college\",\"standard\",\"none\",\"53\",\"39\",\"37\"\n",
            "\"female\",\"group B\",\"associate's degree\",\"free/reduced\",\"completed\",\"68\",\"77\",\"80\"\n",
            "\"male\",\"group A\",\"some high school\",\"free/reduced\",\"none\",\"55\",\"46\",\"43\"\n",
            "\"female\",\"group C\",\"some college\",\"standard\",\"completed\",\"87\",\"89\",\"94\"\n",
            "\"male\",\"group D\",\"some high school\",\"standard\",\"none\",\"55\",\"47\",\"44\"\n",
            "\"female\",\"group E\",\"some college\",\"free/reduced\",\"none\",\"53\",\"58\",\"57\"\n",
            "\"male\",\"group C\",\"master's degree\",\"standard\",\"none\",\"67\",\"57\",\"59\"\n",
            "\"male\",\"group C\",\"associate's degree\",\"standard\",\"none\",\"92\",\"79\",\"84\"\n",
            "\"female\",\"group B\",\"some college\",\"free/reduced\",\"completed\",\"53\",\"66\",\"73\"\n",
            "\"male\",\"group D\",\"associate's degree\",\"standard\",\"none\",\"81\",\"71\",\"73\"\n",
            "\"male\",\"group C\",\"high school\",\"free/reduced\",\"none\",\"61\",\"60\",\"55\"\n",
            "\"male\",\"group D\",\"bachelor's degree\",\"standard\",\"none\",\"80\",\"73\",\"72\"\n",
            "\"female\",\"group A\",\"associate's degree\",\"free/reduced\",\"none\",\"37\",\"57\",\"56\"\n",
            "\"female\",\"group C\",\"high school\",\"standard\",\"none\",\"81\",\"84\",\"82\"\n",
            "\"female\",\"group C\",\"associate's degree\",\"standard\",\"completed\",\"59\",\"73\",\"72\"\n",
            "\"male\",\"group B\",\"some college\",\"free/reduced\",\"none\",\"55\",\"55\",\"47\"\n",
            "\"male\",\"group D\",\"associate's degree\",\"standard\",\"none\",\"72\",\"79\",\"74\"\n",
            "\"male\",\"group D\",\"high school\",\"standard\",\"none\",\"69\",\"75\",\"71\"\n",
            "\"male\",\"group C\",\"some college\",\"standard\",\"none\",\"69\",\"64\",\"68\"\n",
            "\"female\",\"group C\",\"bachelor's degree\",\"free/reduced\",\"none\",\"50\",\"60\",\"59\"\n",
            "\"male\",\"group B\",\"some college\",\"standard\",\"completed\",\"87\",\"84\",\"86\"\n",
            "\"male\",\"group D\",\"some high school\",\"standard\",\"completed\",\"71\",\"69\",\"68\"\n",
            "\"male\",\"group E\",\"some college\",\"standard\",\"none\",\"68\",\"72\",\"65\"\n",
            "\"male\",\"group C\",\"master's degree\",\"free/reduced\",\"completed\",\"79\",\"77\",\"75\"\n",
            "\"female\",\"group C\",\"some high school\",\"standard\",\"completed\",\"77\",\"90\",\"85\"\n",
            "\"male\",\"group C\",\"associate's degree\",\"free/reduced\",\"none\",\"58\",\"55\",\"53\"\n",
            "\"female\",\"group E\",\"associate's degree\",\"standard\",\"none\",\"84\",\"95\",\"92\"\n",
            "\"male\",\"group D\",\"some college\",\"standard\",\"none\",\"55\",\"58\",\"52\"\n",
            "\"male\",\"group E\",\"bachelor's degree\",\"free/reduced\",\"completed\",\"70\",\"68\",\"72\"\n",
            "\"female\",\"group D\",\"some college\",\"free/reduced\",\"completed\",\"52\",\"59\",\"65\"\n",
            "\"male\",\"group B\",\"some college\",\"standard\",\"completed\",\"69\",\"77\",\"77\"\n",
            "\"female\",\"group C\",\"high school\",\"free/reduced\",\"none\",\"53\",\"72\",\"64\"\n",
            "\"female\",\"group D\",\"some high school\",\"standard\",\"none\",\"48\",\"58\",\"54\"\n",
            "\"male\",\"group D\",\"some high school\",\"standard\",\"completed\",\"78\",\"81\",\"86\"\n",
            "\"female\",\"group B\",\"high school\",\"standard\",\"none\",\"62\",\"62\",\"63\"\n",
            "\"male\",\"group D\",\"some college\",\"standard\",\"none\",\"60\",\"63\",\"59\"\n",
            "\"female\",\"group B\",\"high school\",\"standard\",\"none\",\"74\",\"72\",\"72\"\n",
            "\"female\",\"group C\",\"high school\",\"standard\",\"completed\",\"58\",\"75\",\"77\"\n",
            "\"male\",\"group B\",\"high school\",\"standard\",\"completed\",\"76\",\"62\",\"60\"\n",
            "\"female\",\"group D\",\"some high school\",\"standard\",\"none\",\"68\",\"71\",\"75\"\n",
            "\"male\",\"group A\",\"some college\",\"free/reduced\",\"none\",\"58\",\"60\",\"57\"\n",
            "\"male\",\"group B\",\"high school\",\"standard\",\"none\",\"52\",\"48\",\"49\"\n",
            "\"male\",\"group D\",\"bachelor's degree\",\"standard\",\"none\",\"75\",\"73\",\"74\"\n",
            "\"female\",\"group B\",\"some high school\",\"free/reduced\",\"completed\",\"52\",\"67\",\"72\"\n",
            "\"female\",\"group C\",\"bachelor's degree\",\"free/reduced\",\"none\",\"62\",\"78\",\"79\"\n",
            "\"male\",\"group B\",\"some college\",\"standard\",\"none\",\"66\",\"65\",\"60\"\n",
            "\"female\",\"group B\",\"some high school\",\"free/reduced\",\"none\",\"49\",\"58\",\"55\"\n",
            "\"female\",\"group B\",\"high school\",\"standard\",\"none\",\"66\",\"72\",\"70\"\n",
            "\"female\",\"group C\",\"some college\",\"free/reduced\",\"none\",\"35\",\"44\",\"43\"\n",
            "\"female\",\"group A\",\"some college\",\"standard\",\"completed\",\"72\",\"79\",\"82\"\n",
            "\"male\",\"group E\",\"associate's degree\",\"standard\",\"completed\",\"94\",\"85\",\"82\"\n",
            "\"female\",\"group D\",\"associate's degree\",\"free/reduced\",\"none\",\"46\",\"56\",\"57\"\n",
            "\"female\",\"group B\",\"master's degree\",\"standard\",\"none\",\"77\",\"90\",\"84\"\n",
            "\"female\",\"group B\",\"high school\",\"free/reduced\",\"completed\",\"76\",\"85\",\"82\"\n",
            "\"female\",\"group C\",\"associate's degree\",\"standard\",\"completed\",\"52\",\"59\",\"62\"\n",
            "\"male\",\"group C\",\"bachelor's degree\",\"standard\",\"completed\",\"91\",\"81\",\"79\"\n",
            "\"female\",\"group B\",\"some high school\",\"standard\",\"completed\",\"32\",\"51\",\"44\"\n",
            "\"female\",\"group E\",\"some high school\",\"free/reduced\",\"none\",\"72\",\"79\",\"77\"\n",
            "\"female\",\"group B\",\"some college\",\"standard\",\"none\",\"19\",\"38\",\"32\"\n",
            "\"male\",\"group C\",\"associate's degree\",\"free/reduced\",\"none\",\"68\",\"65\",\"61\"\n",
            "\"female\",\"group C\",\"master's degree\",\"free/reduced\",\"none\",\"52\",\"65\",\"61\"\n",
            "\"female\",\"group B\",\"high school\",\"standard\",\"none\",\"48\",\"62\",\"60\"\n",
            "\"female\",\"group D\",\"some college\",\"free/reduced\",\"none\",\"60\",\"66\",\"70\"\n",
            "\"male\",\"group D\",\"high school\",\"free/reduced\",\"none\",\"66\",\"74\",\"69\"\n",
            "\"male\",\"group E\",\"some high school\",\"standard\",\"completed\",\"89\",\"84\",\"77\"\n",
            "\"female\",\"group B\",\"high school\",\"standard\",\"none\",\"42\",\"52\",\"51\"\n",
            "\"female\",\"group E\",\"associate's degree\",\"free/reduced\",\"completed\",\"57\",\"68\",\"73\"\n",
            "\"male\",\"group D\",\"high school\",\"standard\",\"none\",\"70\",\"70\",\"70\"\n",
            "\"female\",\"group E\",\"associate's degree\",\"free/reduced\",\"none\",\"70\",\"84\",\"81\"\n",
            "\"male\",\"group E\",\"some college\",\"standard\",\"none\",\"69\",\"60\",\"54\"\n",
            "\"female\",\"group C\",\"associate's degree\",\"standard\",\"none\",\"52\",\"55\",\"57\"\n",
            "\"male\",\"group C\",\"some high school\",\"standard\",\"completed\",\"67\",\"73\",\"68\"\n",
            "\"male\",\"group C\",\"some high school\",\"standard\",\"completed\",\"76\",\"80\",\"73\"\n",
            "\"female\",\"group E\",\"associate's degree\",\"standard\",\"none\",\"87\",\"94\",\"95\"\n",
            "\"female\",\"group B\",\"some college\",\"standard\",\"none\",\"82\",\"85\",\"87\"\n",
            "\"female\",\"group C\",\"some college\",\"standard\",\"none\",\"73\",\"76\",\"78\"\n",
            "\"male\",\"group A\",\"some college\",\"free/reduced\",\"none\",\"75\",\"81\",\"74\"\n",
            "\"female\",\"group D\",\"some college\",\"free/reduced\",\"none\",\"64\",\"74\",\"75\"\n",
            "\"female\",\"group E\",\"high school\",\"free/reduced\",\"none\",\"41\",\"45\",\"40\"\n",
            "\"male\",\"group C\",\"high school\",\"standard\",\"none\",\"90\",\"75\",\"69\"\n",
            "\"male\",\"group B\",\"bachelor's degree\",\"standard\",\"none\",\"59\",\"54\",\"51\"\n",
            "\"male\",\"group A\",\"some high school\",\"standard\",\"none\",\"51\",\"31\",\"36\"\n",
            "\"male\",\"group A\",\"high school\",\"free/reduced\",\"none\",\"45\",\"47\",\"49\"\n",
            "\"female\",\"group C\",\"master's degree\",\"standard\",\"completed\",\"54\",\"64\",\"67\"\n",
            "\"male\",\"group E\",\"some high school\",\"standard\",\"completed\",\"87\",\"84\",\"76\"\n",
            "\"female\",\"group C\",\"high school\",\"standard\",\"none\",\"72\",\"80\",\"83\"\n",
            "\"male\",\"group B\",\"some high school\",\"standard\",\"completed\",\"94\",\"86\",\"87\"\n",
            "\"female\",\"group A\",\"bachelor's degree\",\"standard\",\"none\",\"45\",\"59\",\"64\"\n",
            "\"male\",\"group D\",\"bachelor's degree\",\"free/reduced\",\"completed\",\"61\",\"70\",\"76\"\n",
            "\"female\",\"group B\",\"high school\",\"free/reduced\",\"none\",\"60\",\"72\",\"68\"\n",
            "\"female\",\"group C\",\"some high school\",\"standard\",\"none\",\"77\",\"91\",\"88\"\n",
            "\"female\",\"group A\",\"some high school\",\"standard\",\"completed\",\"85\",\"90\",\"92\"\n",
            "\"female\",\"group D\",\"bachelor's degree\",\"free/reduced\",\"none\",\"78\",\"90\",\"93\"\n",
            "\"male\",\"group E\",\"some college\",\"free/reduced\",\"completed\",\"49\",\"52\",\"51\"\n",
            "\"female\",\"group B\",\"high school\",\"free/reduced\",\"none\",\"71\",\"87\",\"82\"\n",
            "\"female\",\"group C\",\"some high school\",\"free/reduced\",\"none\",\"48\",\"58\",\"52\"\n",
            "\"male\",\"group C\",\"high school\",\"standard\",\"none\",\"62\",\"67\",\"58\"\n",
            "\"female\",\"group C\",\"associate's degree\",\"free/reduced\",\"completed\",\"56\",\"68\",\"70\"\n",
            "\"female\",\"group C\",\"some high school\",\"standard\",\"none\",\"65\",\"69\",\"76\"\n",
            "\"female\",\"group D\",\"some high school\",\"free/reduced\",\"completed\",\"69\",\"86\",\"81\"\n",
            "\"male\",\"group B\",\"some high school\",\"standard\",\"none\",\"68\",\"54\",\"53\"\n",
            "\"female\",\"group A\",\"some college\",\"free/reduced\",\"none\",\"61\",\"60\",\"57\"\n",
            "\"female\",\"group C\",\"bachelor's degree\",\"free/reduced\",\"completed\",\"74\",\"86\",\"89\"\n",
            "\"male\",\"group A\",\"bachelor's degree\",\"standard\",\"none\",\"64\",\"60\",\"58\"\n",
            "\"female\",\"group B\",\"high school\",\"standard\",\"completed\",\"77\",\"82\",\"89\"\n",
            "\"male\",\"group B\",\"some college\",\"standard\",\"none\",\"58\",\"50\",\"45\"\n",
            "\"female\",\"group C\",\"high school\",\"standard\",\"completed\",\"60\",\"64\",\"74\"\n",
            "\"male\",\"group E\",\"high school\",\"standard\",\"none\",\"73\",\"64\",\"57\"\n",
            "\"female\",\"group A\",\"high school\",\"standard\",\"completed\",\"75\",\"82\",\"79\"\n",
            "\"male\",\"group B\",\"associate's degree\",\"free/reduced\",\"completed\",\"58\",\"57\",\"53\"\n",
            "\"female\",\"group C\",\"associate's degree\",\"standard\",\"none\",\"66\",\"77\",\"73\"\n",
            "\"female\",\"group D\",\"high school\",\"free/reduced\",\"none\",\"39\",\"52\",\"46\"\n",
            "\"male\",\"group C\",\"some high school\",\"standard\",\"none\",\"64\",\"58\",\"51\"\n",
            "\"female\",\"group B\",\"high school\",\"free/reduced\",\"completed\",\"23\",\"44\",\"36\"\n",
            "\"male\",\"group B\",\"some college\",\"free/reduced\",\"completed\",\"74\",\"77\",\"76\"\n",
            "\"female\",\"group D\",\"some high school\",\"free/reduced\",\"completed\",\"40\",\"65\",\"64\"\n",
            "\"male\",\"group E\",\"master's degree\",\"standard\",\"none\",\"90\",\"85\",\"84\"\n",
            "\"male\",\"group C\",\"master's degree\",\"standard\",\"completed\",\"91\",\"85\",\"85\"\n",
            "\"male\",\"group D\",\"high school\",\"standard\",\"none\",\"64\",\"54\",\"50\"\n",
            "\"female\",\"group C\",\"high school\",\"standard\",\"none\",\"59\",\"72\",\"68\"\n",
            "\"male\",\"group D\",\"associate's degree\",\"standard\",\"none\",\"80\",\"75\",\"69\"\n",
            "\"male\",\"group C\",\"master's degree\",\"standard\",\"none\",\"71\",\"67\",\"67\"\n",
            "\"female\",\"group A\",\"high school\",\"standard\",\"none\",\"61\",\"68\",\"63\"\n",
            "\"female\",\"group E\",\"some college\",\"standard\",\"none\",\"87\",\"85\",\"93\"\n",
            "\"male\",\"group E\",\"some high school\",\"standard\",\"none\",\"82\",\"67\",\"61\"\n",
            "\"male\",\"group C\",\"some high school\",\"standard\",\"none\",\"62\",\"64\",\"55\"\n",
            "\"female\",\"group B\",\"bachelor's degree\",\"standard\",\"none\",\"97\",\"97\",\"96\"\n",
            "\"male\",\"group B\",\"some college\",\"free/reduced\",\"none\",\"75\",\"68\",\"65\"\n",
            "\"female\",\"group C\",\"bachelor's degree\",\"standard\",\"none\",\"65\",\"79\",\"81\"\n",
            "\"male\",\"group B\",\"high school\",\"standard\",\"completed\",\"52\",\"49\",\"46\"\n",
            "\"male\",\"group C\",\"associate's degree\",\"free/reduced\",\"none\",\"87\",\"73\",\"72\"\n",
            "\"female\",\"group C\",\"associate's degree\",\"standard\",\"none\",\"53\",\"62\",\"53\"\n",
            "\"female\",\"group E\",\"master's degree\",\"free/reduced\",\"none\",\"81\",\"86\",\"87\"\n",
            "\"male\",\"group D\",\"bachelor's degree\",\"free/reduced\",\"completed\",\"39\",\"42\",\"38\"\n",
            "\"female\",\"group C\",\"some college\",\"standard\",\"completed\",\"71\",\"71\",\"80\"\n",
            "\"male\",\"group C\",\"associate's degree\",\"standard\",\"none\",\"97\",\"93\",\"91\"\n",
            "\"male\",\"group D\",\"some college\",\"standard\",\"completed\",\"82\",\"82\",\"88\"\n",
            "\"male\",\"group C\",\"high school\",\"free/reduced\",\"none\",\"59\",\"53\",\"52\"\n",
            "\"male\",\"group B\",\"associate's degree\",\"standard\",\"none\",\"61\",\"42\",\"41\"\n",
            "\"male\",\"group E\",\"associate's degree\",\"free/reduced\",\"completed\",\"78\",\"74\",\"72\"\n",
            "\"male\",\"group C\",\"associate's degree\",\"free/reduced\",\"none\",\"49\",\"51\",\"51\"\n",
            "\"male\",\"group B\",\"high school\",\"standard\",\"none\",\"59\",\"58\",\"47\"\n",
            "\"female\",\"group C\",\"some college\",\"standard\",\"completed\",\"70\",\"72\",\"76\"\n",
            "\"male\",\"group B\",\"associate's degree\",\"standard\",\"completed\",\"82\",\"84\",\"78\"\n",
            "\"male\",\"group E\",\"associate's degree\",\"free/reduced\",\"none\",\"90\",\"90\",\"82\"\n",
            "\"female\",\"group C\",\"bachelor's degree\",\"free/reduced\",\"none\",\"43\",\"62\",\"61\"\n",
            "\"male\",\"group C\",\"some college\",\"free/reduced\",\"none\",\"80\",\"64\",\"66\"\n",
            "\"male\",\"group D\",\"some college\",\"standard\",\"none\",\"81\",\"82\",\"84\"\n",
            "\"male\",\"group C\",\"some high school\",\"standard\",\"none\",\"57\",\"61\",\"54\"\n",
            "\"female\",\"group D\",\"some high school\",\"standard\",\"none\",\"59\",\"72\",\"80\"\n",
            "\"female\",\"group D\",\"associate's degree\",\"standard\",\"none\",\"64\",\"76\",\"74\"\n",
            "\"male\",\"group C\",\"bachelor's degree\",\"standard\",\"completed\",\"63\",\"64\",\"66\"\n",
            "\"female\",\"group E\",\"bachelor's degree\",\"standard\",\"completed\",\"71\",\"70\",\"70\"\n",
            "\"female\",\"group B\",\"high school\",\"free/reduced\",\"none\",\"64\",\"73\",\"71\"\n",
            "\"male\",\"group D\",\"bachelor's degree\",\"free/reduced\",\"none\",\"55\",\"46\",\"44\"\n",
            "\"female\",\"group E\",\"associate's degree\",\"standard\",\"none\",\"51\",\"51\",\"54\"\n",
            "\"female\",\"group C\",\"associate's degree\",\"standard\",\"completed\",\"62\",\"76\",\"80\"\n",
            "\"female\",\"group E\",\"associate's degree\",\"standard\",\"completed\",\"93\",\"100\",\"95\"\n",
            "\"male\",\"group C\",\"high school\",\"free/reduced\",\"none\",\"54\",\"72\",\"59\"\n",
            "\"female\",\"group D\",\"some college\",\"free/reduced\",\"none\",\"69\",\"65\",\"74\"\n",
            "\"male\",\"group D\",\"high school\",\"free/reduced\",\"none\",\"44\",\"51\",\"48\"\n",
            "\"female\",\"group E\",\"some college\",\"standard\",\"completed\",\"86\",\"85\",\"91\"\n",
            "\"female\",\"group E\",\"associate's degree\",\"standard\",\"none\",\"85\",\"92\",\"85\"\n",
            "\"female\",\"group A\",\"master's degree\",\"free/reduced\",\"none\",\"50\",\"67\",\"73\"\n",
            "\"male\",\"group D\",\"some high school\",\"standard\",\"completed\",\"88\",\"74\",\"75\"\n",
            "\"female\",\"group E\",\"associate's degree\",\"standard\",\"none\",\"59\",\"62\",\"69\"\n",
            "\"female\",\"group E\",\"some high school\",\"free/reduced\",\"none\",\"32\",\"34\",\"38\"\n",
            "\"male\",\"group B\",\"high school\",\"free/reduced\",\"none\",\"36\",\"29\",\"27\"\n",
            "\"female\",\"group B\",\"some high school\",\"free/reduced\",\"completed\",\"63\",\"78\",\"79\"\n",
            "\"male\",\"group D\",\"associate's degree\",\"standard\",\"completed\",\"67\",\"54\",\"63\"\n",
            "\"female\",\"group D\",\"some high school\",\"standard\",\"completed\",\"65\",\"78\",\"82\"\n",
            "\"male\",\"group D\",\"master's degree\",\"standard\",\"none\",\"85\",\"84\",\"89\"\n",
            "\"female\",\"group C\",\"master's degree\",\"standard\",\"none\",\"73\",\"78\",\"74\"\n",
            "\"female\",\"group A\",\"high school\",\"free/reduced\",\"completed\",\"34\",\"48\",\"41\"\n",
            "\"female\",\"group D\",\"bachelor's degree\",\"free/reduced\",\"completed\",\"93\",\"100\",\"100\"\n",
            "\"female\",\"group D\",\"some high school\",\"free/reduced\",\"none\",\"67\",\"84\",\"84\"\n",
            "\"male\",\"group D\",\"some college\",\"standard\",\"none\",\"88\",\"77\",\"77\"\n",
            "\"male\",\"group B\",\"high school\",\"standard\",\"none\",\"57\",\"48\",\"51\"\n",
            "\"female\",\"group D\",\"some college\",\"standard\",\"completed\",\"79\",\"84\",\"91\"\n",
            "\"female\",\"group C\",\"bachelor's degree\",\"free/reduced\",\"none\",\"67\",\"75\",\"72\"\n",
            "\"male\",\"group E\",\"bachelor's degree\",\"standard\",\"completed\",\"70\",\"64\",\"70\"\n",
            "\"male\",\"group D\",\"bachelor's degree\",\"free/reduced\",\"none\",\"50\",\"42\",\"48\"\n",
            "\"female\",\"group A\",\"some college\",\"standard\",\"none\",\"69\",\"84\",\"82\"\n",
            "\"female\",\"group C\",\"bachelor's degree\",\"standard\",\"completed\",\"52\",\"61\",\"66\"\n",
            "\"female\",\"group C\",\"bachelor's degree\",\"free/reduced\",\"completed\",\"47\",\"62\",\"66\"\n",
            "\"female\",\"group B\",\"associate's degree\",\"free/reduced\",\"none\",\"46\",\"61\",\"55\"\n",
            "\"female\",\"group E\",\"some college\",\"standard\",\"none\",\"68\",\"70\",\"66\"\n",
            "\"male\",\"group E\",\"bachelor's degree\",\"standard\",\"completed\",\"100\",\"100\",\"100\"\n",
            "\"female\",\"group C\",\"high school\",\"standard\",\"none\",\"44\",\"61\",\"52\"\n",
            "\"female\",\"group C\",\"associate's degree\",\"standard\",\"completed\",\"57\",\"77\",\"80\"\n",
            "\"male\",\"group B\",\"some college\",\"standard\",\"completed\",\"91\",\"96\",\"91\"\n",
            "\"male\",\"group D\",\"high school\",\"free/reduced\",\"none\",\"69\",\"70\",\"67\"\n",
            "\"female\",\"group C\",\"high school\",\"free/reduced\",\"none\",\"35\",\"53\",\"46\"\n",
            "\"male\",\"group D\",\"high school\",\"standard\",\"none\",\"72\",\"66\",\"66\"\n",
            "\"female\",\"group B\",\"associate's degree\",\"free/reduced\",\"none\",\"54\",\"65\",\"65\"\n",
            "\"male\",\"group D\",\"high school\",\"free/reduced\",\"none\",\"74\",\"70\",\"69\"\n",
            "\"male\",\"group E\",\"some high school\",\"standard\",\"completed\",\"74\",\"64\",\"60\"\n",
            "\"male\",\"group E\",\"associate's degree\",\"free/reduced\",\"none\",\"64\",\"56\",\"52\"\n",
            "\"female\",\"group D\",\"high school\",\"free/reduced\",\"completed\",\"65\",\"61\",\"71\"\n",
            "\"male\",\"group E\",\"associate's degree\",\"free/reduced\",\"completed\",\"46\",\"43\",\"44\"\n",
            "\"female\",\"group C\",\"some high school\",\"free/reduced\",\"none\",\"48\",\"56\",\"51\"\n",
            "\"male\",\"group C\",\"some college\",\"free/reduced\",\"completed\",\"67\",\"74\",\"70\"\n",
            "\"male\",\"group D\",\"some college\",\"free/reduced\",\"none\",\"62\",\"57\",\"62\"\n",
            "\"male\",\"group D\",\"associate's degree\",\"free/reduced\",\"completed\",\"61\",\"71\",\"73\"\n",
            "\"male\",\"group C\",\"bachelor's degree\",\"free/reduced\",\"completed\",\"70\",\"75\",\"74\"\n",
            "\"male\",\"group C\",\"associate's degree\",\"standard\",\"completed\",\"98\",\"87\",\"90\"\n",
            "\"male\",\"group D\",\"some college\",\"free/reduced\",\"none\",\"70\",\"63\",\"58\"\n",
            "\"male\",\"group A\",\"associate's degree\",\"standard\",\"none\",\"67\",\"57\",\"53\"\n",
            "\"female\",\"group E\",\"high school\",\"free/reduced\",\"none\",\"57\",\"58\",\"57\"\n",
            "\"male\",\"group D\",\"some college\",\"standard\",\"completed\",\"85\",\"81\",\"85\"\n",
            "\"male\",\"group D\",\"some high school\",\"standard\",\"completed\",\"77\",\"68\",\"69\"\n",
            "\"male\",\"group C\",\"master's degree\",\"free/reduced\",\"completed\",\"72\",\"66\",\"72\"\n",
            "\"female\",\"group D\",\"master's degree\",\"standard\",\"none\",\"78\",\"91\",\"96\"\n",
            "\"male\",\"group C\",\"high school\",\"standard\",\"none\",\"81\",\"66\",\"64\"\n",
            "\"male\",\"group A\",\"some high school\",\"free/reduced\",\"completed\",\"61\",\"62\",\"61\"\n",
            "\"female\",\"group B\",\"high school\",\"standard\",\"none\",\"58\",\"68\",\"61\"\n",
            "\"female\",\"group C\",\"associate's degree\",\"standard\",\"none\",\"54\",\"61\",\"58\"\n",
            "\"male\",\"group B\",\"high school\",\"standard\",\"none\",\"82\",\"82\",\"80\"\n",
            "\"female\",\"group D\",\"some college\",\"free/reduced\",\"none\",\"49\",\"58\",\"60\"\n",
            "\"male\",\"group B\",\"some high school\",\"free/reduced\",\"completed\",\"49\",\"50\",\"52\"\n",
            "\"female\",\"group E\",\"high school\",\"free/reduced\",\"completed\",\"57\",\"75\",\"73\"\n",
            "\"male\",\"group E\",\"high school\",\"standard\",\"none\",\"94\",\"73\",\"71\"\n",
            "\"female\",\"group D\",\"some college\",\"standard\",\"completed\",\"75\",\"77\",\"83\"\n",
            "\"female\",\"group E\",\"some high school\",\"free/reduced\",\"none\",\"74\",\"74\",\"72\"\n",
            "\"male\",\"group C\",\"high school\",\"standard\",\"completed\",\"58\",\"52\",\"54\"\n",
            "\"female\",\"group C\",\"some college\",\"standard\",\"none\",\"62\",\"69\",\"69\"\n",
            "\"male\",\"group E\",\"associate's degree\",\"standard\",\"none\",\"72\",\"57\",\"62\"\n",
            "\"male\",\"group C\",\"some college\",\"standard\",\"none\",\"84\",\"87\",\"81\"\n",
            "\"female\",\"group D\",\"master's degree\",\"standard\",\"none\",\"92\",\"100\",\"100\"\n",
            "\"female\",\"group D\",\"high school\",\"standard\",\"none\",\"45\",\"63\",\"59\"\n",
            "\"male\",\"group C\",\"high school\",\"standard\",\"none\",\"75\",\"81\",\"71\"\n",
            "\"female\",\"group A\",\"some college\",\"standard\",\"none\",\"56\",\"58\",\"64\"\n",
            "\"female\",\"group D\",\"some high school\",\"free/reduced\",\"none\",\"48\",\"54\",\"53\"\n",
            "\"female\",\"group E\",\"associate's degree\",\"standard\",\"none\",\"100\",\"100\",\"100\"\n",
            "\"female\",\"group C\",\"some high school\",\"free/reduced\",\"completed\",\"65\",\"76\",\"75\"\n",
            "\"male\",\"group D\",\"some college\",\"standard\",\"none\",\"72\",\"57\",\"58\"\n",
            "\"female\",\"group D\",\"some college\",\"standard\",\"none\",\"62\",\"70\",\"72\"\n",
            "\"male\",\"group A\",\"some high school\",\"standard\",\"completed\",\"66\",\"68\",\"64\"\n",
            "\"male\",\"group C\",\"some college\",\"standard\",\"none\",\"63\",\"63\",\"60\"\n",
            "\"female\",\"group E\",\"associate's degree\",\"standard\",\"none\",\"68\",\"76\",\"67\"\n",
            "\"female\",\"group B\",\"bachelor's degree\",\"standard\",\"none\",\"75\",\"84\",\"80\"\n",
            "\"female\",\"group D\",\"bachelor's degree\",\"standard\",\"none\",\"89\",\"100\",\"100\"\n",
            "\"male\",\"group C\",\"some high school\",\"standard\",\"completed\",\"78\",\"72\",\"69\"\n",
            "\"female\",\"group A\",\"high school\",\"free/reduced\",\"completed\",\"53\",\"50\",\"60\"\n",
            "\"female\",\"group D\",\"some college\",\"free/reduced\",\"none\",\"49\",\"65\",\"61\"\n",
            "\"female\",\"group A\",\"some college\",\"standard\",\"none\",\"54\",\"63\",\"67\"\n",
            "\"female\",\"group C\",\"some college\",\"standard\",\"completed\",\"64\",\"82\",\"77\"\n",
            "\"male\",\"group B\",\"some college\",\"free/reduced\",\"completed\",\"60\",\"62\",\"60\"\n",
            "\"male\",\"group C\",\"associate's degree\",\"standard\",\"none\",\"62\",\"65\",\"58\"\n",
            "\"male\",\"group D\",\"high school\",\"standard\",\"completed\",\"55\",\"41\",\"48\"\n",
            "\"female\",\"group C\",\"associate's degree\",\"standard\",\"none\",\"91\",\"95\",\"94\"\n",
            "\"female\",\"group B\",\"high school\",\"free/reduced\",\"none\",\"8\",\"24\",\"23\"\n",
            "\"male\",\"group D\",\"some high school\",\"standard\",\"none\",\"81\",\"78\",\"78\"\n",
            "\"male\",\"group B\",\"some high school\",\"standard\",\"completed\",\"79\",\"85\",\"86\"\n",
            "\"female\",\"group A\",\"some college\",\"standard\",\"completed\",\"78\",\"87\",\"91\"\n",
            "\"female\",\"group C\",\"some high school\",\"standard\",\"none\",\"74\",\"75\",\"82\"\n",
            "\"male\",\"group A\",\"high school\",\"standard\",\"none\",\"57\",\"51\",\"54\"\n",
            "\"female\",\"group C\",\"associate's degree\",\"standard\",\"none\",\"40\",\"59\",\"51\"\n",
            "\"male\",\"group E\",\"some high school\",\"standard\",\"completed\",\"81\",\"75\",\"76\"\n",
            "\"female\",\"group A\",\"some high school\",\"free/reduced\",\"none\",\"44\",\"45\",\"45\"\n",
            "\"female\",\"group D\",\"some college\",\"free/reduced\",\"completed\",\"67\",\"86\",\"83\"\n",
            "\"male\",\"group E\",\"high school\",\"free/reduced\",\"completed\",\"86\",\"81\",\"75\"\n",
            "\"female\",\"group B\",\"some high school\",\"standard\",\"completed\",\"65\",\"82\",\"78\"\n",
            "\"female\",\"group D\",\"associate's degree\",\"free/reduced\",\"none\",\"55\",\"76\",\"76\"\n",
            "\"female\",\"group D\",\"bachelor's degree\",\"free/reduced\",\"none\",\"62\",\"72\",\"74\"\n",
            "\"male\",\"group A\",\"high school\",\"standard\",\"none\",\"63\",\"63\",\"62\"\n",
            "\"female\",\"group E\",\"master's degree\",\"standard\",\"completed\",\"88\",\"99\",\"95\"\n",
            "\"male\",\"group C\",\"high school\",\"free/reduced\",\"none\",\"62\",\"55\",\"55\"\n",
            "\"female\",\"group C\",\"high school\",\"free/reduced\",\"completed\",\"59\",\"71\",\"65\"\n",
            "\"female\",\"group D\",\"some college\",\"standard\",\"completed\",\"68\",\"78\",\"77\"\n",
            "\"female\",\"group D\",\"some college\",\"free/reduced\",\"none\",\"77\",\"86\",\"86\"\n",
            "\n",
            "File open status: True\n"
          ],
          "name": "stdout"
        }
      ]
    },
    {
      "cell_type": "markdown",
      "metadata": {
        "id": "TxQTsptrSlxS"
      },
      "source": [
        "2)FILE OPERATIONS"
      ]
    },
    {
      "cell_type": "code",
      "metadata": {
        "colab": {
          "base_uri": "https://localhost:8080/"
        },
        "id": "p_8XNuDKSJHU",
        "outputId": "8b7ae4c0-685a-480f-afe5-4ed593fae461"
      },
      "source": [
        "import os\n",
        "f1=open(\"file.txt\",\"w\")\n",
        "f1.write(\"Hello Everyone\")\n",
        "f1.close()\n",
        "print(\"New file \\\"file.txt\\\"is created in the path.\")\n",
        "f1=open(\"file.txt\",\"a\")\n",
        "f1.write(\" Happy Learning\")\n",
        "f1.close()\n",
        "f1=open(\"file.txt\",\"r\")\n",
        "print(\"Filepointer position when it was opened: \", f1.tell())\n",
        "f1.seek(7)\n",
        "print(\"Filepointer position after seek(): \", f1.tell())\n",
        "print(\"Contents in file: \" , f1.read())\n",
        "print(\"Filepointer position after read(): \", f1.tell())\n",
        "f1.close()\n"
      ],
      "execution_count": null,
      "outputs": [
        {
          "output_type": "stream",
          "text": [
            "New file \"file.txt\"is created in the path.\n",
            "Filepointer position when it was opened:  0\n",
            "Filepointer position after seek():  7\n",
            "Contents in file:  veryone Happy Learning\n",
            "Filepointer position after read():  29\n"
          ],
          "name": "stdout"
        }
      ]
    },
    {
      "cell_type": "markdown",
      "metadata": {
        "id": "qgS1Z-xkRknz"
      },
      "source": [
        "**c)** **Write a program to illustrate handling**"
      ]
    },
    {
      "cell_type": "code",
      "metadata": {
        "id": "tFnIaiRBRti1",
        "colab": {
          "base_uri": "https://localhost:8080/"
        },
        "outputId": "8721ef4d-cc0f-46b2-e50b-d753312cd43d"
      },
      "source": [
        "try:\n",
        "    num=int(input(\"Enter numerator: \"))\n",
        "    den=int(input(\"enter denominator: \"))\n",
        "    q=num/den\n",
        "    print(\"Qutioent= \",q)\n",
        "except ZeroDivisionError:\n",
        "    print(\"Denominator is zero\")\n",
        "except ValueError:\n",
        "    print(\"Please eneter only digits\")\n",
        "finally:\n",
        "    print(\"this is finally block. this will be executed all the time..\");\n"
      ],
      "execution_count": null,
      "outputs": [
        {
          "output_type": "stream",
          "text": [
            "Enter numerator: 5\n",
            "enter denominator: 8\n",
            "Qutioent=  0.625\n",
            "this is finally block. this will be executed all the time..\n"
          ],
          "name": "stdout"
        }
      ]
    },
    {
      "cell_type": "markdown",
      "metadata": {
        "id": "d5MAx0ePRxZu"
      },
      "source": [
        "# **Exercise:5**"
      ]
    },
    {
      "cell_type": "markdown",
      "metadata": {
        "id": "hK3qHc7QR2F5"
      },
      "source": [
        "**a)** **Write a program using scikit-learn to implement K-means Clustering**"
      ]
    },
    {
      "cell_type": "code",
      "metadata": {
        "id": "1CRsaRUfSHLu"
      },
      "source": [
        "from sklearn.cluster import KMeans\n",
        "import pandas as pd\n",
        "from sklearn.preprocessing import MinMaxScaler\n",
        "from matplotlib import pyplot as plt\n",
        "%matplotlib inline"
      ],
      "execution_count": null,
      "outputs": []
    },
    {
      "cell_type": "code",
      "metadata": {
        "colab": {
          "base_uri": "https://localhost:8080/",
          "height": 205
        },
        "id": "ZBeEdIJWib58",
        "outputId": "12d764b5-3257-47d6-cd27-b802590cde58"
      },
      "source": [
        "df = pd.read_csv(\"/content/drive/MyDrive/Colab Notebooks/Iris.csv\") \n",
        "df.head()"
      ],
      "execution_count": null,
      "outputs": [
        {
          "output_type": "execute_result",
          "data": {
            "text/html": [
              "<div>\n",
              "<style scoped>\n",
              "    .dataframe tbody tr th:only-of-type {\n",
              "        vertical-align: middle;\n",
              "    }\n",
              "\n",
              "    .dataframe tbody tr th {\n",
              "        vertical-align: top;\n",
              "    }\n",
              "\n",
              "    .dataframe thead th {\n",
              "        text-align: right;\n",
              "    }\n",
              "</style>\n",
              "<table border=\"1\" class=\"dataframe\">\n",
              "  <thead>\n",
              "    <tr style=\"text-align: right;\">\n",
              "      <th></th>\n",
              "      <th>Id</th>\n",
              "      <th>SepalLengthCm</th>\n",
              "      <th>SepalWidthCm</th>\n",
              "      <th>PetalLengthCm</th>\n",
              "      <th>PetalWidthCm</th>\n",
              "      <th>Species</th>\n",
              "    </tr>\n",
              "  </thead>\n",
              "  <tbody>\n",
              "    <tr>\n",
              "      <th>0</th>\n",
              "      <td>1</td>\n",
              "      <td>5.1</td>\n",
              "      <td>3.5</td>\n",
              "      <td>1.4</td>\n",
              "      <td>0.2</td>\n",
              "      <td>Iris-setosa</td>\n",
              "    </tr>\n",
              "    <tr>\n",
              "      <th>1</th>\n",
              "      <td>2</td>\n",
              "      <td>4.9</td>\n",
              "      <td>3.0</td>\n",
              "      <td>1.4</td>\n",
              "      <td>0.2</td>\n",
              "      <td>Iris-setosa</td>\n",
              "    </tr>\n",
              "    <tr>\n",
              "      <th>2</th>\n",
              "      <td>3</td>\n",
              "      <td>4.7</td>\n",
              "      <td>3.2</td>\n",
              "      <td>1.3</td>\n",
              "      <td>0.2</td>\n",
              "      <td>Iris-setosa</td>\n",
              "    </tr>\n",
              "    <tr>\n",
              "      <th>3</th>\n",
              "      <td>4</td>\n",
              "      <td>4.6</td>\n",
              "      <td>3.1</td>\n",
              "      <td>1.5</td>\n",
              "      <td>0.2</td>\n",
              "      <td>Iris-setosa</td>\n",
              "    </tr>\n",
              "    <tr>\n",
              "      <th>4</th>\n",
              "      <td>5</td>\n",
              "      <td>5.0</td>\n",
              "      <td>3.6</td>\n",
              "      <td>1.4</td>\n",
              "      <td>0.2</td>\n",
              "      <td>Iris-setosa</td>\n",
              "    </tr>\n",
              "  </tbody>\n",
              "</table>\n",
              "</div>"
            ],
            "text/plain": [
              "   Id  SepalLengthCm  SepalWidthCm  PetalLengthCm  PetalWidthCm      Species\n",
              "0   1            5.1           3.5            1.4           0.2  Iris-setosa\n",
              "1   2            4.9           3.0            1.4           0.2  Iris-setosa\n",
              "2   3            4.7           3.2            1.3           0.2  Iris-setosa\n",
              "3   4            4.6           3.1            1.5           0.2  Iris-setosa\n",
              "4   5            5.0           3.6            1.4           0.2  Iris-setosa"
            ]
          },
          "metadata": {
            "tags": []
          },
          "execution_count": 109
        }
      ]
    },
    {
      "cell_type": "code",
      "metadata": {
        "colab": {
          "base_uri": "https://localhost:8080/"
        },
        "id": "W3j7LtbDBL0J",
        "outputId": "d802f385-6c0e-4b54-a287-4f090b7304c0"
      },
      "source": [
        "from google.colab import drive\n",
        "drive.mount('/content/drive')"
      ],
      "execution_count": null,
      "outputs": [
        {
          "output_type": "stream",
          "text": [
            "Drive already mounted at /content/drive; to attempt to forcibly remount, call drive.mount(\"/content/drive\", force_remount=True).\n"
          ],
          "name": "stdout"
        }
      ]
    },
    {
      "cell_type": "code",
      "metadata": {
        "id": "za2cikF8saZ8"
      },
      "source": [
        "x = df.iloc[:, [0,1,2,3]].values"
      ],
      "execution_count": null,
      "outputs": []
    },
    {
      "cell_type": "code",
      "metadata": {
        "colab": {
          "base_uri": "https://localhost:8080/"
        },
        "id": "bQ-nseJrsex7",
        "outputId": "415537c2-76ff-4b85-e3e1-39e50e0937e8"
      },
      "source": [
        "kmeans5 = KMeans(n_clusters=5)\n",
        "y_kmeans5 = kmeans5.fit_predict(x)\n",
        "print(y_kmeans5)\n",
        "\n",
        "kmeans5.cluster_centers_"
      ],
      "execution_count": null,
      "outputs": [
        {
          "output_type": "stream",
          "text": [
            "[2 2 2 2 2 2 2 2 2 2 2 2 2 2 2 2 2 2 2 2 2 2 2 2 2 2 2 2 2 2 2 0 0 0 0 0 0\n",
            " 0 0 0 0 0 0 0 0 0 0 0 0 0 0 0 0 0 0 0 0 0 0 0 4 4 4 4 4 4 4 4 4 4 4 4 4 4\n",
            " 4 4 4 4 4 4 4 4 4 4 4 4 4 4 4 3 3 3 3 3 3 3 3 3 3 3 3 3 3 3 3 3 3 3 3 3 3\n",
            " 3 3 3 3 3 3 3 3 1 1 1 1 1 1 1 1 1 1 1 1 1 1 1 1 1 1 1 1 1 1 1 1 1 1 1 1 1\n",
            " 1 1]\n"
          ],
          "name": "stdout"
        },
        {
          "output_type": "execute_result",
          "data": {
            "text/plain": [
              "array([[ 46.        ,   5.36896552,   3.20689655,   2.45172414],\n",
              "       [135.        ,   6.58709677,   2.98387097,   5.46774194],\n",
              "       [ 16.        ,   5.01935484,   3.43870968,   1.47741935],\n",
              "       [104.5       ,   6.23666667,   2.86666667,   5.08      ],\n",
              "       [ 75.        ,   5.99655172,   2.75862069,   4.31034483]])"
            ]
          },
          "metadata": {
            "tags": []
          },
          "execution_count": 112
        }
      ]
    },
    {
      "cell_type": "code",
      "metadata": {
        "colab": {
          "base_uri": "https://localhost:8080/",
          "height": 265
        },
        "id": "TnbJMr69smnW",
        "outputId": "1c5a7b01-1464-4c9c-8709-467d27fd918a"
      },
      "source": [
        "plt.scatter(x[:,0],x[:,1],c=y_kmeans5,cmap='rainbow',zorder=2)\n",
        "plt.grid(zorder=1)\n",
        "plt.show()"
      ],
      "execution_count": null,
      "outputs": [
        {
          "output_type": "display_data",
          "data": {
            "image/png": "[encoded data removed]",
            "text/plain": [
              "<Figure size 432x288 with 1 Axes>"
            ]
          },
          "metadata": {
            "tags": [],
            "needs_background": "light"
          }
        }
      ]
    },
    {
      "cell_type": "code",
      "metadata": {
        "colab": {
          "base_uri": "https://localhost:8080/",
          "height": 317
        },
        "id": "EjCzAw0Msw_Q",
        "outputId": "d2504498-e46e-4ee8-92c6-719fc8b5ad71"
      },
      "source": [
        "Error =[]\n",
        "for i in range(1, 11):\n",
        "    kmeans = KMeans(n_clusters = i).fit(x)\n",
        "    kmeans.fit(x)\n",
        "    Error.append(kmeans.inertia_)\n",
        "import matplotlib.pyplot as plt\n",
        "plt.plot(range(1, 11), Error)\n",
        "plt.title('Elbow method')\n",
        "plt.xlabel('No of clusters')\n",
        "plt.ylabel('Error')\n",
        "plt.show"
      ],
      "execution_count": null,
      "outputs": [
        {
          "output_type": "execute_result",
          "data": {
            "text/plain": [
              "<function matplotlib.pyplot.show>"
            ]
          },
          "metadata": {
            "tags": []
          },
          "execution_count": 114
        },
        {
          "output_type": "display_data",
          "data": {
            "image/png": "[encoded data removed]",
            "text/plain": [
              "<Figure size 432x288 with 1 Axes>"
            ]
          },
          "metadata": {
            "tags": [],
            "needs_background": "light"
          }
        }
      ]
    },
    {
      "cell_type": "code",
      "metadata": {
        "colab": {
          "base_uri": "https://localhost:8080/"
        },
        "id": "lfUxlCMTs6gO",
        "outputId": "afc2d911-c922-4c64-b9ec-db2e2c7054e0"
      },
      "source": [
        "kmeans3 = KMeans(n_clusters=3)\n",
        "y_kmeans3 = kmeans3.fit_predict(x)\n",
        "print(y_kmeans3)\n",
        "\n",
        "kmeans5.cluster_centers_"
      ],
      "execution_count": null,
      "outputs": [
        {
          "output_type": "stream",
          "text": [
            "[2 2 2 2 2 2 2 2 2 2 2 2 2 2 2 2 2 2 2 2 2 2 2 2 2 2 2 2 2 2 2 2 2 2 2 2 2\n",
            " 2 2 2 2 2 2 2 2 2 2 2 2 1 1 1 1 1 1 1 1 1 1 1 1 1 1 1 1 1 1 1 1 1 1 1 1 1\n",
            " 1 1 1 1 1 1 1 1 1 1 1 1 1 1 1 1 1 1 1 1 1 1 1 1 1 0 0 0 0 0 0 0 0 0 0 0 0\n",
            " 0 0 0 0 0 0 0 0 0 0 0 0 0 0 0 0 0 0 0 0 0 0 0 0 0 0 0 0 0 0 0 0 0 0 0 0 0\n",
            " 0 0]\n"
          ],
          "name": "stdout"
        },
        {
          "output_type": "execute_result",
          "data": {
            "text/plain": [
              "array([[ 46.        ,   5.36896552,   3.20689655,   2.45172414],\n",
              "       [135.        ,   6.58709677,   2.98387097,   5.46774194],\n",
              "       [ 16.        ,   5.01935484,   3.43870968,   1.47741935],\n",
              "       [104.5       ,   6.23666667,   2.86666667,   5.08      ],\n",
              "       [ 75.        ,   5.99655172,   2.75862069,   4.31034483]])"
            ]
          },
          "metadata": {
            "tags": []
          },
          "execution_count": 115
        }
      ]
    },
    {
      "cell_type": "code",
      "metadata": {
        "colab": {
          "base_uri": "https://localhost:8080/",
          "height": 265
        },
        "id": "5HOsRowVs_S_",
        "outputId": "50d9709d-4cfa-4a3c-e9a9-13c49fc9507b"
      },
      "source": [
        "plt.scatter(x[:,0],x[:,1],c=y_kmeans3,cmap='rainbow',zorder=2)\n",
        "plt.grid(zorder=1)\n",
        "plt.show()"
      ],
      "execution_count": null,
      "outputs": [
        {
          "output_type": "display_data",
          "data": {
            "image/png": "[encoded data removed]",
            "text/plain": [
              "<Figure size 432x288 with 1 Axes>"
            ]
          },
          "metadata": {
            "tags": [],
            "needs_background": "light"
          }
        }
      ]
    },
    {
      "cell_type": "markdown",
      "metadata": {
        "id": "J-fiSu3C_CIF"
      },
      "source": [
        "**b)Program to calculate entrophy and information gain**"
      ]
    },
    {
      "cell_type": "code",
      "metadata": {
        "colab": {
          "base_uri": "https://localhost:8080/"
        },
        "id": "VnuMcOG105B-",
        "outputId": "4cc1d703-0a56-4d14-97d0-f2ceec15f1c6"
      },
      "source": [
        "from __future__ import division\n",
        "from math import log\n",
        "\n",
        "def entropy(pi):\n",
        "  total = 0\n",
        "  for p in pi:\n",
        "        p = p / sum(pi)\n",
        "        if p != 0:\n",
        "            total += p * log(p, 2)\n",
        "        else:\n",
        "            total += 0\n",
        "  total *= -1\n",
        "  return total\n",
        "def gain(d, a):\n",
        "   total = 0\n",
        "   for v in a:\n",
        "        total += sum(v) / sum(d) * entropy(v)\n",
        "\n",
        "   gain = entropy(d) - total\n",
        "   return gain\n",
        "\n",
        "# set of example of the dataset\n",
        "willWait = [6, 6] # Yes, No\n",
        "\n",
        "# attribute, number of members (feature)\n",
        "patron = [ [4,0], [2,4], [0,2] ] # Some, Full, None\n",
        "\n",
        "print(gain(willWait, patron))"
      ],
      "execution_count": null,
      "outputs": [
        {
          "output_type": "stream",
          "text": [
            "0.5408520829727552\n"
          ],
          "name": "stdout"
        }
      ]
    },
    {
      "cell_type": "markdown",
      "metadata": {
        "id": "J_ZuvRlhE2fe"
      },
      "source": [
        "2)INFORMATION GAIN"
      ]
    },
    {
      "cell_type": "markdown",
      "metadata": {
        "id": "AoCl1M-dgkI5"
      },
      "source": [
        "**c)Program to implement perceptron**"
      ]
    },
    {
      "cell_type": "code",
      "metadata": {
        "colab": {
          "base_uri": "https://localhost:8080/",
          "height": 282
        },
        "id": "MnRGufSvVgEc",
        "outputId": "3b8fd46b-361e-47fa-c991-751f9a70ca65"
      },
      "source": [
        "#import packages\n",
        "import sklearn.datasets\n",
        "import numpy as np\n",
        "import pandas as pd\n",
        "import matplotlib.pyplot as plt\n",
        "from sklearn.model_selection import train_test_split\n",
        "\n",
        "#load the breast cancer data\n",
        "breast_cancer = sklearn.datasets.load_breast_cancer()\n",
        "\n",
        "#convert the data to pandas dataframe.\n",
        "data = pd.DataFrame(breast_cancer.data, columns = breast_cancer.feature_names)\n",
        "data[\"class\"] = breast_cancer.target\n",
        "data.head()\n",
        "data.describe()\n",
        "\n",
        "#plotting a graph to see class imbalance\n",
        "data['class'].value_counts().plot(kind = \"barh\")\n",
        "plt.xlabel(\"Count\")\n",
        "plt.ylabel(\"Classes\")\n",
        "plt.show()\n",
        "\n",
        "from sklearn.preprocessing import MinMaxScaler\n",
        "#perform scaling on the data.\n",
        "X = data.drop(\"class\", axis = 1)\n",
        "Y = data[\"class\"]\n",
        "mnscaler = MinMaxScaler()\n",
        "X = mnscaler.fit_transform(X)\n",
        "X = pd.DataFrame(X, columns=data.drop(\"class\",axis = 1).columns)\n",
        "\n",
        "#train test split.\n",
        "X_train, X_test, Y_train, Y_test = train_test_split(X,Y, test_size = 0.1, stratify = Y, random_state = 1)\n",
        "class Perceptron:\n",
        "  \n",
        "  #constructor\n",
        "  def __init__ (self):\n",
        "    self.w = None\n",
        "    self.b = None\n",
        "    \n",
        "  #model  \n",
        "  def model(self, x):\n",
        "    return 1 if (np.dot(self.w, x) >= self.b) else 0\n",
        "  \n",
        "  #predictor to predict on the data based on w\n",
        "  def predict(self, X):\n",
        "    Y = []\n",
        "    for x in X:\n",
        "      result = self.model(x)\n",
        "      Y.append(result)\n",
        "    return np.array(Y)\n",
        "    \n",
        "  def fit(self, X, Y, epochs = 1, lr = 1):\n",
        "    self.w = np.ones(X.shape[1])\n",
        "    self.b = 0\n",
        "    accuracy = {}\n",
        "    max_accuracy = 0\n",
        "    wt_matrix = []\n",
        "    #for all epochs\n",
        "    for i in range(epochs):\n",
        "      for x, y in zip(X, Y):\n",
        "        y_pred = self.model(x)\n",
        "        if y == 1 and y_pred == 0:\n",
        "          self.w = self.w + lr * x\n",
        "          self.b = self.b - lr * 1\n",
        "        elif y == 0 and y_pred == 1:\n",
        "          self.w = self.w - lr * x\n",
        "          self.b = self.b + lr * 1\n",
        "          \n",
        "      wt_matrix.append(self.w)    \n",
        "      accuracy[i] = accuracy_score(self.predict(X), Y)\n",
        "      if (accuracy[i] > max_accuracy):\n",
        "        max_accuracy = accuracy[i]\n",
        "        chkptw = self.w\n",
        "        chkptb = self.b\n",
        "    #checkpoint (Save the weights and b value)\n",
        "    self.w = chkptw\n",
        "    self.b = chkptb\n",
        "        \n",
        "    print(max_accuracy)\n",
        "    #plot the accuracy values over epochs\n",
        "    plt.plot(accuracy.values())\n",
        "    plt.xlabel(\"Epoch #\")\n",
        "    plt.ylabel(\"Accuracy\")\n",
        "    plt.ylim([0, 1])\n",
        "    plt.show()\n",
        "    \n",
        "    #return the weight matrix, that contains weights over all epochs\n",
        "    return np.array(wt_matrix)\n",
        "    perceptron = Perceptron()"
      ],
      "execution_count": null,
      "outputs": [
        {
          "output_type": "display_data",
          "data": {
            "image/png": "[encoded data removed]",
            "text/plain": [
              "<Figure size 432x288 with 1 Axes>"
            ]
          },
          "metadata": {
            "tags": [],
            "needs_background": "light"
          }
        }
      ]
    },
    {
      "cell_type": "markdown",
      "metadata": {
        "id": "Zocl6ZdgvFig"
      },
      "source": [
        "# **Exercise 6**\n",
        "\n",
        "> \n",
        "\n"
      ]
    },
    {
      "cell_type": "markdown",
      "metadata": {
        "id": "0hD3R55xu0lC"
      },
      "source": [
        "#####**a)Generate a decision tree. Find the Depth of decision trees and observe the results, then propose some changes in DecisionTreeClassifier function to limit.**\n"
      ]
    },
    {
      "cell_type": "code",
      "metadata": {
        "colab": {
          "base_uri": "https://localhost:8080/"
        },
        "id": "kxxzoiGyWjVf",
        "outputId": "e70aa16a-f5b6-440f-8705-44a78b759775"
      },
      "source": [
        "class Node:\n",
        "    def __init__(self, data):\n",
        "        self.data = data\n",
        "        self.left = None\n",
        "        self.right = None\n",
        "def maxDepth(node):\n",
        "    if node is None:\n",
        "        return 0 ;\n",
        "    else :\n",
        "        lDepth = maxDepth(node.left)\n",
        "        rDepth = maxDepth(node.right)       \n",
        "        if (lDepth > rDepth):\n",
        "            return lDepth+1\n",
        "        else:\n",
        "            return rDepth+1\n",
        "root = Node(15)\n",
        "root.left = Node(13)\n",
        "root.right = Node(27)\n",
        "root.left.left = Node(80)\n",
        "root.left.right = Node(35)\n",
        "root.left.left.right= Node(65)\n",
        "print (\"Height of tree is %d\" %(maxDepth(root)))"
      ],
      "execution_count": null,
      "outputs": [
        {
          "output_type": "stream",
          "text": [
            "Height of tree is 4\n"
          ],
          "name": "stdout"
        }
      ]
    },
    {
      "cell_type": "code",
      "metadata": {
        "id": "WUB5ZDpADqOy"
      },
      "source": [
        ""
      ],
      "execution_count": null,
      "outputs": []
    },
    {
      "cell_type": "markdown",
      "metadata": {
        "id": "k-xcXVYrkRy2"
      },
      "source": [
        "# **Exercise:7**"
      ]
    },
    {
      "cell_type": "markdown",
      "metadata": {
        "id": "XRodL26npJ5_"
      },
      "source": [
        "**Calculating with matrices using numpy : inv, pinv, matrix_rank, solve, lstsq, svd, transpose, eig, sort, linspace, meshgrid, mgrid, ogrid, concatenate, tile, squeeze, integrate**"
      ]
    },
    {
      "cell_type": "code",
      "metadata": {
        "id": "JPX-sLdMkZEV"
      },
      "source": [
        "import numpy as np"
      ],
      "execution_count": null,
      "outputs": []
    },
    {
      "cell_type": "markdown",
      "metadata": {
        "id": "1jrfjMEIpHjC"
      },
      "source": [
        "**INV() and PINV()**"
      ]
    },
    {
      "cell_type": "code",
      "metadata": {
        "colab": {
          "base_uri": "https://localhost:8080/"
        },
        "id": "NTZS2Z1Hkey8",
        "outputId": "422fe0ae-9b69-4443-a5d1-305e0abee282"
      },
      "source": [
        "from numpy import linalg\n",
        "matrix = np.array([\n",
        "                [10,20,30,40],\n",
        "                [34,54,36,90],\n",
        "                [48,83,94,23],\n",
        "                [23,45,36,89]\n",
        "])\n",
        "\n",
        "print(\"Inverse of matrix:\\n\")\n",
        "print(linalg.inv(matrix))\n",
        "print(\"\\n\\n\")\n",
        "print(\"Pseudo Inverse of matrix:\\n\")\n",
        "print(linalg.pinv(matrix))"
      ],
      "execution_count": null,
      "outputs": [
        {
          "output_type": "stream",
          "text": [
            "Inverse of matrix:\n",
            "\n",
            "[[ 1.33295973e-01  1.79088944e-01 -2.08950444e-02 -2.35609639e-01]\n",
            " [-1.65086863e-01 -1.08618205e-01  2.64190217e-02  1.77207589e-01]\n",
            " [ 7.29245056e-02  2.60187335e-03 -8.00576415e-05 -3.53854775e-02]\n",
            " [ 1.95260588e-02  7.58546153e-03 -7.92570651e-03 -3.16227684e-03]]\n",
            "\n",
            "\n",
            "\n",
            "Pseudo Inverse of matrix:\n",
            "\n",
            "[[ 1.33295973e-01  1.79088944e-01 -2.08950444e-02 -2.35609639e-01]\n",
            " [-1.65086863e-01 -1.08618205e-01  2.64190217e-02  1.77207589e-01]\n",
            " [ 7.29245056e-02  2.60187335e-03 -8.00576415e-05 -3.53854775e-02]\n",
            " [ 1.95260588e-02  7.58546153e-03 -7.92570651e-03 -3.16227684e-03]]\n"
          ],
          "name": "stdout"
        }
      ]
    },
    {
      "cell_type": "markdown",
      "metadata": {
        "id": "xc-H9V3hpBjs"
      },
      "source": [
        "**MATRIX_RANK()**"
      ]
    },
    {
      "cell_type": "code",
      "metadata": {
        "colab": {
          "base_uri": "https://localhost:8080/"
        },
        "id": "PuaXApP-kiXg",
        "outputId": "70752481-a546-44e9-f003-81dc1673b62a"
      },
      "source": [
        "matrix = np.eye(5)\n",
        "print(matrix)\n",
        "\n",
        "print(\"Rank of matrix: \",linalg.matrix_rank(matrix))"
      ],
      "execution_count": null,
      "outputs": [
        {
          "output_type": "stream",
          "text": [
            "[[1. 0. 0. 0. 0.]\n",
            " [0. 1. 0. 0. 0.]\n",
            " [0. 0. 1. 0. 0.]\n",
            " [0. 0. 0. 1. 0.]\n",
            " [0. 0. 0. 0. 1.]]\n",
            "Rank of matrix:  5\n"
          ],
          "name": "stdout"
        }
      ]
    },
    {
      "cell_type": "markdown",
      "metadata": {
        "id": "kVec1tLso8Nq"
      },
      "source": [
        "**SOLVE()**"
      ]
    },
    {
      "cell_type": "markdown",
      "metadata": {
        "id": "_wuifX1Fo330"
      },
      "source": [
        "Solving Linear equations:\n",
        "\n",
        "4x-8y=2\n",
        "\n",
        "6x+5y=-1"
      ]
    },
    {
      "cell_type": "code",
      "metadata": {
        "colab": {
          "base_uri": "https://localhost:8080/"
        },
        "id": "AHeA3NFZksZR",
        "outputId": "87e6a17b-da8c-49a1-d942-34c017653ee5"
      },
      "source": [
        "coeff_matrix = np.array([\n",
        "                         [4, -8],\n",
        "                         [6, 5]\n",
        "])\n",
        "\n",
        "const_matrix = np.array([2, -1])\n",
        "\n",
        "solution = linalg.solve(coeff_matrix, const_matrix)\n",
        "\n",
        "print(solution)"
      ],
      "execution_count": null,
      "outputs": [
        {
          "output_type": "stream",
          "text": [
            "[ 0.02941176 -0.23529412]\n"
          ],
          "name": "stdout"
        }
      ]
    },
    {
      "cell_type": "markdown",
      "metadata": {
        "id": "hbed4-Qborz8"
      },
      "source": [
        "**ISTSQ()**"
      ]
    },
    {
      "cell_type": "code",
      "metadata": {
        "colab": {
          "base_uri": "https://localhost:8080/"
        },
        "id": "b9uHy1hJkwjA",
        "outputId": "9aa83af1-90d0-41f4-9d46-e9524a74b6b4"
      },
      "source": [
        "coeff_matrix = np.array([\n",
        "                         [5, -8],\n",
        "                         [4, 5]\n",
        "])\n",
        "\n",
        "const_matrix = np.array([1, -6])\n",
        "\n",
        "linalg.lstsq(coeff_matrix, const_matrix)"
      ],
      "execution_count": null,
      "outputs": [
        {
          "output_type": "stream",
          "text": [
            "/usr/local/lib/python3.7/dist-packages/ipykernel_launcher.py:8: FutureWarning: `rcond` parameter will change to the default of machine precision times ``max(M, N)`` where M and N are the input matrix dimensions.\n",
            "To use the future default and silence this warning we advise to pass `rcond=None`, to keep using the old, explicitly pass `rcond=-1`.\n",
            "  \n"
          ],
          "name": "stderr"
        },
        {
          "output_type": "execute_result",
          "data": {
            "text/plain": [
              "(array([-0.75438596, -0.59649123]),\n",
              " array([], dtype=float64),\n",
              " 2,\n",
              " array([9.81024968, 5.81024968]))"
            ]
          },
          "metadata": {
            "tags": []
          },
          "execution_count": 5
        }
      ]
    },
    {
      "cell_type": "code",
      "metadata": {
        "colab": {
          "base_uri": "https://localhost:8080/"
        },
        "id": "NQnzlw_sk6EK",
        "outputId": "0073d7a2-5901-4ddf-a7aa-ed507b4eae90"
      },
      "source": [
        "X = np.array([\n",
        "              [10,20,30,40],\n",
        "              [23,45,89,90],\n",
        "              [2,5,4,9],\n",
        "              [9,8,0,1]\n",
        "])\n",
        "\n",
        "u, s, v = linalg.svd(X)\n",
        "\n",
        "print(\"Matirx:\")\n",
        "print(X)\n",
        "print(\"\\n\")\n",
        "print(\"U:\")\n",
        "print(u)\n",
        "print(\"\\n\")\n",
        "print(\"Sigma:\")\n",
        "print(s)\n",
        "print(\"\\n\")\n",
        "print(\"V*\")\n",
        "print(v)\n",
        "\n",
        "print(\"\\nOriginal Matrix\")\n",
        "print((u@np.diag(s))@v)\n",
        "\n"
      ],
      "execution_count": null,
      "outputs": [
        {
          "output_type": "stream",
          "text": [
            "Matirx:\n",
            "[[10 20 30 40]\n",
            " [23 45 89 90]\n",
            " [ 2  5  4  9]\n",
            " [ 9  8  0  1]]\n",
            "\n",
            "\n",
            "U:\n",
            "[[-0.36980609  0.27872639 -0.75618115 -0.46232577]\n",
            " [-0.92569789 -0.15882766  0.32292537  0.11651779]\n",
            " [-0.07215797  0.17759612 -0.43664915  0.8789712 ]\n",
            " [-0.03346788  0.93034671  0.36502985 -0.00938707]]\n",
            "\n",
            "\n",
            "Sigma:\n",
            "[147.19709745  11.55464586   6.80590319   0.42935323]\n",
            "\n",
            "\n",
            "V*\n",
            "[[-0.17279308 -0.33751385 -0.63703652 -0.67112698]\n",
            " [ 0.68046572  0.58487621 -0.43822073 -0.05337436]\n",
            " [ 0.33462749  0.02130674  0.63302793 -0.69774358]\n",
            " [-0.62859638  0.7372586   0.03771874 -0.24473179]]\n",
            "\n",
            "Original Matrix\n",
            "[[ 1.00000000e+01  2.00000000e+01  3.00000000e+01  4.00000000e+01]\n",
            " [ 2.30000000e+01  4.50000000e+01  8.90000000e+01  9.00000000e+01]\n",
            " [ 2.00000000e+00  5.00000000e+00  4.00000000e+00  9.00000000e+00]\n",
            " [ 9.00000000e+00  8.00000000e+00 -2.14477821e-15  1.00000000e+00]]\n"
          ],
          "name": "stdout"
        }
      ]
    },
    {
      "cell_type": "markdown",
      "metadata": {
        "id": "cRuWdFFxolNG"
      },
      "source": [
        "**TRANSPOSE()**"
      ]
    },
    {
      "cell_type": "code",
      "metadata": {
        "colab": {
          "base_uri": "https://localhost:8080/"
        },
        "id": "5McbzDvHlBO6",
        "outputId": "fe54475e-8a04-47f1-cabd-022a3006118a"
      },
      "source": [
        "matrix = np.random.randint(100,200,24).reshape(3,8)\n",
        "print(\"Matrix:\")\n",
        "print(matrix)\n",
        "print(\"\\n\\n\")\n",
        "print(\"Transpose of Matrix:\")\n",
        "print(matrix.transpose())"
      ],
      "execution_count": null,
      "outputs": [
        {
          "output_type": "stream",
          "text": [
            "Matrix:\n",
            "[[151 196 108 134 113 189 137 133]\n",
            " [173 140 194 171 185 131 163 144]\n",
            " [185 132 199 182 118 150 123 120]]\n",
            "\n",
            "\n",
            "\n",
            "Transpose of Matrix:\n",
            "[[151 173 185]\n",
            " [196 140 132]\n",
            " [108 194 199]\n",
            " [134 171 182]\n",
            " [113 185 118]\n",
            " [189 131 150]\n",
            " [137 163 123]\n",
            " [133 144 120]]\n"
          ],
          "name": "stdout"
        }
      ]
    },
    {
      "cell_type": "markdown",
      "metadata": {
        "id": "-WZJ602uof9U"
      },
      "source": [
        "**EIG()**"
      ]
    },
    {
      "cell_type": "code",
      "metadata": {
        "colab": {
          "base_uri": "https://localhost:8080/"
        },
        "id": "DiAc4cAnlGEC",
        "outputId": "1d24206a-ba0d-42b4-ccf7-4bbab82251b6"
      },
      "source": [
        "matrix = np.array([\n",
        "                   [23,0,0,0],\n",
        "                   [0,90,0,0],\n",
        "                   [0,0,87,0],\n",
        "                   [0,0,0,76]\n",
        "])\n",
        "\n",
        "print(\"Matrix: \")\n",
        "print(matrix)\n",
        "\n",
        "evl, evc = linalg.eig(matrix)\n",
        "\n",
        "print(\"\\nEigen values:\")\n",
        "print(evl)\n",
        "\n",
        "print(\"\\nEigen vectors:\")\n",
        "print(evc)"
      ],
      "execution_count": null,
      "outputs": [
        {
          "output_type": "stream",
          "text": [
            "Matrix: \n",
            "[[23  0  0  0]\n",
            " [ 0 90  0  0]\n",
            " [ 0  0 87  0]\n",
            " [ 0  0  0 76]]\n",
            "\n",
            "Eigen values:\n",
            "[23. 90. 87. 76.]\n",
            "\n",
            "Eigen vectors:\n",
            "[[1. 0. 0. 0.]\n",
            " [0. 1. 0. 0.]\n",
            " [0. 0. 1. 0.]\n",
            " [0. 0. 0. 1.]]\n"
          ],
          "name": "stdout"
        }
      ]
    },
    {
      "cell_type": "markdown",
      "metadata": {
        "id": "vclvZD1qoZd_"
      },
      "source": [
        "**SORT**"
      ]
    },
    {
      "cell_type": "code",
      "metadata": {
        "colab": {
          "base_uri": "https://localhost:8080/"
        },
        "id": "oPYLCrurlKfP",
        "outputId": "1b203b71-fb1a-415e-fa29-d4fb9ed9175e"
      },
      "source": [
        "matrix = np.random.randint(100,140,24).reshape(6,4)\n",
        "print(matrix)\n",
        "\n",
        "print(\"\\n\\nsorted:\")\n",
        "print(np.sort(matrix, axis=None))\n",
        "\n",
        "print(\"\\n\\nsorted row wise:\")\n",
        "print(np.sort(matrix, axis=0))\n",
        "\n",
        "print(\"\\n\\nsorted column wise:\")\n",
        "print(np.sort(matrix, axis=1))"
      ],
      "execution_count": null,
      "outputs": [
        {
          "output_type": "stream",
          "text": [
            "[[104 121 130 129]\n",
            " [108 124 116 139]\n",
            " [117 104 102 124]\n",
            " [106 135 127 125]\n",
            " [113 105 137 110]\n",
            " [100 116 138 126]]\n",
            "\n",
            "\n",
            "sorted:\n",
            "[100 102 104 104 105 106 108 110 113 116 116 117 121 124 124 125 126 127\n",
            " 129 130 135 137 138 139]\n",
            "\n",
            "\n",
            "sorted row wise:\n",
            "[[100 104 102 110]\n",
            " [104 105 116 124]\n",
            " [106 116 127 125]\n",
            " [108 121 130 126]\n",
            " [113 124 137 129]\n",
            " [117 135 138 139]]\n",
            "\n",
            "\n",
            "sorted column wise:\n",
            "[[104 121 129 130]\n",
            " [108 116 124 139]\n",
            " [102 104 117 124]\n",
            " [106 125 127 135]\n",
            " [105 110 113 137]\n",
            " [100 116 126 138]]\n"
          ],
          "name": "stdout"
        }
      ]
    },
    {
      "cell_type": "markdown",
      "metadata": {
        "id": "PQtYllQXoUFi"
      },
      "source": [
        "**LINESPACE()**"
      ]
    },
    {
      "cell_type": "code",
      "metadata": {
        "colab": {
          "base_uri": "https://localhost:8080/"
        },
        "id": "VwWtpqcZlPri",
        "outputId": "69d7470d-d8f2-46c9-de69-169787645704"
      },
      "source": [
        "a = np.linspace(0,100,num=10)\n",
        "print(a)"
      ],
      "execution_count": null,
      "outputs": [
        {
          "output_type": "stream",
          "text": [
            "[  0.          11.11111111  22.22222222  33.33333333  44.44444444\n",
            "  55.55555556  66.66666667  77.77777778  88.88888889 100.        ]\n"
          ],
          "name": "stdout"
        }
      ]
    },
    {
      "cell_type": "code",
      "metadata": {
        "colab": {
          "base_uri": "https://localhost:8080/"
        },
        "id": "Y8xGkcbQlZyy",
        "outputId": "57be51c1-8368-4749-f085-53df7b45f79e"
      },
      "source": [
        "a = np.linspace(1, 5, 5)\n",
        "b = np.linspace(1,8,8)\n",
        "\n",
        "x,y = np.meshgrid(a,b)\n",
        "\n",
        "print(x)\n",
        "print(y)"
      ],
      "execution_count": null,
      "outputs": [
        {
          "output_type": "stream",
          "text": [
            "[[1. 2. 3. 4. 5.]\n",
            " [1. 2. 3. 4. 5.]\n",
            " [1. 2. 3. 4. 5.]\n",
            " [1. 2. 3. 4. 5.]\n",
            " [1. 2. 3. 4. 5.]\n",
            " [1. 2. 3. 4. 5.]\n",
            " [1. 2. 3. 4. 5.]\n",
            " [1. 2. 3. 4. 5.]]\n",
            "[[1. 1. 1. 1. 1.]\n",
            " [2. 2. 2. 2. 2.]\n",
            " [3. 3. 3. 3. 3.]\n",
            " [4. 4. 4. 4. 4.]\n",
            " [5. 5. 5. 5. 5.]\n",
            " [6. 6. 6. 6. 6.]\n",
            " [7. 7. 7. 7. 7.]\n",
            " [8. 8. 8. 8. 8.]]\n"
          ],
          "name": "stdout"
        }
      ]
    },
    {
      "cell_type": "markdown",
      "metadata": {
        "id": "SG6S0Hidn-UM"
      },
      "source": [
        "**MGRID()**"
      ]
    },
    {
      "cell_type": "code",
      "metadata": {
        "colab": {
          "base_uri": "https://localhost:8080/"
        },
        "id": "6m4udTHyldiM",
        "outputId": "9821a0c5-779a-4d83-8d5a-d4d70b16ca00"
      },
      "source": [
        "a = np.mgrid[1:10,5:20]\n",
        "print(a)"
      ],
      "execution_count": null,
      "outputs": [
        {
          "output_type": "stream",
          "text": [
            "[[[ 1  1  1  1  1  1  1  1  1  1  1  1  1  1  1]\n",
            "  [ 2  2  2  2  2  2  2  2  2  2  2  2  2  2  2]\n",
            "  [ 3  3  3  3  3  3  3  3  3  3  3  3  3  3  3]\n",
            "  [ 4  4  4  4  4  4  4  4  4  4  4  4  4  4  4]\n",
            "  [ 5  5  5  5  5  5  5  5  5  5  5  5  5  5  5]\n",
            "  [ 6  6  6  6  6  6  6  6  6  6  6  6  6  6  6]\n",
            "  [ 7  7  7  7  7  7  7  7  7  7  7  7  7  7  7]\n",
            "  [ 8  8  8  8  8  8  8  8  8  8  8  8  8  8  8]\n",
            "  [ 9  9  9  9  9  9  9  9  9  9  9  9  9  9  9]]\n",
            "\n",
            " [[ 5  6  7  8  9 10 11 12 13 14 15 16 17 18 19]\n",
            "  [ 5  6  7  8  9 10 11 12 13 14 15 16 17 18 19]\n",
            "  [ 5  6  7  8  9 10 11 12 13 14 15 16 17 18 19]\n",
            "  [ 5  6  7  8  9 10 11 12 13 14 15 16 17 18 19]\n",
            "  [ 5  6  7  8  9 10 11 12 13 14 15 16 17 18 19]\n",
            "  [ 5  6  7  8  9 10 11 12 13 14 15 16 17 18 19]\n",
            "  [ 5  6  7  8  9 10 11 12 13 14 15 16 17 18 19]\n",
            "  [ 5  6  7  8  9 10 11 12 13 14 15 16 17 18 19]\n",
            "  [ 5  6  7  8  9 10 11 12 13 14 15 16 17 18 19]]]\n"
          ],
          "name": "stdout"
        }
      ]
    },
    {
      "cell_type": "markdown",
      "metadata": {
        "id": "YAOYf1mGnMsj"
      },
      "source": [
        "**OGRID()**"
      ]
    },
    {
      "cell_type": "code",
      "metadata": {
        "colab": {
          "base_uri": "https://localhost:8080/"
        },
        "id": "jmosJjc6lutG",
        "outputId": "c0bcbce2-f948-4212-8e5b-8480d9f4fa92"
      },
      "source": [
        "a = np.ogrid[1:10,5:20]\n",
        "print(a)"
      ],
      "execution_count": null,
      "outputs": [
        {
          "output_type": "stream",
          "text": [
            "[array([[1],\n",
            "       [2],\n",
            "       [3],\n",
            "       [4],\n",
            "       [5],\n",
            "       [6],\n",
            "       [7],\n",
            "       [8],\n",
            "       [9]]), array([[ 5,  6,  7,  8,  9, 10, 11, 12, 13, 14, 15, 16, 17, 18, 19]])]\n"
          ],
          "name": "stdout"
        }
      ]
    },
    {
      "cell_type": "markdown",
      "metadata": {
        "id": "ftyouyUwnGNB"
      },
      "source": [
        "**CONCATENATE()**"
      ]
    },
    {
      "cell_type": "code",
      "metadata": {
        "colab": {
          "base_uri": "https://localhost:8080/"
        },
        "id": "QhHk46S4lyui",
        "outputId": "40011d32-7c6a-4804-ffb4-1e9aefddd456"
      },
      "source": [
        "a = np.array([\n",
        "              [10,20,30],\n",
        "              [40,50,60],\n",
        "              [70,80,90]\n",
        "])\n",
        "\n",
        "b = np.array([\n",
        "              [2,3,4],\n",
        "              [500,69,94],\n",
        "              [45,25,65]\n",
        "])\n",
        "x = np.concatenate((a,b), axis=0)\n",
        "print(x)\n",
        "\n",
        "print(\"\\n\\n\")\n",
        "x = np.concatenate((a,b), axis=1)\n",
        "print(x)"
      ],
      "execution_count": null,
      "outputs": [
        {
          "output_type": "stream",
          "text": [
            "[[ 10  20  30]\n",
            " [ 40  50  60]\n",
            " [ 70  80  90]\n",
            " [  2   3   4]\n",
            " [500  69  94]\n",
            " [ 45  25  65]]\n",
            "\n",
            "\n",
            "\n",
            "[[ 10  20  30   2   3   4]\n",
            " [ 40  50  60 500  69  94]\n",
            " [ 70  80  90  45  25  65]]\n"
          ],
          "name": "stdout"
        }
      ]
    },
    {
      "cell_type": "markdown",
      "metadata": {
        "id": "9jWQZthpm_B7"
      },
      "source": [
        "**TILE()**"
      ]
    },
    {
      "cell_type": "code",
      "metadata": {
        "colab": {
          "base_uri": "https://localhost:8080/"
        },
        "id": "ORgrKQXll53t",
        "outputId": "10ceedcd-cda6-4731-8cf1-a71e4cfa79b3"
      },
      "source": [
        "a = np.array([\n",
        "              [10,20],\n",
        "              [30,40]\n",
        "])\n",
        "\n",
        "print(np.tile(a,3))\n",
        "print(\"\\n\\n\")\n",
        "print(np.tile(a,(3,3)))"
      ],
      "execution_count": null,
      "outputs": [
        {
          "output_type": "stream",
          "text": [
            "[[10 20 10 20 10 20]\n",
            " [30 40 30 40 30 40]]\n",
            "\n",
            "\n",
            "\n",
            "[[10 20 10 20 10 20]\n",
            " [30 40 30 40 30 40]\n",
            " [10 20 10 20 10 20]\n",
            " [30 40 30 40 30 40]\n",
            " [10 20 10 20 10 20]\n",
            " [30 40 30 40 30 40]]\n"
          ],
          "name": "stdout"
        }
      ]
    },
    {
      "cell_type": "markdown",
      "metadata": {
        "id": "Hv5u1eIPm020"
      },
      "source": [
        "**SQUEEZE()**"
      ]
    },
    {
      "cell_type": "code",
      "metadata": {
        "id": "kDJe9adal9lp"
      },
      "source": [
        "a = np.array([\n",
        "              [4],\n",
        "              [5],\n",
        "              [6]\n",
        "])\n"
      ],
      "execution_count": null,
      "outputs": []
    },
    {
      "cell_type": "markdown",
      "metadata": {
        "id": "T5i-ugrumlQm"
      },
      "source": [
        "**INTEGRATE()**"
      ]
    },
    {
      "cell_type": "code",
      "metadata": {
        "colab": {
          "base_uri": "https://localhost:8080/"
        },
        "id": "7_uDhksEmChM",
        "outputId": "461cd8e4-bdf5-4c68-87a6-a44c8c0053cb"
      },
      "source": [
        "from scipy import integrate\n",
        "def integrand(x, a, b):\n",
        "  return a*x**3 + b*x**2\n",
        "\n",
        "result = integrate.quad(integrand, 0, 2, args=(3,9))\n",
        "\n",
        "print(result)"
      ],
      "execution_count": null,
      "outputs": [
        {
          "output_type": "stream",
          "text": [
            "(36.0, 3.9968028886505635e-13)\n"
          ],
          "name": "stdout"
        }
      ]
    },
    {
      "cell_type": "markdown",
      "metadata": {
        "id": "cg34jcdA4v_a"
      },
      "source": [
        "# **Exercise:8**"
      ]
    },
    {
      "cell_type": "markdown",
      "metadata": {
        "id": "fVcfaCcu40Bw"
      },
      "source": [
        "**a)Program using pandas**"
      ]
    },
    {
      "cell_type": "code",
      "metadata": {
        "colab": {
          "base_uri": "https://localhost:8080/"
        },
        "id": "l8UMRSCQ2L1r",
        "outputId": "6d28e4f4-0227-4e5e-f02d-e3b29e0ec238"
      },
      "source": [
        "import pandas as pd\n",
        "student_details = {\n",
        "  \"names\":  [\"srija\", \"jessy\", \"gowthami\"],\n",
        "  \"age\": [17,18,19]\n",
        "}\n",
        "data = pd.DataFrame(student_details, index = [\"student1\",\"student2\",\"student3\"])\n",
        "print(data) "
      ],
      "execution_count": null,
      "outputs": [
        {
          "output_type": "stream",
          "text": [
            "             names  age\n",
            "student1     srija   17\n",
            "student2     jessy   18\n",
            "student3  gowthami   19\n"
          ],
          "name": "stdout"
        }
      ]
    },
    {
      "cell_type": "markdown",
      "metadata": {
        "id": "7k4b0YR87RQO"
      },
      "source": [
        "**b)Program using matplotlib-use minimum 5 techniques**"
      ]
    },
    {
      "cell_type": "markdown",
      "metadata": {
        "id": "AwvdpN6X7y_a"
      },
      "source": [
        "1.LINE PLOT"
      ]
    },
    {
      "cell_type": "code",
      "metadata": {
        "colab": {
          "base_uri": "https://localhost:8080/",
          "height": 299
        },
        "id": "2IP_9cKO7nFp",
        "outputId": "00d4123d-b77c-4768-8de9-df904b2b587f"
      },
      "source": [
        "x = df.Species\n",
        "y = df.SepalLengthCm\n",
        "plt.plot(x)\n",
        "plt.xlabel('SepalLengthCm')\n",
        "plt.ylabel('Species')\n",
        "plt.title('Line Plot')\n",
        "plt.show()"
      ],
      "execution_count": null,
      "outputs": [
        {
          "output_type": "display_data",
          "data": {
            "image/png": "[encoded data removed]",
            "text/plain": [
              "<Figure size 432x288 with 1 Axes>"
            ]
          },
          "metadata": {
            "tags": []
          }
        }
      ]
    },
    {
      "cell_type": "markdown",
      "metadata": {
        "id": "BHJaIfQEB4jb"
      },
      "source": [
        "2.PLOT"
      ]
    },
    {
      "cell_type": "code",
      "metadata": {
        "colab": {
          "base_uri": "https://localhost:8080/",
          "height": 355
        },
        "id": "chX2tviBB3d8",
        "outputId": "b513d963-fc37-4880-a42f-1774c359861e"
      },
      "source": [
        "#plot\n",
        "fig = plt.figure(figsize=(7,5))\n",
        "x=np.linspace(0,10,100)\n",
        "plt.plot(x,np.sin(x),label=\"sin function\",color='r')\n",
        "plt.plot(x,np.cos(x),label = \"cos function\",color='b')\n",
        "plt.legend()\n",
        "plt.axhline(0)\n",
        "plt.axvline(5)\n",
        "plt.title(\"plot\")"
      ],
      "execution_count": null,
      "outputs": [
        {
          "output_type": "execute_result",
          "data": {
            "text/plain": [
              "Text(0.5, 1.0, 'plot')"
            ]
          },
          "metadata": {
            "tags": []
          },
          "execution_count": 163
        },
        {
          "output_type": "display_data",
          "data": {
            "image/png": "[encoded data removed]",
            "text/plain": [
              "<Figure size 504x360 with 1 Axes>"
            ]
          },
          "metadata": {
            "tags": []
          }
        }
      ]
    },
    {
      "cell_type": "markdown",
      "metadata": {
        "id": "yZ40YCGa75ap"
      },
      "source": [
        "3.SCATTER PLOT"
      ]
    },
    {
      "cell_type": "code",
      "metadata": {
        "colab": {
          "base_uri": "https://localhost:8080/",
          "height": 299
        },
        "id": "VzisTglN8Tc2",
        "outputId": "a986bc55-f6ec-478b-86e8-7b99b7afb02e"
      },
      "source": [
        "df.plot.scatter(x='Species',y='SepalLengthCm')\n",
        "plt.title('Scatter Plot')\n",
        "plt.show()"
      ],
      "execution_count": null,
      "outputs": [
        {
          "output_type": "display_data",
          "data": {
            "image/png": "[encoded data removed]",
            "text/plain": [
              "<Figure size 432x288 with 1 Axes>"
            ]
          },
          "metadata": {
            "tags": []
          }
        }
      ]
    },
    {
      "cell_type": "markdown",
      "metadata": {
        "id": "MPFccyZM8pcu"
      },
      "source": [
        "4.BARGRAPH"
      ]
    },
    {
      "cell_type": "code",
      "metadata": {
        "colab": {
          "base_uri": "https://localhost:8080/",
          "height": 265
        },
        "id": "izCbwswu7OCI",
        "outputId": "d192dad0-afc9-48f6-a2b5-258310d1b902"
      },
      "source": [
        "x = df.Species\n",
        "y = df.SepalLengthCm\n",
        "plt.bar(x, y,color='b')\n",
        "plt.show()"
      ],
      "execution_count": null,
      "outputs": [
        {
          "output_type": "display_data",
          "data": {
            "image/png": "[encoded data removed]",
            "text/plain": [
              "<Figure size 432x288 with 1 Axes>"
            ]
          },
          "metadata": {
            "tags": []
          }
        }
      ]
    },
    {
      "cell_type": "markdown",
      "metadata": {
        "id": "DxqCQs9482kK"
      },
      "source": [
        "5.PIECHART"
      ]
    },
    {
      "cell_type": "code",
      "metadata": {
        "colab": {
          "base_uri": "https://localhost:8080/",
          "height": 303
        },
        "id": "jZduTVqq5cet",
        "outputId": "b2f35aad-2085-4733-e96f-42aec267d013"
      },
      "source": [
        "df['Species'].value_counts().plot.pie(autopct='%1.1f%%',shadow=True,figsize=(8,5))\n",
        "plt.legend(title = \"Species\")\n",
        "plt.show()"
      ],
      "execution_count": null,
      "outputs": [
        {
          "output_type": "display_data",
          "data": {
            "image/png": "[encoded data removed]",
            "text/plain": [
              "<Figure size 576x360 with 1 Axes>"
            ]
          },
          "metadata": {
            "tags": []
          }
        }
      ]
    },
    {
      "cell_type": "markdown",
      "metadata": {
        "id": "JpT_qlncLyVT"
      },
      "source": [
        "# **Exercise:9**"
      ]
    },
    {
      "cell_type": "markdown",
      "metadata": {
        "id": "S4F3K6p4L5tR"
      },
      "source": [
        "**a)Graph using matplotlib**"
      ]
    },
    {
      "cell_type": "code",
      "metadata": {
        "colab": {
          "base_uri": "https://localhost:8080/",
          "height": 299
        },
        "id": "iPIeZZJ8Mp8L",
        "outputId": "8bff9347-98bc-4340-e003-be3aa194db71"
      },
      "source": [
        "#Adding style to graph\n",
        "from matplotlib import style\n",
        "style.use(\"ggplot\")\n",
        "x = [5,3.7,8]\n",
        "y = [1, 16, 6.3]\n",
        "x2 = [6, 9, 11.5]\n",
        "y2 = [3,9.7, 7]\n",
        "plt.plot(x, y, 'g', label=\"X\", linewidth=5)\n",
        "plt.plot(x2, y2, 'c', label=\"Y\", linewidth=5)\n",
        "plt.xlabel(\"X axis\")\n",
        "plt.ylabel(\"Y axis\")\n",
        "plt.title(\"Sample graph\")\n",
        "plt.legend()\n",
        "plt.show()"
      ],
      "execution_count": null,
      "outputs": [
        {
          "output_type": "display_data",
          "data": {
            "image/png": "[encoded data removed]",
            "text/plain": [
              "<Figure size 432x288 with 1 Axes>"
            ]
          },
          "metadata": {
            "tags": []
          }
        }
      ]
    },
    {
      "cell_type": "code",
      "metadata": {
        "colab": {
          "base_uri": "https://localhost:8080/",
          "height": 299
        },
        "id": "1TSST3_ANeVN",
        "outputId": "0974de36-9ff5-4224-d631-f9bbe05e6141"
      },
      "source": [
        "# bar graph for categorical values\n",
        "x1 = [1.12,2.5,5,7,9]\n",
        "y1 = [5,2,7.6,8,2]\n",
        "x2 = [2,4,6.5,8,10]\n",
        "y2 = [8,6.7,2,5,6]\n",
        "plt.bar(x1, y1, label=\"Example 1\",color='b')\n",
        "plt.bar(x2, y2, label=\"Example 2\", color=\"g\")\n",
        "plt.legend()\n",
        "plt.xlabel(\"X axis\")\n",
        "plt.ylabel(\"Y axis\")\n",
        "plt.title(\"Bar graph\")\n",
        "plt.show()"
      ],
      "execution_count": null,
      "outputs": [
        {
          "output_type": "display_data",
          "data": {
            "image/png": "[encoded data removed]",
            "text/plain": [
              "<Figure size 432x288 with 1 Axes>"
            ]
          },
          "metadata": {
            "tags": []
          }
        }
      ]
    },
    {
      "cell_type": "code",
      "metadata": {
        "colab": {
          "base_uri": "https://localhost:8080/",
          "height": 299
        },
        "id": "VIwdrNCWMQm8",
        "outputId": "e6e433c1-0622-4ff5-8157-e0b1921453ea"
      },
      "source": [
        "#scatter plot\n",
        "x = [1,1.5,2,2.5,3,3.5,3.6]\n",
        "y = [7.5,8,8.5,9,9.5,10,10.5]\n",
        "plt.scatter(x,y, label='abcad',color='r')\n",
        "plt.xlabel('xyz')\n",
        "plt.ylabel('abcd')\n",
        "plt.title('Scatter Plot')\n",
        "plt.legend()\n",
        "plt.show()"
      ],
      "execution_count": null,
      "outputs": [
        {
          "output_type": "display_data",
          "data": {
            "image/png": "[encoded data removed]",
            "text/plain": [
              "<Figure size 432x288 with 1 Axes>"
            ]
          },
          "metadata": {
            "tags": []
          }
        }
      ]
    },
    {
      "cell_type": "code",
      "metadata": {
        "colab": {
          "base_uri": "https://localhost:8080/",
          "height": 409
        },
        "id": "hFVLy22E2tqx",
        "outputId": "49a02ca2-14e1-4545-ca27-43ed8206e0bd"
      },
      "source": [
        "df.hist()\n"
      ],
      "execution_count": null,
      "outputs": [
        {
          "output_type": "execute_result",
          "data": {
            "text/plain": [
              "array([[<matplotlib.axes._subplots.AxesSubplot object at 0x7feb706c3410>,\n",
              "        <matplotlib.axes._subplots.AxesSubplot object at 0x7feb705ddcd0>],\n",
              "       [<matplotlib.axes._subplots.AxesSubplot object at 0x7feb7059f1d0>,\n",
              "        <matplotlib.axes._subplots.AxesSubplot object at 0x7feb70554750>],\n",
              "       [<matplotlib.axes._subplots.AxesSubplot object at 0x7feb7050acd0>,\n",
              "        <matplotlib.axes._subplots.AxesSubplot object at 0x7feb704ca290>]],\n",
              "      dtype=object)"
            ]
          },
          "metadata": {
            "tags": []
          },
          "execution_count": 133
        },
        {
          "output_type": "display_data",
          "data": {
            "image/png": "[encoded data removed]",
            "text/plain": [
              "<Figure size 432x288 with 6 Axes>"
            ]
          },
          "metadata": {
            "tags": []
          }
        }
      ]
    },
    {
      "cell_type": "markdown",
      "metadata": {
        "id": "vkbe3JBglVaW"
      },
      "source": [
        "# **Exercise 10**\n",
        "\n",
        "> \n",
        "\n"
      ]
    },
    {
      "cell_type": "code",
      "metadata": {
        "colab": {
          "base_uri": "https://localhost:8080/",
          "height": 279
        },
        "id": "2inJUKdvs98j",
        "outputId": "ba77da15-dcce-45f3-e3e6-528dcaf43ea0"
      },
      "source": [
        "#Plotting Of Vector In 2D\n",
        "import matplotlib.pyplot as plt\n",
        "ax = plt.axes()\n",
        "ax.arrow(2.0, 4.0, 6.0, 4.0, head_width=0.5, head_length=0.7, fc='blue', ec='red')\n",
        "plt.grid()\n",
        "plt.xlim(0,10)\n",
        "plt.ylim(0,10)\n",
        "plt.title('Vector Using Matplotlib',fontsize=10)\n",
        "plt.show()"
      ],
      "execution_count": null,
      "outputs": [
        {
          "output_type": "display_data",
          "data": {
            "image/png": "[encoded data removed]",
            "text/plain": [
              "<Figure size 432x288 with 1 Axes>"
            ]
          },
          "metadata": {
            "tags": [],
            "needs_background": "light"
          }
        }
      ]
    },
    {
      "cell_type": "code",
      "metadata": {
        "colab": {
          "base_uri": "https://localhost:8080/",
          "height": 279
        },
        "id": "xjsQ3yh-tFSR",
        "outputId": "005586b1-2607-413c-c314-9198b08ee5f7"
      },
      "source": [
        "ax = plt.axes()\n",
        "ax.arrow(2.0, 4.0, 6.0, 4.0, head_width=0.5, head_length=0.7, fc='yellow', ec='red')\n",
        "ax.arrow(2.0, 4.0, 4.0, 0.0, head_width=0.5, head_length=0.7, fc='green', ec='blue')\n",
        "plt.grid()\n",
        "plt.xlim(0,10)\n",
        "plt.ylim(0,10)\n",
        "plt.title('Vector Using Matplotlib',fontsize=10)\n",
        "plt.show()"
      ],
      "execution_count": null,
      "outputs": [
        {
          "output_type": "display_data",
          "data": {
            "image/png": "[encoded data removed]",
            "text/plain": [
              "<Figure size 432x288 with 1 Axes>"
            ]
          },
          "metadata": {
            "tags": [],
            "needs_background": "light"
          }
        }
      ]
    },
    {
      "cell_type": "code",
      "metadata": {
        "colab": {
          "base_uri": "https://localhost:8080/",
          "height": 269
        },
        "id": "vY2oaNS2mt0D",
        "outputId": "a2a09169-f9ce-4daa-82bc-9085548aba4b"
      },
      "source": [
        "x = np.array([[2, 1], [-1, 2]])\n",
        "y= np.array([[1, 2], [-1, -5]])\n",
        "origin = np.array([[0, 0], [0, 0]])\n",
        "plt.xlim(-2, 5)\n",
        "plt.ylim(-2, 5)\n",
        "plt.quiver(*origin,x,y,color=['black', 'blue'], scale=15)\n",
        "plt.show()"
      ],
      "execution_count": null,
      "outputs": [
        {
          "output_type": "display_data",
          "data": {
            "image/png": "[encoded data removed]",
            "text/plain": [
              "<Figure size 432x288 with 1 Axes>"
            ]
          },
          "metadata": {
            "tags": []
          }
        }
      ]
    }
  ]
}